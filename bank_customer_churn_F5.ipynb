{
  "nbformat": 4,
  "nbformat_minor": 0,
  "metadata": {
    "colab": {
      "name": "bank-customer-churn-F5.ipynb",
      "provenance": [],
      "collapsed_sections": [],
      "include_colab_link": true
    },
    "kernelspec": {
      "name": "python3",
      "display_name": "Python 3"
    },
    "language_info": {
      "name": "python"
    }
  },
  "cells": [
    {
      "cell_type": "markdown",
      "metadata": {
        "id": "view-in-github",
        "colab_type": "text"
      },
      "source": [
        "<a href=\"https://colab.research.google.com/github/gabsgt/FIAP-EY-Fase5/blob/main/bank_customer_churn_F5.ipynb\" target=\"_parent\"><img src=\"https://colab.research.google.com/assets/colab-badge.svg\" alt=\"Open In Colab\"/></a>"
      ]
    },
    {
      "cell_type": "markdown",
      "metadata": {
        "id": "DGIad_q5Dm7G"
      },
      "source": [
        "#Objetivo:\n",
        "Classificar os clientes que provavelmente fariam portabilidade, ou seja, deixariam de ser clientes do branco."
      ]
    },
    {
      "cell_type": "code",
      "metadata": {
        "colab": {
          "base_uri": "https://localhost:8080/"
        },
        "id": "_qZ4_YDKm69k",
        "outputId": "04f4ea10-5e86-4d99-9b85-41863094e258"
      },
      "source": [
        "!pip install imblearn"
      ],
      "execution_count": 60,
      "outputs": [
        {
          "output_type": "stream",
          "name": "stdout",
          "text": [
            "Requirement already satisfied: imblearn in /usr/local/lib/python3.7/dist-packages (0.0)\n",
            "Requirement already satisfied: imbalanced-learn in /usr/local/lib/python3.7/dist-packages (from imblearn) (0.4.3)\n",
            "Requirement already satisfied: scipy>=0.13.3 in /usr/local/lib/python3.7/dist-packages (from imbalanced-learn->imblearn) (1.4.1)\n",
            "Requirement already satisfied: scikit-learn>=0.20 in /usr/local/lib/python3.7/dist-packages (from imbalanced-learn->imblearn) (0.22.2.post1)\n",
            "Requirement already satisfied: numpy>=1.8.2 in /usr/local/lib/python3.7/dist-packages (from imbalanced-learn->imblearn) (1.19.5)\n",
            "Requirement already satisfied: joblib>=0.11 in /usr/local/lib/python3.7/dist-packages (from scikit-learn>=0.20->imbalanced-learn->imblearn) (1.1.0)\n"
          ]
        }
      ]
    },
    {
      "cell_type": "code",
      "metadata": {
        "colab": {
          "base_uri": "https://localhost:8080/"
        },
        "id": "fFvVlrPoziNr",
        "outputId": "1ac6aee0-a1be-4799-f6c6-2e64d50c83e5"
      },
      "source": [
        "from google.colab import drive\n",
        "drive.mount('/content/drive')"
      ],
      "execution_count": 61,
      "outputs": [
        {
          "output_type": "stream",
          "name": "stdout",
          "text": [
            "Drive already mounted at /content/drive; to attempt to forcibly remount, call drive.mount(\"/content/drive\", force_remount=True).\n"
          ]
        }
      ]
    },
    {
      "cell_type": "markdown",
      "metadata": {
        "id": "sQhq5I8UEMLF"
      },
      "source": [
        "### Importando pacotes"
      ]
    },
    {
      "cell_type": "code",
      "metadata": {
        "id": "8N-xic5CBlu-"
      },
      "source": [
        "import pandas as pd\n",
        "import numpy as np\n",
        "import matplotlib.pyplot as plt\n",
        "import seaborn as sns\n",
        "from scipy.stats import randint\n",
        "import graphviz\n",
        "\n",
        "from sklearn.preprocessing import StandardScaler\n",
        "from sklearn.linear_model import LogisticRegression\n",
        "from sklearn.model_selection import train_test_split\n",
        "from sklearn.metrics import accuracy_score, confusion_matrix, classification_report\n",
        "from sklearn.tree import DecisionTreeClassifier\n",
        "from sklearn.metrics import confusion_matrix\n",
        "from sklearn.ensemble import RandomForestClassifier\n",
        "from sklearn import tree\n",
        "from sklearn.model_selection import RandomizedSearchCV\n",
        "from imblearn.over_sampling import SMOTE"
      ],
      "execution_count": 62,
      "outputs": []
    },
    {
      "cell_type": "code",
      "metadata": {
        "colab": {
          "base_uri": "https://localhost:8080/",
          "height": 204
        },
        "id": "Hn9l_fAKB9zW",
        "outputId": "94c96364-d906-46f7-cd76-d7653cae1da0"
      },
      "source": [
        "df = pd.read_csv('/content/drive/MyDrive/FIAP - Atividades/Fase 5/dataset/bank_customer.csv')\n",
        "df.head()"
      ],
      "execution_count": 63,
      "outputs": [
        {
          "output_type": "execute_result",
          "data": {
            "text/html": [
              "<div>\n",
              "<style scoped>\n",
              "    .dataframe tbody tr th:only-of-type {\n",
              "        vertical-align: middle;\n",
              "    }\n",
              "\n",
              "    .dataframe tbody tr th {\n",
              "        vertical-align: top;\n",
              "    }\n",
              "\n",
              "    .dataframe thead th {\n",
              "        text-align: right;\n",
              "    }\n",
              "</style>\n",
              "<table border=\"1\" class=\"dataframe\">\n",
              "  <thead>\n",
              "    <tr style=\"text-align: right;\">\n",
              "      <th></th>\n",
              "      <th>RowNumber</th>\n",
              "      <th>CustomerId</th>\n",
              "      <th>Surname</th>\n",
              "      <th>CreditScore</th>\n",
              "      <th>Geography</th>\n",
              "      <th>Gender</th>\n",
              "      <th>Age</th>\n",
              "      <th>Tenure</th>\n",
              "      <th>Balance</th>\n",
              "      <th>NumOfProducts</th>\n",
              "      <th>HasCrCard</th>\n",
              "      <th>IsActiveMember</th>\n",
              "      <th>EstimatedSalary</th>\n",
              "      <th>Exited</th>\n",
              "    </tr>\n",
              "  </thead>\n",
              "  <tbody>\n",
              "    <tr>\n",
              "      <th>0</th>\n",
              "      <td>1</td>\n",
              "      <td>15634602</td>\n",
              "      <td>Hargrave</td>\n",
              "      <td>619</td>\n",
              "      <td>France</td>\n",
              "      <td>Female</td>\n",
              "      <td>42</td>\n",
              "      <td>2</td>\n",
              "      <td>0.00</td>\n",
              "      <td>1</td>\n",
              "      <td>1</td>\n",
              "      <td>1</td>\n",
              "      <td>101348.88</td>\n",
              "      <td>1</td>\n",
              "    </tr>\n",
              "    <tr>\n",
              "      <th>1</th>\n",
              "      <td>2</td>\n",
              "      <td>15647311</td>\n",
              "      <td>Hill</td>\n",
              "      <td>608</td>\n",
              "      <td>Spain</td>\n",
              "      <td>Female</td>\n",
              "      <td>41</td>\n",
              "      <td>1</td>\n",
              "      <td>83807.86</td>\n",
              "      <td>1</td>\n",
              "      <td>0</td>\n",
              "      <td>1</td>\n",
              "      <td>112542.58</td>\n",
              "      <td>0</td>\n",
              "    </tr>\n",
              "    <tr>\n",
              "      <th>2</th>\n",
              "      <td>3</td>\n",
              "      <td>15619304</td>\n",
              "      <td>Onio</td>\n",
              "      <td>502</td>\n",
              "      <td>France</td>\n",
              "      <td>Female</td>\n",
              "      <td>42</td>\n",
              "      <td>8</td>\n",
              "      <td>159660.80</td>\n",
              "      <td>3</td>\n",
              "      <td>1</td>\n",
              "      <td>0</td>\n",
              "      <td>113931.57</td>\n",
              "      <td>1</td>\n",
              "    </tr>\n",
              "    <tr>\n",
              "      <th>3</th>\n",
              "      <td>4</td>\n",
              "      <td>15701354</td>\n",
              "      <td>Boni</td>\n",
              "      <td>699</td>\n",
              "      <td>France</td>\n",
              "      <td>Female</td>\n",
              "      <td>39</td>\n",
              "      <td>1</td>\n",
              "      <td>0.00</td>\n",
              "      <td>2</td>\n",
              "      <td>0</td>\n",
              "      <td>0</td>\n",
              "      <td>93826.63</td>\n",
              "      <td>0</td>\n",
              "    </tr>\n",
              "    <tr>\n",
              "      <th>4</th>\n",
              "      <td>5</td>\n",
              "      <td>15737888</td>\n",
              "      <td>Mitchell</td>\n",
              "      <td>850</td>\n",
              "      <td>Spain</td>\n",
              "      <td>Female</td>\n",
              "      <td>43</td>\n",
              "      <td>2</td>\n",
              "      <td>125510.82</td>\n",
              "      <td>1</td>\n",
              "      <td>1</td>\n",
              "      <td>1</td>\n",
              "      <td>79084.10</td>\n",
              "      <td>0</td>\n",
              "    </tr>\n",
              "  </tbody>\n",
              "</table>\n",
              "</div>"
            ],
            "text/plain": [
              "   RowNumber  CustomerId   Surname  ...  IsActiveMember EstimatedSalary Exited\n",
              "0          1    15634602  Hargrave  ...               1       101348.88      1\n",
              "1          2    15647311      Hill  ...               1       112542.58      0\n",
              "2          3    15619304      Onio  ...               0       113931.57      1\n",
              "3          4    15701354      Boni  ...               0        93826.63      0\n",
              "4          5    15737888  Mitchell  ...               1        79084.10      0\n",
              "\n",
              "[5 rows x 14 columns]"
            ]
          },
          "metadata": {},
          "execution_count": 63
        }
      ]
    },
    {
      "cell_type": "markdown",
      "metadata": {
        "id": "NkXPuYpMEXqn"
      },
      "source": [
        "### Análise exploratória"
      ]
    },
    {
      "cell_type": "markdown",
      "metadata": {
        "id": "MuKwezLqc9XU"
      },
      "source": [
        "Temos 10000 observações, e 14 colunas. Dados aparentemente não apresentam dados faltantes."
      ]
    },
    {
      "cell_type": "code",
      "metadata": {
        "id": "94XVl9pJCkwe",
        "colab": {
          "base_uri": "https://localhost:8080/"
        },
        "outputId": "b8fa7100-7117-4b70-80b7-b61addda53df"
      },
      "source": [
        "df.info()"
      ],
      "execution_count": 64,
      "outputs": [
        {
          "output_type": "stream",
          "name": "stdout",
          "text": [
            "<class 'pandas.core.frame.DataFrame'>\n",
            "RangeIndex: 10000 entries, 0 to 9999\n",
            "Data columns (total 14 columns):\n",
            " #   Column           Non-Null Count  Dtype  \n",
            "---  ------           --------------  -----  \n",
            " 0   RowNumber        10000 non-null  int64  \n",
            " 1   CustomerId       10000 non-null  int64  \n",
            " 2   Surname          10000 non-null  object \n",
            " 3   CreditScore      10000 non-null  int64  \n",
            " 4   Geography        10000 non-null  object \n",
            " 5   Gender           10000 non-null  object \n",
            " 6   Age              10000 non-null  int64  \n",
            " 7   Tenure           10000 non-null  int64  \n",
            " 8   Balance          10000 non-null  float64\n",
            " 9   NumOfProducts    10000 non-null  int64  \n",
            " 10  HasCrCard        10000 non-null  int64  \n",
            " 11  IsActiveMember   10000 non-null  int64  \n",
            " 12  EstimatedSalary  10000 non-null  float64\n",
            " 13  Exited           10000 non-null  int64  \n",
            "dtypes: float64(2), int64(9), object(3)\n",
            "memory usage: 1.1+ MB\n"
          ]
        }
      ]
    },
    {
      "cell_type": "markdown",
      "metadata": {
        "id": "Hl3SFls8dWlr"
      },
      "source": [
        "Deletando variaveis que não achamos importantes para o modelo."
      ]
    },
    {
      "cell_type": "code",
      "metadata": {
        "id": "eSdO5eSrc6OE"
      },
      "source": [
        "df.drop(['RowNumber', 'CustomerId', 'Surname', 'Geography'], axis=1, inplace=True)"
      ],
      "execution_count": 65,
      "outputs": []
    },
    {
      "cell_type": "code",
      "metadata": {
        "id": "59EX_Wlddik6",
        "colab": {
          "base_uri": "https://localhost:8080/",
          "height": 204
        },
        "outputId": "467c65c6-4538-40b4-9c81-d57c5ea30ef4"
      },
      "source": [
        "df.head()"
      ],
      "execution_count": 66,
      "outputs": [
        {
          "output_type": "execute_result",
          "data": {
            "text/html": [
              "<div>\n",
              "<style scoped>\n",
              "    .dataframe tbody tr th:only-of-type {\n",
              "        vertical-align: middle;\n",
              "    }\n",
              "\n",
              "    .dataframe tbody tr th {\n",
              "        vertical-align: top;\n",
              "    }\n",
              "\n",
              "    .dataframe thead th {\n",
              "        text-align: right;\n",
              "    }\n",
              "</style>\n",
              "<table border=\"1\" class=\"dataframe\">\n",
              "  <thead>\n",
              "    <tr style=\"text-align: right;\">\n",
              "      <th></th>\n",
              "      <th>CreditScore</th>\n",
              "      <th>Gender</th>\n",
              "      <th>Age</th>\n",
              "      <th>Tenure</th>\n",
              "      <th>Balance</th>\n",
              "      <th>NumOfProducts</th>\n",
              "      <th>HasCrCard</th>\n",
              "      <th>IsActiveMember</th>\n",
              "      <th>EstimatedSalary</th>\n",
              "      <th>Exited</th>\n",
              "    </tr>\n",
              "  </thead>\n",
              "  <tbody>\n",
              "    <tr>\n",
              "      <th>0</th>\n",
              "      <td>619</td>\n",
              "      <td>Female</td>\n",
              "      <td>42</td>\n",
              "      <td>2</td>\n",
              "      <td>0.00</td>\n",
              "      <td>1</td>\n",
              "      <td>1</td>\n",
              "      <td>1</td>\n",
              "      <td>101348.88</td>\n",
              "      <td>1</td>\n",
              "    </tr>\n",
              "    <tr>\n",
              "      <th>1</th>\n",
              "      <td>608</td>\n",
              "      <td>Female</td>\n",
              "      <td>41</td>\n",
              "      <td>1</td>\n",
              "      <td>83807.86</td>\n",
              "      <td>1</td>\n",
              "      <td>0</td>\n",
              "      <td>1</td>\n",
              "      <td>112542.58</td>\n",
              "      <td>0</td>\n",
              "    </tr>\n",
              "    <tr>\n",
              "      <th>2</th>\n",
              "      <td>502</td>\n",
              "      <td>Female</td>\n",
              "      <td>42</td>\n",
              "      <td>8</td>\n",
              "      <td>159660.80</td>\n",
              "      <td>3</td>\n",
              "      <td>1</td>\n",
              "      <td>0</td>\n",
              "      <td>113931.57</td>\n",
              "      <td>1</td>\n",
              "    </tr>\n",
              "    <tr>\n",
              "      <th>3</th>\n",
              "      <td>699</td>\n",
              "      <td>Female</td>\n",
              "      <td>39</td>\n",
              "      <td>1</td>\n",
              "      <td>0.00</td>\n",
              "      <td>2</td>\n",
              "      <td>0</td>\n",
              "      <td>0</td>\n",
              "      <td>93826.63</td>\n",
              "      <td>0</td>\n",
              "    </tr>\n",
              "    <tr>\n",
              "      <th>4</th>\n",
              "      <td>850</td>\n",
              "      <td>Female</td>\n",
              "      <td>43</td>\n",
              "      <td>2</td>\n",
              "      <td>125510.82</td>\n",
              "      <td>1</td>\n",
              "      <td>1</td>\n",
              "      <td>1</td>\n",
              "      <td>79084.10</td>\n",
              "      <td>0</td>\n",
              "    </tr>\n",
              "  </tbody>\n",
              "</table>\n",
              "</div>"
            ],
            "text/plain": [
              "   CreditScore  Gender  Age  ...  IsActiveMember  EstimatedSalary  Exited\n",
              "0          619  Female   42  ...               1        101348.88       1\n",
              "1          608  Female   41  ...               1        112542.58       0\n",
              "2          502  Female   42  ...               0        113931.57       1\n",
              "3          699  Female   39  ...               0         93826.63       0\n",
              "4          850  Female   43  ...               1         79084.10       0\n",
              "\n",
              "[5 rows x 10 columns]"
            ]
          },
          "metadata": {},
          "execution_count": 66
        }
      ]
    },
    {
      "cell_type": "markdown",
      "metadata": {
        "id": "Ge3Vz97oda8t"
      },
      "source": [
        "Vamos explorar cada variável"
      ]
    },
    {
      "cell_type": "markdown",
      "metadata": {
        "id": "-ocI4kGVgDZJ"
      },
      "source": [
        "Categóricas:"
      ]
    },
    {
      "cell_type": "code",
      "metadata": {
        "id": "ZRBt8XyBeGia",
        "colab": {
          "base_uri": "https://localhost:8080/"
        },
        "outputId": "1f8e07e4-ade9-46b2-c274-6c3d460272ea"
      },
      "source": [
        "df['Exited'].value_counts()"
      ],
      "execution_count": 67,
      "outputs": [
        {
          "output_type": "execute_result",
          "data": {
            "text/plain": [
              "0    7963\n",
              "1    2037\n",
              "Name: Exited, dtype: int64"
            ]
          },
          "metadata": {},
          "execution_count": 67
        }
      ]
    },
    {
      "cell_type": "code",
      "metadata": {
        "id": "5I3FDKXZed-E",
        "colab": {
          "base_uri": "https://localhost:8080/"
        },
        "outputId": "8491f68d-f52a-4f33-aab2-370769efee3a"
      },
      "source": [
        "df['Exited'].value_counts(normalize=True)"
      ],
      "execution_count": 68,
      "outputs": [
        {
          "output_type": "execute_result",
          "data": {
            "text/plain": [
              "0    0.7963\n",
              "1    0.2037\n",
              "Name: Exited, dtype: float64"
            ]
          },
          "metadata": {},
          "execution_count": 68
        }
      ]
    },
    {
      "cell_type": "markdown",
      "metadata": {
        "id": "25Tsjp4KfAJD"
      },
      "source": [
        "Vemos que 20% da base de clientes saíram do portfolio. O que no nosso modelo corresponderia que 20% poderia fazer uma portabilidade."
      ]
    },
    {
      "cell_type": "code",
      "metadata": {
        "id": "qTKes_6ue8mC",
        "colab": {
          "base_uri": "https://localhost:8080/"
        },
        "outputId": "f32eff36-fb9d-4532-f0d1-e57317fa0c3e"
      },
      "source": [
        "df['Gender'].value_counts()"
      ],
      "execution_count": 69,
      "outputs": [
        {
          "output_type": "execute_result",
          "data": {
            "text/plain": [
              "Male      5457\n",
              "Female    4543\n",
              "Name: Gender, dtype: int64"
            ]
          },
          "metadata": {},
          "execution_count": 69
        }
      ]
    },
    {
      "cell_type": "code",
      "metadata": {
        "id": "uW9E8YfOfj1-",
        "colab": {
          "base_uri": "https://localhost:8080/"
        },
        "outputId": "3f88ad84-f052-4b6e-db72-10542178800a"
      },
      "source": [
        "df['Tenure'].value_counts(sort=True)"
      ],
      "execution_count": 70,
      "outputs": [
        {
          "output_type": "execute_result",
          "data": {
            "text/plain": [
              "2     1048\n",
              "1     1035\n",
              "7     1028\n",
              "8     1025\n",
              "5     1012\n",
              "3     1009\n",
              "4      989\n",
              "9      984\n",
              "6      967\n",
              "10     490\n",
              "0      413\n",
              "Name: Tenure, dtype: int64"
            ]
          },
          "metadata": {},
          "execution_count": 70
        }
      ]
    },
    {
      "cell_type": "code",
      "metadata": {
        "id": "xtDT8fCbfml8",
        "colab": {
          "base_uri": "https://localhost:8080/",
          "height": 282
        },
        "outputId": "a3592f34-bd6a-405c-9e28-ab20cd7696cf"
      },
      "source": [
        "df['Age'].hist()"
      ],
      "execution_count": 71,
      "outputs": [
        {
          "output_type": "execute_result",
          "data": {
            "text/plain": [
              "<matplotlib.axes._subplots.AxesSubplot at 0x7fb12f37a150>"
            ]
          },
          "metadata": {},
          "execution_count": 71
        },
        {
          "output_type": "display_data",
          "data": {
            "image/png": "[encoded data removed]",
            "text/plain": [
              "<Figure size 432x288 with 1 Axes>"
            ]
          },
          "metadata": {
            "needs_background": "light"
          }
        }
      ]
    },
    {
      "cell_type": "code",
      "metadata": {
        "id": "ee8828AJfrcT",
        "colab": {
          "base_uri": "https://localhost:8080/"
        },
        "outputId": "d7992ddc-9345-45a7-8298-ebe219482108"
      },
      "source": [
        "df['NumOfProducts'].value_counts()"
      ],
      "execution_count": 72,
      "outputs": [
        {
          "output_type": "execute_result",
          "data": {
            "text/plain": [
              "1    5084\n",
              "2    4590\n",
              "3     266\n",
              "4      60\n",
              "Name: NumOfProducts, dtype: int64"
            ]
          },
          "metadata": {},
          "execution_count": 72
        }
      ]
    },
    {
      "cell_type": "code",
      "metadata": {
        "id": "Kk-5g64AfzBc",
        "colab": {
          "base_uri": "https://localhost:8080/"
        },
        "outputId": "5c482b66-bcef-4e52-ecd2-72b9e32c2d6a"
      },
      "source": [
        "df['IsActiveMember'].value_counts()"
      ],
      "execution_count": 73,
      "outputs": [
        {
          "output_type": "execute_result",
          "data": {
            "text/plain": [
              "1    5151\n",
              "0    4849\n",
              "Name: IsActiveMember, dtype: int64"
            ]
          },
          "metadata": {},
          "execution_count": 73
        }
      ]
    },
    {
      "cell_type": "markdown",
      "metadata": {
        "id": "m2utzSWbgF4q"
      },
      "source": [
        "Numéricas:"
      ]
    },
    {
      "cell_type": "code",
      "metadata": {
        "id": "g_d9Eqggf-nE",
        "colab": {
          "base_uri": "https://localhost:8080/",
          "height": 282
        },
        "outputId": "19e61b10-a629-46a6-baa5-5213e7475014"
      },
      "source": [
        "df['CreditScore'].hist()"
      ],
      "execution_count": 74,
      "outputs": [
        {
          "output_type": "execute_result",
          "data": {
            "text/plain": [
              "<matplotlib.axes._subplots.AxesSubplot at 0x7fb12f2ff4d0>"
            ]
          },
          "metadata": {},
          "execution_count": 74
        },
        {
          "output_type": "display_data",
          "data": {
            "image/png": "[encoded data removed]",
            "text/plain": [
              "<Figure size 432x288 with 1 Axes>"
            ]
          },
          "metadata": {
            "needs_background": "light"
          }
        }
      ]
    },
    {
      "cell_type": "code",
      "metadata": {
        "id": "K5vlSOPFhb4G",
        "colab": {
          "base_uri": "https://localhost:8080/",
          "height": 469
        },
        "outputId": "bc553bb9-f874-4266-8fb3-381d297cbc83"
      },
      "source": [
        "plt.figure(figsize=(6,8))\n",
        "sns.boxplot(y=df['CreditScore'])\n",
        "plt.show()"
      ],
      "execution_count": 75,
      "outputs": [
        {
          "output_type": "display_data",
          "data": {
            "image/png": "[encoded data removed]",
            "text/plain": [
              "<Figure size 432x576 with 1 Axes>"
            ]
          },
          "metadata": {
            "needs_background": "light"
          }
        }
      ]
    },
    {
      "cell_type": "markdown",
      "metadata": {
        "id": "IUzu3gsChhiE"
      },
      "source": [
        "Encontram-se outliers com score baixo."
      ]
    },
    {
      "cell_type": "code",
      "metadata": {
        "id": "5_t2FCZRgJ39",
        "colab": {
          "base_uri": "https://localhost:8080/",
          "height": 282
        },
        "outputId": "84c140ed-e827-4072-ad9f-e3283a5b7635"
      },
      "source": [
        "df['Balance'].hist()"
      ],
      "execution_count": 76,
      "outputs": [
        {
          "output_type": "execute_result",
          "data": {
            "text/plain": [
              "<matplotlib.axes._subplots.AxesSubplot at 0x7fb12f1f6690>"
            ]
          },
          "metadata": {},
          "execution_count": 76
        },
        {
          "output_type": "display_data",
          "data": {
            "image/png": "[encoded data removed]",
            "text/plain": [
              "<Figure size 432x288 with 1 Axes>"
            ]
          },
          "metadata": {
            "needs_background": "light"
          }
        }
      ]
    },
    {
      "cell_type": "code",
      "metadata": {
        "id": "wPe781g3hY45",
        "colab": {
          "base_uri": "https://localhost:8080/",
          "height": 469
        },
        "outputId": "4d7a6d5f-27ff-4446-d3f5-31c2bf033566"
      },
      "source": [
        "plt.figure(figsize=(6,8))\n",
        "sns.boxplot(y=df['Balance'])\n",
        "plt.show()"
      ],
      "execution_count": 77,
      "outputs": [
        {
          "output_type": "display_data",
          "data": {
            "image/png": "[encoded data removed]",
            "text/plain": [
              "<Figure size 432x576 with 1 Axes>"
            ]
          },
          "metadata": {
            "needs_background": "light"
          }
        }
      ]
    },
    {
      "cell_type": "code",
      "metadata": {
        "id": "K-DNHjI4gNUq",
        "colab": {
          "base_uri": "https://localhost:8080/"
        },
        "outputId": "02228588-af2e-41f0-adc0-b3f1063f7643"
      },
      "source": [
        "df['EstimatedSalary'].describe().T"
      ],
      "execution_count": 78,
      "outputs": [
        {
          "output_type": "execute_result",
          "data": {
            "text/plain": [
              "count     10000.000000\n",
              "mean     100090.239881\n",
              "std       57510.492818\n",
              "min          11.580000\n",
              "25%       51002.110000\n",
              "50%      100193.915000\n",
              "75%      149388.247500\n",
              "max      199992.480000\n",
              "Name: EstimatedSalary, dtype: float64"
            ]
          },
          "metadata": {},
          "execution_count": 78
        }
      ]
    },
    {
      "cell_type": "code",
      "metadata": {
        "id": "BXKR-S5CgRCt",
        "colab": {
          "base_uri": "https://localhost:8080/",
          "height": 469
        },
        "outputId": "7b60cb24-de90-4680-ee64-8e16d5491d19"
      },
      "source": [
        "plt.figure(figsize=(6,8))\n",
        "sns.boxplot(y=df['EstimatedSalary'])\n",
        "plt.show()"
      ],
      "execution_count": 79,
      "outputs": [
        {
          "output_type": "display_data",
          "data": {
            "image/png": "[encoded data removed]",
            "text/plain": [
              "<Figure size 432x576 with 1 Axes>"
            ]
          },
          "metadata": {
            "needs_background": "light"
          }
        }
      ]
    },
    {
      "cell_type": "code",
      "metadata": {
        "id": "OsshwNDGgcG6",
        "colab": {
          "base_uri": "https://localhost:8080/",
          "height": 467
        },
        "outputId": "883dc7a1-5d73-457f-8e42-d8931de667cf"
      },
      "source": [
        "k = 10\n",
        "cols = df.corr().nlargest(k, 'Exited')['Exited'].index\n",
        "cm = df[cols].corr()\n",
        "plt.figure(figsize=(10,6))\n",
        "sns.heatmap(cm, annot=True, cmap = 'viridis')"
      ],
      "execution_count": 80,
      "outputs": [
        {
          "output_type": "execute_result",
          "data": {
            "text/plain": [
              "<matplotlib.axes._subplots.AxesSubplot at 0x7fb12f274a50>"
            ]
          },
          "metadata": {},
          "execution_count": 80
        },
        {
          "output_type": "display_data",
          "data": {
            "image/png": "[encoded data removed]",
            "text/plain": [
              "<Figure size 720x432 with 2 Axes>"
            ]
          },
          "metadata": {
            "needs_background": "light"
          }
        }
      ]
    },
    {
      "cell_type": "markdown",
      "metadata": {
        "id": "RiYEUFAJkgd2"
      },
      "source": [
        "### Feature Engineering"
      ]
    },
    {
      "cell_type": "code",
      "metadata": {
        "id": "LjuYIYcZCbUQ"
      },
      "source": [
        "df.drop(['Gender', 'Age'], axis=1, inplace=True)"
      ],
      "execution_count": 81,
      "outputs": []
    },
    {
      "cell_type": "code",
      "metadata": {
        "id": "tJmtzFGSoY-D"
      },
      "source": [
        "df.drop('IsActiveMember', axis=1, inplace=True)"
      ],
      "execution_count": 110,
      "outputs": []
    },
    {
      "cell_type": "code",
      "metadata": {
        "id": "mU88YHElp3mM",
        "colab": {
          "base_uri": "https://localhost:8080/",
          "height": 204
        },
        "outputId": "26154723-e82b-4e1a-8d00-1bdce9e82e6b"
      },
      "source": [
        "df.head()"
      ],
      "execution_count": 111,
      "outputs": [
        {
          "output_type": "execute_result",
          "data": {
            "text/html": [
              "<div>\n",
              "<style scoped>\n",
              "    .dataframe tbody tr th:only-of-type {\n",
              "        vertical-align: middle;\n",
              "    }\n",
              "\n",
              "    .dataframe tbody tr th {\n",
              "        vertical-align: top;\n",
              "    }\n",
              "\n",
              "    .dataframe thead th {\n",
              "        text-align: right;\n",
              "    }\n",
              "</style>\n",
              "<table border=\"1\" class=\"dataframe\">\n",
              "  <thead>\n",
              "    <tr style=\"text-align: right;\">\n",
              "      <th></th>\n",
              "      <th>CreditScore</th>\n",
              "      <th>Tenure</th>\n",
              "      <th>Balance</th>\n",
              "      <th>NumOfProducts</th>\n",
              "      <th>HasCrCard</th>\n",
              "      <th>EstimatedSalary</th>\n",
              "      <th>Exited</th>\n",
              "    </tr>\n",
              "  </thead>\n",
              "  <tbody>\n",
              "    <tr>\n",
              "      <th>0</th>\n",
              "      <td>-0.326221</td>\n",
              "      <td>-1.041760</td>\n",
              "      <td>-1.225848</td>\n",
              "      <td>-0.911583</td>\n",
              "      <td>1</td>\n",
              "      <td>0.021886</td>\n",
              "      <td>1</td>\n",
              "    </tr>\n",
              "    <tr>\n",
              "      <th>1</th>\n",
              "      <td>-0.440036</td>\n",
              "      <td>-1.387538</td>\n",
              "      <td>0.117350</td>\n",
              "      <td>-0.911583</td>\n",
              "      <td>0</td>\n",
              "      <td>0.216534</td>\n",
              "      <td>0</td>\n",
              "    </tr>\n",
              "    <tr>\n",
              "      <th>2</th>\n",
              "      <td>-1.536794</td>\n",
              "      <td>1.032908</td>\n",
              "      <td>1.333053</td>\n",
              "      <td>2.527057</td>\n",
              "      <td>1</td>\n",
              "      <td>0.240687</td>\n",
              "      <td>1</td>\n",
              "    </tr>\n",
              "    <tr>\n",
              "      <th>3</th>\n",
              "      <td>0.501521</td>\n",
              "      <td>-1.387538</td>\n",
              "      <td>-1.225848</td>\n",
              "      <td>0.807737</td>\n",
              "      <td>0</td>\n",
              "      <td>-0.108918</td>\n",
              "      <td>0</td>\n",
              "    </tr>\n",
              "    <tr>\n",
              "      <th>4</th>\n",
              "      <td>2.063884</td>\n",
              "      <td>-1.041760</td>\n",
              "      <td>0.785728</td>\n",
              "      <td>-0.911583</td>\n",
              "      <td>1</td>\n",
              "      <td>-0.365276</td>\n",
              "      <td>0</td>\n",
              "    </tr>\n",
              "  </tbody>\n",
              "</table>\n",
              "</div>"
            ],
            "text/plain": [
              "   CreditScore    Tenure   Balance  ...  HasCrCard  EstimatedSalary  Exited\n",
              "0    -0.326221 -1.041760 -1.225848  ...          1         0.021886       1\n",
              "1    -0.440036 -1.387538  0.117350  ...          0         0.216534       0\n",
              "2    -1.536794  1.032908  1.333053  ...          1         0.240687       1\n",
              "3     0.501521 -1.387538 -1.225848  ...          0        -0.108918       0\n",
              "4     2.063884 -1.041760  0.785728  ...          1        -0.365276       0\n",
              "\n",
              "[5 rows x 7 columns]"
            ]
          },
          "metadata": {},
          "execution_count": 111
        }
      ]
    },
    {
      "cell_type": "markdown",
      "metadata": {
        "id": "zfCMXs7CkROG"
      },
      "source": [
        "Como vimos acima, o dataset está desbalanceado por possuir apenas 20% dos clientes da classe 'Exited'. Será necessário balancear os dados para o modelo aprender melhor. Para isto, vamos usar a técnica SMOTE."
      ]
    },
    {
      "cell_type": "code",
      "metadata": {
        "id": "5GBmFYbJnfJo"
      },
      "source": [
        "smt = SMOTE()"
      ],
      "execution_count": 112,
      "outputs": []
    },
    {
      "cell_type": "code",
      "metadata": {
        "id": "-WJ8MZZcnf8O"
      },
      "source": [
        "X = df.drop(['Exited'], axis=1)\n",
        "y = df['Exited']"
      ],
      "execution_count": 113,
      "outputs": []
    },
    {
      "cell_type": "code",
      "metadata": {
        "colab": {
          "base_uri": "https://localhost:8080/"
        },
        "id": "IARgWbDWnmkD",
        "outputId": "05d023bc-8ad6-47ba-f2fc-d0a8dc3fe892"
      },
      "source": [
        "X, y = smt.fit_sample(X, y)"
      ],
      "execution_count": 114,
      "outputs": [
        {
          "output_type": "stream",
          "name": "stderr",
          "text": [
            "/usr/local/lib/python3.7/dist-packages/sklearn/utils/deprecation.py:87: FutureWarning: Function safe_indexing is deprecated; safe_indexing is deprecated in version 0.22 and will be removed in version 0.24.\n",
            "  warnings.warn(msg, category=FutureWarning)\n"
          ]
        }
      ]
    },
    {
      "cell_type": "code",
      "metadata": {
        "colab": {
          "base_uri": "https://localhost:8080/"
        },
        "id": "0au_LhcMnroB",
        "outputId": "da2ca8eb-45ed-48f9-e8de-6dcd1e6e582d"
      },
      "source": [
        "np.bincount(y)"
      ],
      "execution_count": 115,
      "outputs": [
        {
          "output_type": "execute_result",
          "data": {
            "text/plain": [
              "array([7963, 7963])"
            ]
          },
          "metadata": {},
          "execution_count": 115
        }
      ]
    },
    {
      "cell_type": "code",
      "metadata": {
        "id": "JT5W6D47twe6"
      },
      "source": [
        "scaler = StandardScaler()\n",
        "df['Balance'] = scaler.fit_transform(df[['Balance']])\n",
        "df['EstimatedSalary'] = scaler.fit_transform(df[['EstimatedSalary']])\n",
        "df['CreditScore'] = scaler.fit_transform(df[['CreditScore']])\n",
        "df['Tenure'] = scaler.fit_transform(df[['Tenure']])\n",
        "df['NumOfProducts'] = scaler.fit_transform(df[['NumOfProducts']])"
      ],
      "execution_count": 116,
      "outputs": []
    },
    {
      "cell_type": "code",
      "metadata": {
        "id": "_5vNvROiuk0Y",
        "colab": {
          "base_uri": "https://localhost:8080/",
          "height": 204
        },
        "outputId": "6cb3e8fa-13fe-4589-e87b-eb6c9cbf0940"
      },
      "source": [
        "df.head()"
      ],
      "execution_count": 117,
      "outputs": [
        {
          "output_type": "execute_result",
          "data": {
            "text/html": [
              "<div>\n",
              "<style scoped>\n",
              "    .dataframe tbody tr th:only-of-type {\n",
              "        vertical-align: middle;\n",
              "    }\n",
              "\n",
              "    .dataframe tbody tr th {\n",
              "        vertical-align: top;\n",
              "    }\n",
              "\n",
              "    .dataframe thead th {\n",
              "        text-align: right;\n",
              "    }\n",
              "</style>\n",
              "<table border=\"1\" class=\"dataframe\">\n",
              "  <thead>\n",
              "    <tr style=\"text-align: right;\">\n",
              "      <th></th>\n",
              "      <th>CreditScore</th>\n",
              "      <th>Tenure</th>\n",
              "      <th>Balance</th>\n",
              "      <th>NumOfProducts</th>\n",
              "      <th>HasCrCard</th>\n",
              "      <th>EstimatedSalary</th>\n",
              "      <th>Exited</th>\n",
              "    </tr>\n",
              "  </thead>\n",
              "  <tbody>\n",
              "    <tr>\n",
              "      <th>0</th>\n",
              "      <td>-0.326221</td>\n",
              "      <td>-1.041760</td>\n",
              "      <td>-1.225848</td>\n",
              "      <td>-0.911583</td>\n",
              "      <td>1</td>\n",
              "      <td>0.021886</td>\n",
              "      <td>1</td>\n",
              "    </tr>\n",
              "    <tr>\n",
              "      <th>1</th>\n",
              "      <td>-0.440036</td>\n",
              "      <td>-1.387538</td>\n",
              "      <td>0.117350</td>\n",
              "      <td>-0.911583</td>\n",
              "      <td>0</td>\n",
              "      <td>0.216534</td>\n",
              "      <td>0</td>\n",
              "    </tr>\n",
              "    <tr>\n",
              "      <th>2</th>\n",
              "      <td>-1.536794</td>\n",
              "      <td>1.032908</td>\n",
              "      <td>1.333053</td>\n",
              "      <td>2.527057</td>\n",
              "      <td>1</td>\n",
              "      <td>0.240687</td>\n",
              "      <td>1</td>\n",
              "    </tr>\n",
              "    <tr>\n",
              "      <th>3</th>\n",
              "      <td>0.501521</td>\n",
              "      <td>-1.387538</td>\n",
              "      <td>-1.225848</td>\n",
              "      <td>0.807737</td>\n",
              "      <td>0</td>\n",
              "      <td>-0.108918</td>\n",
              "      <td>0</td>\n",
              "    </tr>\n",
              "    <tr>\n",
              "      <th>4</th>\n",
              "      <td>2.063884</td>\n",
              "      <td>-1.041760</td>\n",
              "      <td>0.785728</td>\n",
              "      <td>-0.911583</td>\n",
              "      <td>1</td>\n",
              "      <td>-0.365276</td>\n",
              "      <td>0</td>\n",
              "    </tr>\n",
              "  </tbody>\n",
              "</table>\n",
              "</div>"
            ],
            "text/plain": [
              "   CreditScore    Tenure   Balance  ...  HasCrCard  EstimatedSalary  Exited\n",
              "0    -0.326221 -1.041760 -1.225848  ...          1         0.021886       1\n",
              "1    -0.440036 -1.387538  0.117350  ...          0         0.216534       0\n",
              "2    -1.536794  1.032908  1.333053  ...          1         0.240687       1\n",
              "3     0.501521 -1.387538 -1.225848  ...          0        -0.108918       0\n",
              "4     2.063884 -1.041760  0.785728  ...          1        -0.365276       0\n",
              "\n",
              "[5 rows x 7 columns]"
            ]
          },
          "metadata": {},
          "execution_count": 117
        }
      ]
    },
    {
      "cell_type": "markdown",
      "metadata": {
        "id": "AJL_fPj_rbvr"
      },
      "source": [
        "### Modelling"
      ]
    },
    {
      "cell_type": "markdown",
      "metadata": {
        "id": "EkGcM1mzsGwz"
      },
      "source": [
        "Separando X e Y:"
      ]
    },
    {
      "cell_type": "code",
      "metadata": {
        "id": "cSnKnqB8sVaX"
      },
      "source": [
        "X_train, X_test, y_train, y_test = train_test_split(X, y, random_state = 1, stratify=y, test_size=0.2)"
      ],
      "execution_count": 118,
      "outputs": []
    },
    {
      "cell_type": "markdown",
      "metadata": {
        "id": "tyPQ17riE-qQ"
      },
      "source": [
        "Função para o score report:"
      ]
    },
    {
      "cell_type": "code",
      "metadata": {
        "id": "fXnEml-3ENYm"
      },
      "source": [
        "def print_score(clf, X_train, y_train, X_test, y_test, train=True):\n",
        "    if train:\n",
        "        pred = clf.predict(X_train)\n",
        "        clf_report = pd.DataFrame(classification_report(y_train, pred, output_dict=True))\n",
        "        print(\"Train Result:\\n================================================\")\n",
        "        print(f\"Accuracy Score: {accuracy_score(y_train, pred) * 100:.2f}%\")\n",
        "        print(\"_______________________________________________\")\n",
        "        print(f\"CLASSIFICATION REPORT:\\n{clf_report}\")\n",
        "        print(\"_______________________________________________\")\n",
        "        print(f\"Confusion Matrix: \\n {confusion_matrix(y_train, pred)}\\n\")\n",
        "        \n",
        "    elif train==False:\n",
        "        pred = clf.predict(X_test)\n",
        "        clf_report = pd.DataFrame(classification_report(y_test, pred, output_dict=True))\n",
        "        print(\"Test Result:\\n================================================\")        \n",
        "        print(f\"Accuracy Score: {accuracy_score(y_test, pred) * 100:.2f}%\")\n",
        "        print(\"_______________________________________________\")\n",
        "        print(f\"CLASSIFICATION REPORT:\\n{clf_report}\")\n",
        "        print(\"_______________________________________________\")\n",
        "        print(f\"Confusion Matrix: \\n {confusion_matrix(y_test, pred)}\\n\")"
      ],
      "execution_count": 119,
      "outputs": []
    },
    {
      "cell_type": "markdown",
      "metadata": {
        "id": "ma_jUzsUitya"
      },
      "source": [
        "Positivo: o cliente fará a portabilidade\n",
        "\n",
        "Negativo: o cliente não fará a portabilidade\n",
        "\n",
        "Falso Positivo: diz que fará a portabilidade, mas não faz. \n",
        "\n",
        "Falso Negativo: diz que não fará a portabilidade, mas faz. \n",
        "\n",
        "Verdadeiro Positivo: Diz que fará a portabilidade, e faz.\n",
        "\n",
        "Verdadeiro negativo: diz que não fará a portabilidade, e não faz."
      ]
    },
    {
      "cell_type": "markdown",
      "metadata": {
        "id": "jlgkPCT7tOOY"
      },
      "source": [
        "### Regressão Logística:"
      ]
    },
    {
      "cell_type": "code",
      "metadata": {
        "id": "KxcKO5dBq-NJ"
      },
      "source": [
        "lr = LogisticRegression()"
      ],
      "execution_count": 120,
      "outputs": []
    },
    {
      "cell_type": "code",
      "metadata": {
        "id": "BA48pGIvr4k2",
        "colab": {
          "base_uri": "https://localhost:8080/"
        },
        "outputId": "8232e64c-2018-4ff4-d062-6d8070965d15"
      },
      "source": [
        "lr.fit(X_train, y_train)"
      ],
      "execution_count": 121,
      "outputs": [
        {
          "output_type": "execute_result",
          "data": {
            "text/plain": [
              "LogisticRegression(C=1.0, class_weight=None, dual=False, fit_intercept=True,\n",
              "                   intercept_scaling=1, l1_ratio=None, max_iter=100,\n",
              "                   multi_class='auto', n_jobs=None, penalty='l2',\n",
              "                   random_state=None, solver='lbfgs', tol=0.0001, verbose=0,\n",
              "                   warm_start=False)"
            ]
          },
          "metadata": {},
          "execution_count": 121
        }
      ]
    },
    {
      "cell_type": "code",
      "metadata": {
        "id": "VoRs7nausrAM"
      },
      "source": [
        "y_pred = lr.predict(X_test)"
      ],
      "execution_count": 122,
      "outputs": []
    },
    {
      "cell_type": "code",
      "metadata": {
        "id": "3pNeBBBtsszE",
        "colab": {
          "base_uri": "https://localhost:8080/"
        },
        "outputId": "dca3198c-33c0-42f6-e65c-07a9d166e0d5"
      },
      "source": [
        "print(accuracy_score(y_test, y_pred)*100)"
      ],
      "execution_count": 123,
      "outputs": [
        {
          "output_type": "stream",
          "name": "stdout",
          "text": [
            "56.340238543628374\n"
          ]
        }
      ]
    },
    {
      "cell_type": "code",
      "metadata": {
        "id": "9FY0gTRgsvfI",
        "colab": {
          "base_uri": "https://localhost:8080/"
        },
        "outputId": "d7623ad8-db35-4ee1-925d-811e3370b152"
      },
      "source": [
        "print(classification_report(y_test, y_pred))"
      ],
      "execution_count": 124,
      "outputs": [
        {
          "output_type": "stream",
          "name": "stdout",
          "text": [
            "              precision    recall  f1-score   support\n",
            "\n",
            "           0       0.58      0.46      0.51      1593\n",
            "           1       0.55      0.66      0.60      1593\n",
            "\n",
            "    accuracy                           0.56      3186\n",
            "   macro avg       0.57      0.56      0.56      3186\n",
            "weighted avg       0.57      0.56      0.56      3186\n",
            "\n"
          ]
        }
      ]
    },
    {
      "cell_type": "markdown",
      "metadata": {
        "id": "Bb4xlIfPoR1r"
      },
      "source": [
        "O resultado do modelo de Regressão Logística não é tão satisfatório. Vamos explorar um outro."
      ]
    },
    {
      "cell_type": "markdown",
      "metadata": {
        "id": "VQeN0VmltcK3"
      },
      "source": [
        "### Árvore de Decisão"
      ]
    },
    {
      "cell_type": "code",
      "metadata": {
        "id": "wDGMrAxDs-gq",
        "colab": {
          "base_uri": "https://localhost:8080/"
        },
        "outputId": "24ee89c7-4b72-4dbd-ae1b-9d628f1caf8d"
      },
      "source": [
        "clf = DecisionTreeClassifier(max_depth=5)\n",
        "clf.fit(X_train, y_train)"
      ],
      "execution_count": 125,
      "outputs": [
        {
          "output_type": "execute_result",
          "data": {
            "text/plain": [
              "DecisionTreeClassifier(ccp_alpha=0.0, class_weight=None, criterion='gini',\n",
              "                       max_depth=5, max_features=None, max_leaf_nodes=None,\n",
              "                       min_impurity_decrease=0.0, min_impurity_split=None,\n",
              "                       min_samples_leaf=1, min_samples_split=2,\n",
              "                       min_weight_fraction_leaf=0.0, presort='deprecated',\n",
              "                       random_state=None, splitter='best')"
            ]
          },
          "metadata": {},
          "execution_count": 125
        }
      ]
    },
    {
      "cell_type": "code",
      "metadata": {
        "id": "qR6RfpM0Ed4b",
        "colab": {
          "base_uri": "https://localhost:8080/"
        },
        "outputId": "75865822-1e5a-4a40-bf6d-878556963d53"
      },
      "source": [
        "print_score(clf, X_train, y_train, X_test, y_test, train=True)\n",
        "print_score(clf, X_train, y_train, X_test, y_test, train=False)"
      ],
      "execution_count": 126,
      "outputs": [
        {
          "output_type": "stream",
          "name": "stdout",
          "text": [
            "Train Result:\n",
            "================================================\n",
            "Accuracy Score: 69.99%\n",
            "_______________________________________________\n",
            "CLASSIFICATION REPORT:\n",
            "                     0            1  accuracy     macro avg  weighted avg\n",
            "precision     0.735528     0.673667  0.699922      0.704598      0.704598\n",
            "recall        0.624333     0.775510  0.699922      0.699922      0.699922\n",
            "f1-score      0.675384     0.721010  0.699922      0.698197      0.698197\n",
            "support    6370.000000  6370.000000  0.699922  12740.000000  12740.000000\n",
            "_______________________________________________\n",
            "Confusion Matrix: \n",
            " [[3977 2393]\n",
            " [1430 4940]]\n",
            "\n",
            "Test Result:\n",
            "================================================\n",
            "Accuracy Score: 68.02%\n",
            "_______________________________________________\n",
            "CLASSIFICATION REPORT:\n",
            "                     0            1  accuracy    macro avg  weighted avg\n",
            "precision     0.720769     0.652174  0.680163     0.686472      0.686472\n",
            "recall        0.588198     0.772128  0.680163     0.680163      0.680163\n",
            "f1-score      0.647770     0.707100  0.680163     0.677435      0.677435\n",
            "support    1593.000000  1593.000000  0.680163  3186.000000   3186.000000\n",
            "_______________________________________________\n",
            "Confusion Matrix: \n",
            " [[ 937  656]\n",
            " [ 363 1230]]\n",
            "\n"
          ]
        }
      ]
    },
    {
      "cell_type": "code",
      "metadata": {
        "id": "bJoUqEIOHmpU",
        "colab": {
          "base_uri": "https://localhost:8080/",
          "height": 816
        },
        "outputId": "67b56ae8-d551-428a-95bc-a42284c69f01"
      },
      "source": [
        "tree_graph_clf = tree.export_graphviz(clf, out_file=None)\n",
        "graphviz.Source(tree_graph_clf)"
      ],
      "execution_count": 127,
      "outputs": [
        {
          "output_type": "execute_result",
          "data": {
            "text/plain": [
              "<graphviz.files.Source at 0x7fb12f0c8410>"
            ],
            "image/svg+xml": "<?xml version=\"1.0\" encoding=\"UTF-8\" standalone=\"no\"?>\n<!DOCTYPE svg PUBLIC \"-//W3C//DTD SVG 1.1//EN\"\n \"http://www.w3.org/Graphics/SVG/1.1/DTD/svg11.dtd\">\n<!-- Generated by graphviz version 2.40.1 (20161225.0304)\n -->\n<!-- Title: Tree Pages: 1 -->\n<svg width=\"3318pt\" height=\"581pt\"\n viewBox=\"0.00 0.00 3317.50 581.00\" xmlns=\"http://www.w3.org/2000/svg\" xmlns:xlink=\"http://www.w3.org/1999/xlink\">\n<g id=\"graph0\" class=\"graph\" transform=\"scale(1 1) rotate(0) translate(4 577)\">\n<title>Tree</title>\n<polygon fill=\"#ffffff\" stroke=\"transparent\" points=\"-4,4 -4,-577 3313.5,-577 3313.5,4 -4,4\"/>\n<!-- 0 -->\n<g id=\"node1\" class=\"node\">\n<title>0</title>\n<polygon fill=\"none\" stroke=\"#000000\" points=\"2236.5,-573 2096.5,-573 2096.5,-505 2236.5,-505 2236.5,-573\"/>\n<text text-anchor=\"middle\" x=\"2166.5\" y=\"-557.8\" font-family=\"Times,serif\" font-size=\"14.00\" fill=\"#000000\">X[3] &lt;= 1.667</text>\n<text text-anchor=\"middle\" x=\"2166.5\" y=\"-542.8\" font-family=\"Times,serif\" font-size=\"14.00\" fill=\"#000000\">gini = 0.5</text>\n<text text-anchor=\"middle\" x=\"2166.5\" y=\"-527.8\" font-family=\"Times,serif\" font-size=\"14.00\" fill=\"#000000\">samples = 12740</text>\n<text text-anchor=\"middle\" x=\"2166.5\" y=\"-512.8\" font-family=\"Times,serif\" font-size=\"14.00\" fill=\"#000000\">value = [6370, 6370]</text>\n</g>\n<!-- 1 -->\n<g id=\"node2\" class=\"node\">\n<title>1</title>\n<polygon fill=\"none\" stroke=\"#000000\" points=\"1688.5,-469 1548.5,-469 1548.5,-401 1688.5,-401 1688.5,-469\"/>\n<text text-anchor=\"middle\" x=\"1618.5\" y=\"-453.8\" font-family=\"Times,serif\" font-size=\"14.00\" fill=\"#000000\">X[3] &lt;= &#45;0.052</text>\n<text text-anchor=\"middle\" x=\"1618.5\" y=\"-438.8\" font-family=\"Times,serif\" font-size=\"14.00\" fill=\"#000000\">gini = 0.497</text>\n<text text-anchor=\"middle\" x=\"1618.5\" y=\"-423.8\" font-family=\"Times,serif\" font-size=\"14.00\" fill=\"#000000\">samples = 11801</text>\n<text text-anchor=\"middle\" x=\"1618.5\" y=\"-408.8\" font-family=\"Times,serif\" font-size=\"14.00\" fill=\"#000000\">value = [6333, 5468]</text>\n</g>\n<!-- 0&#45;&gt;1 -->\n<g id=\"edge1\" class=\"edge\">\n<title>0&#45;&gt;1</title>\n<path fill=\"none\" stroke=\"#000000\" d=\"M2096.2598,-525.6698C1994.4185,-506.3422 1806.2388,-470.6293 1698.9539,-450.2686\"/>\n<polygon fill=\"#000000\" stroke=\"#000000\" points=\"1699.3069,-446.7732 1688.8296,-448.3472 1698.0016,-453.6505 1699.3069,-446.7732\"/>\n<text text-anchor=\"middle\" x=\"1702.9012\" y=\"-465.311\" font-family=\"Times,serif\" font-size=\"14.00\" fill=\"#000000\">True</text>\n</g>\n<!-- 32 -->\n<g id=\"node33\" class=\"node\">\n<title>32</title>\n<polygon fill=\"none\" stroke=\"#000000\" points=\"2624,-469 2507,-469 2507,-401 2624,-401 2624,-469\"/>\n<text text-anchor=\"middle\" x=\"2565.5\" y=\"-453.8\" font-family=\"Times,serif\" font-size=\"14.00\" fill=\"#000000\">X[2] &lt;= &#45;1.22</text>\n<text text-anchor=\"middle\" x=\"2565.5\" y=\"-438.8\" font-family=\"Times,serif\" font-size=\"14.00\" fill=\"#000000\">gini = 0.076</text>\n<text text-anchor=\"middle\" x=\"2565.5\" y=\"-423.8\" font-family=\"Times,serif\" font-size=\"14.00\" fill=\"#000000\">samples = 939</text>\n<text text-anchor=\"middle\" x=\"2565.5\" y=\"-408.8\" font-family=\"Times,serif\" font-size=\"14.00\" fill=\"#000000\">value = [37, 902]</text>\n</g>\n<!-- 0&#45;&gt;32 -->\n<g id=\"edge32\" class=\"edge\">\n<title>0&#45;&gt;32</title>\n<path fill=\"none\" stroke=\"#000000\" d=\"M2236.9147,-520.6463C2310.2038,-501.5434 2424.2242,-471.8238 2496.8508,-452.8935\"/>\n<polygon fill=\"#000000\" stroke=\"#000000\" points=\"2498.0216,-456.2054 2506.8155,-450.2962 2496.256,-449.4317 2498.0216,-456.2054\"/>\n<text text-anchor=\"middle\" x=\"2494.1681\" y=\"-468.1611\" font-family=\"Times,serif\" font-size=\"14.00\" fill=\"#000000\">False</text>\n</g>\n<!-- 2 -->\n<g id=\"node3\" class=\"node\">\n<title>2</title>\n<polygon fill=\"none\" stroke=\"#000000\" points=\"863.5,-365 723.5,-365 723.5,-297 863.5,-297 863.5,-365\"/>\n<text text-anchor=\"middle\" x=\"793.5\" y=\"-349.8\" font-family=\"Times,serif\" font-size=\"14.00\" fill=\"#000000\">X[2] &lt;= &#45;0.731</text>\n<text text-anchor=\"middle\" x=\"793.5\" y=\"-334.8\" font-family=\"Times,serif\" font-size=\"14.00\" fill=\"#000000\">gini = 0.479</text>\n<text text-anchor=\"middle\" x=\"793.5\" y=\"-319.8\" font-family=\"Times,serif\" font-size=\"14.00\" fill=\"#000000\">samples = 7322</text>\n<text text-anchor=\"middle\" x=\"793.5\" y=\"-304.8\" font-family=\"Times,serif\" font-size=\"14.00\" fill=\"#000000\">value = [2917, 4405]</text>\n</g>\n<!-- 1&#45;&gt;2 -->\n<g id=\"edge2\" class=\"edge\">\n<title>1&#45;&gt;2</title>\n<path fill=\"none\" stroke=\"#000000\" d=\"M1548.161,-426.133C1395.644,-406.9066 1035.2855,-361.4796 873.9929,-341.147\"/>\n<polygon fill=\"#000000\" stroke=\"#000000\" points=\"874.0203,-337.6228 863.661,-339.8445 873.1447,-344.5678 874.0203,-337.6228\"/>\n</g>\n<!-- 17 -->\n<g id=\"node18\" class=\"node\">\n<title>17</title>\n<polygon fill=\"none\" stroke=\"#000000\" points=\"1688.5,-365 1548.5,-365 1548.5,-297 1688.5,-297 1688.5,-365\"/>\n<text text-anchor=\"middle\" x=\"1618.5\" y=\"-349.8\" font-family=\"Times,serif\" font-size=\"14.00\" fill=\"#000000\">X[2] &lt;= &#45;1.209</text>\n<text text-anchor=\"middle\" x=\"1618.5\" y=\"-334.8\" font-family=\"Times,serif\" font-size=\"14.00\" fill=\"#000000\">gini = 0.362</text>\n<text text-anchor=\"middle\" x=\"1618.5\" y=\"-319.8\" font-family=\"Times,serif\" font-size=\"14.00\" fill=\"#000000\">samples = 4479</text>\n<text text-anchor=\"middle\" x=\"1618.5\" y=\"-304.8\" font-family=\"Times,serif\" font-size=\"14.00\" fill=\"#000000\">value = [3416, 1063]</text>\n</g>\n<!-- 1&#45;&gt;17 -->\n<g id=\"edge17\" class=\"edge\">\n<title>1&#45;&gt;17</title>\n<path fill=\"none\" stroke=\"#000000\" d=\"M1618.5,-400.9465C1618.5,-392.776 1618.5,-383.9318 1618.5,-375.3697\"/>\n<polygon fill=\"#000000\" stroke=\"#000000\" points=\"1622.0001,-375.13 1618.5,-365.13 1615.0001,-375.13 1622.0001,-375.13\"/>\n</g>\n<!-- 3 -->\n<g id=\"node4\" class=\"node\">\n<title>3</title>\n<polygon fill=\"none\" stroke=\"#000000\" points=\"437,-261 306,-261 306,-193 437,-193 437,-261\"/>\n<text text-anchor=\"middle\" x=\"371.5\" y=\"-245.8\" font-family=\"Times,serif\" font-size=\"14.00\" fill=\"#000000\">X[1] &lt;= &#45;1.73</text>\n<text text-anchor=\"middle\" x=\"371.5\" y=\"-230.8\" font-family=\"Times,serif\" font-size=\"14.00\" fill=\"#000000\">gini = 0.411</text>\n<text text-anchor=\"middle\" x=\"371.5\" y=\"-215.8\" font-family=\"Times,serif\" font-size=\"14.00\" fill=\"#000000\">samples = 1570</text>\n<text text-anchor=\"middle\" x=\"371.5\" y=\"-200.8\" font-family=\"Times,serif\" font-size=\"14.00\" fill=\"#000000\">value = [454, 1116]</text>\n</g>\n<!-- 2&#45;&gt;3 -->\n<g id=\"edge3\" class=\"edge\">\n<title>2&#45;&gt;3</title>\n<path fill=\"none\" stroke=\"#000000\" d=\"M723.3416,-313.7098C647.0365,-294.9047 525.5057,-264.954 447.1206,-245.6364\"/>\n<polygon fill=\"#000000\" stroke=\"#000000\" points=\"447.8537,-242.2124 437.3067,-243.2178 446.1787,-249.009 447.8537,-242.2124\"/>\n</g>\n<!-- 10 -->\n<g id=\"node11\" class=\"node\">\n<title>10</title>\n<polygon fill=\"none\" stroke=\"#000000\" points=\"863.5,-261 723.5,-261 723.5,-193 863.5,-193 863.5,-261\"/>\n<text text-anchor=\"middle\" x=\"793.5\" y=\"-245.8\" font-family=\"Times,serif\" font-size=\"14.00\" fill=\"#000000\">X[2] &lt;= 0.21</text>\n<text text-anchor=\"middle\" x=\"793.5\" y=\"-230.8\" font-family=\"Times,serif\" font-size=\"14.00\" fill=\"#000000\">gini = 0.49</text>\n<text text-anchor=\"middle\" x=\"793.5\" y=\"-215.8\" font-family=\"Times,serif\" font-size=\"14.00\" fill=\"#000000\">samples = 5752</text>\n<text text-anchor=\"middle\" x=\"793.5\" y=\"-200.8\" font-family=\"Times,serif\" font-size=\"14.00\" fill=\"#000000\">value = [2463, 3289]</text>\n</g>\n<!-- 2&#45;&gt;10 -->\n<g id=\"edge10\" class=\"edge\">\n<title>2&#45;&gt;10</title>\n<path fill=\"none\" stroke=\"#000000\" d=\"M793.5,-296.9465C793.5,-288.776 793.5,-279.9318 793.5,-271.3697\"/>\n<polygon fill=\"#000000\" stroke=\"#000000\" points=\"797.0001,-271.13 793.5,-261.13 790.0001,-271.13 797.0001,-271.13\"/>\n</g>\n<!-- 4 -->\n<g id=\"node5\" class=\"node\">\n<title>4</title>\n<polygon fill=\"none\" stroke=\"#000000\" points=\"223.5,-157 113.5,-157 113.5,-89 223.5,-89 223.5,-157\"/>\n<text text-anchor=\"middle\" x=\"168.5\" y=\"-141.8\" font-family=\"Times,serif\" font-size=\"14.00\" fill=\"#000000\">X[5] &lt;= &#45;1.549</text>\n<text text-anchor=\"middle\" x=\"168.5\" y=\"-126.8\" font-family=\"Times,serif\" font-size=\"14.00\" fill=\"#000000\">gini = 0.444</text>\n<text text-anchor=\"middle\" x=\"168.5\" y=\"-111.8\" font-family=\"Times,serif\" font-size=\"14.00\" fill=\"#000000\">samples = 42</text>\n<text text-anchor=\"middle\" x=\"168.5\" y=\"-96.8\" font-family=\"Times,serif\" font-size=\"14.00\" fill=\"#000000\">value = [28, 14]</text>\n</g>\n<!-- 3&#45;&gt;4 -->\n<g id=\"edge4\" class=\"edge\">\n<title>3&#45;&gt;4</title>\n<path fill=\"none\" stroke=\"#000000\" d=\"M305.8721,-193.3778C282.4537,-181.3802 256.1115,-167.8847 232.8055,-155.9447\"/>\n<polygon fill=\"#000000\" stroke=\"#000000\" points=\"234.1947,-152.7239 223.6988,-151.2792 231.003,-158.9539 234.1947,-152.7239\"/>\n</g>\n<!-- 7 -->\n<g id=\"node8\" class=\"node\">\n<title>7</title>\n<polygon fill=\"none\" stroke=\"#000000\" points=\"437,-157 306,-157 306,-89 437,-89 437,-157\"/>\n<text text-anchor=\"middle\" x=\"371.5\" y=\"-141.8\" font-family=\"Times,serif\" font-size=\"14.00\" fill=\"#000000\">X[5] &lt;= &#45;1.594</text>\n<text text-anchor=\"middle\" x=\"371.5\" y=\"-126.8\" font-family=\"Times,serif\" font-size=\"14.00\" fill=\"#000000\">gini = 0.402</text>\n<text text-anchor=\"middle\" x=\"371.5\" y=\"-111.8\" font-family=\"Times,serif\" font-size=\"14.00\" fill=\"#000000\">samples = 1528</text>\n<text text-anchor=\"middle\" x=\"371.5\" y=\"-96.8\" font-family=\"Times,serif\" font-size=\"14.00\" fill=\"#000000\">value = [426, 1102]</text>\n</g>\n<!-- 3&#45;&gt;7 -->\n<g id=\"edge7\" class=\"edge\">\n<title>3&#45;&gt;7</title>\n<path fill=\"none\" stroke=\"#000000\" d=\"M371.5,-192.9465C371.5,-184.776 371.5,-175.9318 371.5,-167.3697\"/>\n<polygon fill=\"#000000\" stroke=\"#000000\" points=\"375.0001,-167.13 371.5,-157.13 368.0001,-167.13 375.0001,-167.13\"/>\n</g>\n<!-- 5 -->\n<g id=\"node6\" class=\"node\">\n<title>5</title>\n<polygon fill=\"none\" stroke=\"#000000\" points=\"95,-53 0,-53 0,0 95,0 95,-53\"/>\n<text text-anchor=\"middle\" x=\"47.5\" y=\"-37.8\" font-family=\"Times,serif\" font-size=\"14.00\" fill=\"#000000\">gini = 0.0</text>\n<text text-anchor=\"middle\" x=\"47.5\" y=\"-22.8\" font-family=\"Times,serif\" font-size=\"14.00\" fill=\"#000000\">samples = 2</text>\n<text text-anchor=\"middle\" x=\"47.5\" y=\"-7.8\" font-family=\"Times,serif\" font-size=\"14.00\" fill=\"#000000\">value = [0, 2]</text>\n</g>\n<!-- 4&#45;&gt;5 -->\n<g id=\"edge5\" class=\"edge\">\n<title>4&#45;&gt;5</title>\n<path fill=\"none\" stroke=\"#000000\" d=\"M125.8399,-88.9777C113.8989,-79.4545 100.9395,-69.1191 89.063,-59.6473\"/>\n<polygon fill=\"#000000\" stroke=\"#000000\" points=\"91.04,-56.7473 81.0395,-53.2485 86.6754,-62.22 91.04,-56.7473\"/>\n</g>\n<!-- 6 -->\n<g id=\"node7\" class=\"node\">\n<title>6</title>\n<polygon fill=\"none\" stroke=\"#000000\" points=\"223.5,-53 113.5,-53 113.5,0 223.5,0 223.5,-53\"/>\n<text text-anchor=\"middle\" x=\"168.5\" y=\"-37.8\" font-family=\"Times,serif\" font-size=\"14.00\" fill=\"#000000\">gini = 0.42</text>\n<text text-anchor=\"middle\" x=\"168.5\" y=\"-22.8\" font-family=\"Times,serif\" font-size=\"14.00\" fill=\"#000000\">samples = 40</text>\n<text text-anchor=\"middle\" x=\"168.5\" y=\"-7.8\" font-family=\"Times,serif\" font-size=\"14.00\" fill=\"#000000\">value = [28, 12]</text>\n</g>\n<!-- 4&#45;&gt;6 -->\n<g id=\"edge6\" class=\"edge\">\n<title>4&#45;&gt;6</title>\n<path fill=\"none\" stroke=\"#000000\" d=\"M168.5,-88.9777C168.5,-80.7364 168.5,-71.887 168.5,-63.5153\"/>\n<polygon fill=\"#000000\" stroke=\"#000000\" points=\"172.0001,-63.2484 168.5,-53.2485 165.0001,-63.2485 172.0001,-63.2484\"/>\n</g>\n<!-- 8 -->\n<g id=\"node9\" class=\"node\">\n<title>8</title>\n<polygon fill=\"none\" stroke=\"#000000\" points=\"351.5,-53 241.5,-53 241.5,0 351.5,0 351.5,-53\"/>\n<text text-anchor=\"middle\" x=\"296.5\" y=\"-37.8\" font-family=\"Times,serif\" font-size=\"14.00\" fill=\"#000000\">gini = 0.47</text>\n<text text-anchor=\"middle\" x=\"296.5\" y=\"-22.8\" font-family=\"Times,serif\" font-size=\"14.00\" fill=\"#000000\">samples = 37</text>\n<text text-anchor=\"middle\" x=\"296.5\" y=\"-7.8\" font-family=\"Times,serif\" font-size=\"14.00\" fill=\"#000000\">value = [23, 14]</text>\n</g>\n<!-- 7&#45;&gt;8 -->\n<g id=\"edge8\" class=\"edge\">\n<title>7&#45;&gt;8</title>\n<path fill=\"none\" stroke=\"#000000\" d=\"M345.0578,-88.9777C338.0833,-80.0039 330.5484,-70.3089 323.5427,-61.295\"/>\n<polygon fill=\"#000000\" stroke=\"#000000\" points=\"326.1891,-58.9964 317.289,-53.2485 320.6621,-63.292 326.1891,-58.9964\"/>\n</g>\n<!-- 9 -->\n<g id=\"node10\" class=\"node\">\n<title>9</title>\n<polygon fill=\"none\" stroke=\"#000000\" points=\"501.5,-53 369.5,-53 369.5,0 501.5,0 501.5,-53\"/>\n<text text-anchor=\"middle\" x=\"435.5\" y=\"-37.8\" font-family=\"Times,serif\" font-size=\"14.00\" fill=\"#000000\">gini = 0.394</text>\n<text text-anchor=\"middle\" x=\"435.5\" y=\"-22.8\" font-family=\"Times,serif\" font-size=\"14.00\" fill=\"#000000\">samples = 1491</text>\n<text text-anchor=\"middle\" x=\"435.5\" y=\"-7.8\" font-family=\"Times,serif\" font-size=\"14.00\" fill=\"#000000\">value = [403, 1088]</text>\n</g>\n<!-- 7&#45;&gt;9 -->\n<g id=\"edge9\" class=\"edge\">\n<title>7&#45;&gt;9</title>\n<path fill=\"none\" stroke=\"#000000\" d=\"M394.064,-88.9777C399.8941,-80.187 406.1831,-70.7044 412.057,-61.8477\"/>\n<polygon fill=\"#000000\" stroke=\"#000000\" points=\"415.1498,-63.5167 417.7601,-53.2485 409.3162,-59.6478 415.1498,-63.5167\"/>\n</g>\n<!-- 11 -->\n<g id=\"node12\" class=\"node\">\n<title>11</title>\n<polygon fill=\"none\" stroke=\"#000000\" points=\"780,-157 655,-157 655,-89 780,-89 780,-157\"/>\n<text text-anchor=\"middle\" x=\"717.5\" y=\"-141.8\" font-family=\"Times,serif\" font-size=\"14.00\" fill=\"#000000\">X[5] &lt;= &#45;0.647</text>\n<text text-anchor=\"middle\" x=\"717.5\" y=\"-126.8\" font-family=\"Times,serif\" font-size=\"14.00\" fill=\"#000000\">gini = 0.488</text>\n<text text-anchor=\"middle\" x=\"717.5\" y=\"-111.8\" font-family=\"Times,serif\" font-size=\"14.00\" fill=\"#000000\">samples = 701</text>\n<text text-anchor=\"middle\" x=\"717.5\" y=\"-96.8\" font-family=\"Times,serif\" font-size=\"14.00\" fill=\"#000000\">value = [404, 297]</text>\n</g>\n<!-- 10&#45;&gt;11 -->\n<g id=\"edge11\" class=\"edge\">\n<title>10&#45;&gt;11</title>\n<path fill=\"none\" stroke=\"#000000\" d=\"M768.6148,-192.9465C762.1847,-184.1475 755.1837,-174.5672 748.4841,-165.3993\"/>\n<polygon fill=\"#000000\" stroke=\"#000000\" points=\"751.1672,-163.1389 742.4412,-157.13 745.5155,-167.269 751.1672,-163.1389\"/>\n</g>\n<!-- 14 -->\n<g id=\"node15\" class=\"node\">\n<title>14</title>\n<polygon fill=\"none\" stroke=\"#000000\" points=\"938.5,-157 798.5,-157 798.5,-89 938.5,-89 938.5,-157\"/>\n<text text-anchor=\"middle\" x=\"868.5\" y=\"-141.8\" font-family=\"Times,serif\" font-size=\"14.00\" fill=\"#000000\">X[1] &lt;= 1.724</text>\n<text text-anchor=\"middle\" x=\"868.5\" y=\"-126.8\" font-family=\"Times,serif\" font-size=\"14.00\" fill=\"#000000\">gini = 0.483</text>\n<text text-anchor=\"middle\" x=\"868.5\" y=\"-111.8\" font-family=\"Times,serif\" font-size=\"14.00\" fill=\"#000000\">samples = 5051</text>\n<text text-anchor=\"middle\" x=\"868.5\" y=\"-96.8\" font-family=\"Times,serif\" font-size=\"14.00\" fill=\"#000000\">value = [2059, 2992]</text>\n</g>\n<!-- 10&#45;&gt;14 -->\n<g id=\"edge14\" class=\"edge\">\n<title>10&#45;&gt;14</title>\n<path fill=\"none\" stroke=\"#000000\" d=\"M818.0578,-192.9465C824.4032,-184.1475 831.3121,-174.5672 837.9236,-165.3993\"/>\n<polygon fill=\"#000000\" stroke=\"#000000\" points=\"840.8766,-167.2882 843.887,-157.13 835.1989,-163.1937 840.8766,-167.2882\"/>\n</g>\n<!-- 12 -->\n<g id=\"node13\" class=\"node\">\n<title>12</title>\n<polygon fill=\"none\" stroke=\"#000000\" points=\"637,-53 520,-53 520,0 637,0 637,-53\"/>\n<text text-anchor=\"middle\" x=\"578.5\" y=\"-37.8\" font-family=\"Times,serif\" font-size=\"14.00\" fill=\"#000000\">gini = 0.438</text>\n<text text-anchor=\"middle\" x=\"578.5\" y=\"-22.8\" font-family=\"Times,serif\" font-size=\"14.00\" fill=\"#000000\">samples = 201</text>\n<text text-anchor=\"middle\" x=\"578.5\" y=\"-7.8\" font-family=\"Times,serif\" font-size=\"14.00\" fill=\"#000000\">value = [136, 65]</text>\n</g>\n<!-- 11&#45;&gt;12 -->\n<g id=\"edge12\" class=\"edge\">\n<title>11&#45;&gt;12</title>\n<path fill=\"none\" stroke=\"#000000\" d=\"M668.4938,-88.9777C654.5126,-79.2713 639.3162,-68.7213 625.4602,-59.1018\"/>\n<polygon fill=\"#000000\" stroke=\"#000000\" points=\"627.2394,-56.0763 617.0289,-53.2485 623.2474,-61.8264 627.2394,-56.0763\"/>\n</g>\n<!-- 13 -->\n<g id=\"node14\" class=\"node\">\n<title>13</title>\n<polygon fill=\"none\" stroke=\"#000000\" points=\"780,-53 655,-53 655,0 780,0 780,-53\"/>\n<text text-anchor=\"middle\" x=\"717.5\" y=\"-37.8\" font-family=\"Times,serif\" font-size=\"14.00\" fill=\"#000000\">gini = 0.497</text>\n<text text-anchor=\"middle\" x=\"717.5\" y=\"-22.8\" font-family=\"Times,serif\" font-size=\"14.00\" fill=\"#000000\">samples = 500</text>\n<text text-anchor=\"middle\" x=\"717.5\" y=\"-7.8\" font-family=\"Times,serif\" font-size=\"14.00\" fill=\"#000000\">value = [268, 232]</text>\n</g>\n<!-- 11&#45;&gt;13 -->\n<g id=\"edge13\" class=\"edge\">\n<title>11&#45;&gt;13</title>\n<path fill=\"none\" stroke=\"#000000\" d=\"M717.5,-88.9777C717.5,-80.7364 717.5,-71.887 717.5,-63.5153\"/>\n<polygon fill=\"#000000\" stroke=\"#000000\" points=\"721.0001,-63.2484 717.5,-53.2485 714.0001,-63.2485 721.0001,-63.2484\"/>\n</g>\n<!-- 15 -->\n<g id=\"node16\" class=\"node\">\n<title>15</title>\n<polygon fill=\"none\" stroke=\"#000000\" points=\"938.5,-53 798.5,-53 798.5,0 938.5,0 938.5,-53\"/>\n<text text-anchor=\"middle\" x=\"868.5\" y=\"-37.8\" font-family=\"Times,serif\" font-size=\"14.00\" fill=\"#000000\">gini = 0.48</text>\n<text text-anchor=\"middle\" x=\"868.5\" y=\"-22.8\" font-family=\"Times,serif\" font-size=\"14.00\" fill=\"#000000\">samples = 4899</text>\n<text text-anchor=\"middle\" x=\"868.5\" y=\"-7.8\" font-family=\"Times,serif\" font-size=\"14.00\" fill=\"#000000\">value = [1962, 2937]</text>\n</g>\n<!-- 14&#45;&gt;15 -->\n<g id=\"edge15\" class=\"edge\">\n<title>14&#45;&gt;15</title>\n<path fill=\"none\" stroke=\"#000000\" d=\"M868.5,-88.9777C868.5,-80.7364 868.5,-71.887 868.5,-63.5153\"/>\n<polygon fill=\"#000000\" stroke=\"#000000\" points=\"872.0001,-63.2484 868.5,-53.2485 865.0001,-63.2485 872.0001,-63.2484\"/>\n</g>\n<!-- 16 -->\n<g id=\"node17\" class=\"node\">\n<title>16</title>\n<polygon fill=\"none\" stroke=\"#000000\" points=\"1066.5,-53 956.5,-53 956.5,0 1066.5,0 1066.5,-53\"/>\n<text text-anchor=\"middle\" x=\"1011.5\" y=\"-37.8\" font-family=\"Times,serif\" font-size=\"14.00\" fill=\"#000000\">gini = 0.462</text>\n<text text-anchor=\"middle\" x=\"1011.5\" y=\"-22.8\" font-family=\"Times,serif\" font-size=\"14.00\" fill=\"#000000\">samples = 152</text>\n<text text-anchor=\"middle\" x=\"1011.5\" y=\"-7.8\" font-family=\"Times,serif\" font-size=\"14.00\" fill=\"#000000\">value = [97, 55]</text>\n</g>\n<!-- 14&#45;&gt;16 -->\n<g id=\"edge16\" class=\"edge\">\n<title>14&#45;&gt;16</title>\n<path fill=\"none\" stroke=\"#000000\" d=\"M918.9165,-88.9777C933.3,-79.2713 948.9337,-68.7213 963.1885,-59.1018\"/>\n<polygon fill=\"#000000\" stroke=\"#000000\" points=\"965.531,-61.7435 971.8624,-53.2485 961.6154,-55.941 965.531,-61.7435\"/>\n</g>\n<!-- 18 -->\n<g id=\"node19\" class=\"node\">\n<title>18</title>\n<polygon fill=\"none\" stroke=\"#000000\" points=\"1551.5,-261 1419.5,-261 1419.5,-193 1551.5,-193 1551.5,-261\"/>\n<text text-anchor=\"middle\" x=\"1485.5\" y=\"-245.8\" font-family=\"Times,serif\" font-size=\"14.00\" fill=\"#000000\">X[1] &lt;= 1.401</text>\n<text text-anchor=\"middle\" x=\"1485.5\" y=\"-230.8\" font-family=\"Times,serif\" font-size=\"14.00\" fill=\"#000000\">gini = 0.192</text>\n<text text-anchor=\"middle\" x=\"1485.5\" y=\"-215.8\" font-family=\"Times,serif\" font-size=\"14.00\" fill=\"#000000\">samples = 2257</text>\n<text text-anchor=\"middle\" x=\"1485.5\" y=\"-200.8\" font-family=\"Times,serif\" font-size=\"14.00\" fill=\"#000000\">value = [2014, 243]</text>\n</g>\n<!-- 17&#45;&gt;18 -->\n<g id=\"edge18\" class=\"edge\">\n<title>17&#45;&gt;18</title>\n<path fill=\"none\" stroke=\"#000000\" d=\"M1574.9508,-296.9465C1562.8946,-287.519 1549.6911,-277.1946 1537.2184,-267.4415\"/>\n<polygon fill=\"#000000\" stroke=\"#000000\" points=\"1539.1806,-264.5328 1529.147,-261.13 1534.8686,-270.0471 1539.1806,-264.5328\"/>\n</g>\n<!-- 25 -->\n<g id=\"node26\" class=\"node\">\n<title>25</title>\n<polygon fill=\"none\" stroke=\"#000000\" points=\"1818.5,-261 1686.5,-261 1686.5,-193 1818.5,-193 1818.5,-261\"/>\n<text text-anchor=\"middle\" x=\"1752.5\" y=\"-245.8\" font-family=\"Times,serif\" font-size=\"14.00\" fill=\"#000000\">X[5] &lt;= 1.544</text>\n<text text-anchor=\"middle\" x=\"1752.5\" y=\"-230.8\" font-family=\"Times,serif\" font-size=\"14.00\" fill=\"#000000\">gini = 0.466</text>\n<text text-anchor=\"middle\" x=\"1752.5\" y=\"-215.8\" font-family=\"Times,serif\" font-size=\"14.00\" fill=\"#000000\">samples = 2222</text>\n<text text-anchor=\"middle\" x=\"1752.5\" y=\"-200.8\" font-family=\"Times,serif\" font-size=\"14.00\" fill=\"#000000\">value = [1402, 820]</text>\n</g>\n<!-- 17&#45;&gt;25 -->\n<g id=\"edge25\" class=\"edge\">\n<title>17&#45;&gt;25</title>\n<path fill=\"none\" stroke=\"#000000\" d=\"M1662.3766,-296.9465C1674.5235,-287.519 1687.8262,-277.1946 1700.3927,-267.4415\"/>\n<polygon fill=\"#000000\" stroke=\"#000000\" points=\"1702.7709,-270.0262 1708.5248,-261.13 1698.479,-264.4963 1702.7709,-270.0262\"/>\n</g>\n<!-- 19 -->\n<g id=\"node20\" class=\"node\">\n<title>19</title>\n<polygon fill=\"none\" stroke=\"#000000\" points=\"1352,-157 1221,-157 1221,-89 1352,-89 1352,-157\"/>\n<text text-anchor=\"middle\" x=\"1286.5\" y=\"-141.8\" font-family=\"Times,serif\" font-size=\"14.00\" fill=\"#000000\">X[5] &lt;= &#45;0.727</text>\n<text text-anchor=\"middle\" x=\"1286.5\" y=\"-126.8\" font-family=\"Times,serif\" font-size=\"14.00\" fill=\"#000000\">gini = 0.184</text>\n<text text-anchor=\"middle\" x=\"1286.5\" y=\"-111.8\" font-family=\"Times,serif\" font-size=\"14.00\" fill=\"#000000\">samples = 2129</text>\n<text text-anchor=\"middle\" x=\"1286.5\" y=\"-96.8\" font-family=\"Times,serif\" font-size=\"14.00\" fill=\"#000000\">value = [1911, 218]</text>\n</g>\n<!-- 18&#45;&gt;19 -->\n<g id=\"edge19\" class=\"edge\">\n<title>18&#45;&gt;19</title>\n<path fill=\"none\" stroke=\"#000000\" d=\"M1420.34,-192.9465C1401.2701,-182.9803 1380.282,-172.0117 1360.6952,-161.7754\"/>\n<polygon fill=\"#000000\" stroke=\"#000000\" points=\"1362.2902,-158.6599 1351.8064,-157.13 1359.048,-164.8637 1362.2902,-158.6599\"/>\n</g>\n<!-- 22 -->\n<g id=\"node23\" class=\"node\">\n<title>22</title>\n<polygon fill=\"none\" stroke=\"#000000\" points=\"1544,-157 1427,-157 1427,-89 1544,-89 1544,-157\"/>\n<text text-anchor=\"middle\" x=\"1485.5\" y=\"-141.8\" font-family=\"Times,serif\" font-size=\"14.00\" fill=\"#000000\">X[1] &lt;= 1.711</text>\n<text text-anchor=\"middle\" x=\"1485.5\" y=\"-126.8\" font-family=\"Times,serif\" font-size=\"14.00\" fill=\"#000000\">gini = 0.314</text>\n<text text-anchor=\"middle\" x=\"1485.5\" y=\"-111.8\" font-family=\"Times,serif\" font-size=\"14.00\" fill=\"#000000\">samples = 128</text>\n<text text-anchor=\"middle\" x=\"1485.5\" y=\"-96.8\" font-family=\"Times,serif\" font-size=\"14.00\" fill=\"#000000\">value = [103, 25]</text>\n</g>\n<!-- 18&#45;&gt;22 -->\n<g id=\"edge22\" class=\"edge\">\n<title>18&#45;&gt;22</title>\n<path fill=\"none\" stroke=\"#000000\" d=\"M1485.5,-192.9465C1485.5,-184.776 1485.5,-175.9318 1485.5,-167.3697\"/>\n<polygon fill=\"#000000\" stroke=\"#000000\" points=\"1489.0001,-167.13 1485.5,-157.13 1482.0001,-167.13 1489.0001,-167.13\"/>\n</g>\n<!-- 20 -->\n<g id=\"node21\" class=\"node\">\n<title>20</title>\n<polygon fill=\"none\" stroke=\"#000000\" points=\"1202,-53 1085,-53 1085,0 1202,0 1202,-53\"/>\n<text text-anchor=\"middle\" x=\"1143.5\" y=\"-37.8\" font-family=\"Times,serif\" font-size=\"14.00\" fill=\"#000000\">gini = 0.226</text>\n<text text-anchor=\"middle\" x=\"1143.5\" y=\"-22.8\" font-family=\"Times,serif\" font-size=\"14.00\" fill=\"#000000\">samples = 655</text>\n<text text-anchor=\"middle\" x=\"1143.5\" y=\"-7.8\" font-family=\"Times,serif\" font-size=\"14.00\" fill=\"#000000\">value = [570, 85]</text>\n</g>\n<!-- 19&#45;&gt;20 -->\n<g id=\"edge20\" class=\"edge\">\n<title>19&#45;&gt;20</title>\n<path fill=\"none\" stroke=\"#000000\" d=\"M1236.0835,-88.9777C1221.7,-79.2713 1206.0663,-68.7213 1191.8115,-59.1018\"/>\n<polygon fill=\"#000000\" stroke=\"#000000\" points=\"1193.3846,-55.941 1183.1376,-53.2485 1189.469,-61.7435 1193.3846,-55.941\"/>\n</g>\n<!-- 21 -->\n<g id=\"node22\" class=\"node\">\n<title>21</title>\n<polygon fill=\"none\" stroke=\"#000000\" points=\"1352.5,-53 1220.5,-53 1220.5,0 1352.5,0 1352.5,-53\"/>\n<text text-anchor=\"middle\" x=\"1286.5\" y=\"-37.8\" font-family=\"Times,serif\" font-size=\"14.00\" fill=\"#000000\">gini = 0.164</text>\n<text text-anchor=\"middle\" x=\"1286.5\" y=\"-22.8\" font-family=\"Times,serif\" font-size=\"14.00\" fill=\"#000000\">samples = 1474</text>\n<text text-anchor=\"middle\" x=\"1286.5\" y=\"-7.8\" font-family=\"Times,serif\" font-size=\"14.00\" fill=\"#000000\">value = [1341, 133]</text>\n</g>\n<!-- 19&#45;&gt;21 -->\n<g id=\"edge21\" class=\"edge\">\n<title>19&#45;&gt;21</title>\n<path fill=\"none\" stroke=\"#000000\" d=\"M1286.5,-88.9777C1286.5,-80.7364 1286.5,-71.887 1286.5,-63.5153\"/>\n<polygon fill=\"#000000\" stroke=\"#000000\" points=\"1290.0001,-63.2484 1286.5,-53.2485 1283.0001,-63.2485 1290.0001,-63.2484\"/>\n</g>\n<!-- 23 -->\n<g id=\"node24\" class=\"node\">\n<title>23</title>\n<polygon fill=\"none\" stroke=\"#000000\" points=\"1466,-53 1371,-53 1371,0 1466,0 1466,-53\"/>\n<text text-anchor=\"middle\" x=\"1418.5\" y=\"-37.8\" font-family=\"Times,serif\" font-size=\"14.00\" fill=\"#000000\">gini = 0.0</text>\n<text text-anchor=\"middle\" x=\"1418.5\" y=\"-22.8\" font-family=\"Times,serif\" font-size=\"14.00\" fill=\"#000000\">samples = 9</text>\n<text text-anchor=\"middle\" x=\"1418.5\" y=\"-7.8\" font-family=\"Times,serif\" font-size=\"14.00\" fill=\"#000000\">value = [0, 9]</text>\n</g>\n<!-- 22&#45;&gt;23 -->\n<g id=\"edge23\" class=\"edge\">\n<title>22&#45;&gt;23</title>\n<path fill=\"none\" stroke=\"#000000\" d=\"M1461.8783,-88.9777C1455.7113,-80.0954 1449.0539,-70.5067 1442.8499,-61.5711\"/>\n<polygon fill=\"#000000\" stroke=\"#000000\" points=\"1445.6497,-59.4666 1437.0715,-53.2485 1439.8997,-63.4589 1445.6497,-59.4666\"/>\n</g>\n<!-- 24 -->\n<g id=\"node25\" class=\"node\">\n<title>24</title>\n<polygon fill=\"none\" stroke=\"#000000\" points=\"1601,-53 1484,-53 1484,0 1601,0 1601,-53\"/>\n<text text-anchor=\"middle\" x=\"1542.5\" y=\"-37.8\" font-family=\"Times,serif\" font-size=\"14.00\" fill=\"#000000\">gini = 0.233</text>\n<text text-anchor=\"middle\" x=\"1542.5\" y=\"-22.8\" font-family=\"Times,serif\" font-size=\"14.00\" fill=\"#000000\">samples = 119</text>\n<text text-anchor=\"middle\" x=\"1542.5\" y=\"-7.8\" font-family=\"Times,serif\" font-size=\"14.00\" fill=\"#000000\">value = [103, 16]</text>\n</g>\n<!-- 22&#45;&gt;24 -->\n<g id=\"edge24\" class=\"edge\">\n<title>22&#45;&gt;24</title>\n<path fill=\"none\" stroke=\"#000000\" d=\"M1505.5961,-88.9777C1510.7344,-80.2786 1516.273,-70.9018 1521.4575,-62.1247\"/>\n<polygon fill=\"#000000\" stroke=\"#000000\" points=\"1524.6281,-63.6387 1526.7004,-53.2485 1518.601,-60.0786 1524.6281,-63.6387\"/>\n</g>\n<!-- 26 -->\n<g id=\"node27\" class=\"node\">\n<title>26</title>\n<polygon fill=\"none\" stroke=\"#000000\" points=\"1818.5,-157 1686.5,-157 1686.5,-89 1818.5,-89 1818.5,-157\"/>\n<text text-anchor=\"middle\" x=\"1752.5\" y=\"-141.8\" font-family=\"Times,serif\" font-size=\"14.00\" fill=\"#000000\">X[1] &lt;= 1.375</text>\n<text text-anchor=\"middle\" x=\"1752.5\" y=\"-126.8\" font-family=\"Times,serif\" font-size=\"14.00\" fill=\"#000000\">gini = 0.472</text>\n<text text-anchor=\"middle\" x=\"1752.5\" y=\"-111.8\" font-family=\"Times,serif\" font-size=\"14.00\" fill=\"#000000\">samples = 2126</text>\n<text text-anchor=\"middle\" x=\"1752.5\" y=\"-96.8\" font-family=\"Times,serif\" font-size=\"14.00\" fill=\"#000000\">value = [1314, 812]</text>\n</g>\n<!-- 25&#45;&gt;26 -->\n<g id=\"edge26\" class=\"edge\">\n<title>25&#45;&gt;26</title>\n<path fill=\"none\" stroke=\"#000000\" d=\"M1752.5,-192.9465C1752.5,-184.776 1752.5,-175.9318 1752.5,-167.3697\"/>\n<polygon fill=\"#000000\" stroke=\"#000000\" points=\"1756.0001,-167.13 1752.5,-157.13 1749.0001,-167.13 1756.0001,-167.13\"/>\n</g>\n<!-- 29 -->\n<g id=\"node30\" class=\"node\">\n<title>29</title>\n<polygon fill=\"none\" stroke=\"#000000\" points=\"2005.5,-157 1903.5,-157 1903.5,-89 2005.5,-89 2005.5,-157\"/>\n<text text-anchor=\"middle\" x=\"1954.5\" y=\"-141.8\" font-family=\"Times,serif\" font-size=\"14.00\" fill=\"#000000\">X[2] &lt;= 1.89</text>\n<text text-anchor=\"middle\" x=\"1954.5\" y=\"-126.8\" font-family=\"Times,serif\" font-size=\"14.00\" fill=\"#000000\">gini = 0.153</text>\n<text text-anchor=\"middle\" x=\"1954.5\" y=\"-111.8\" font-family=\"Times,serif\" font-size=\"14.00\" fill=\"#000000\">samples = 96</text>\n<text text-anchor=\"middle\" x=\"1954.5\" y=\"-96.8\" font-family=\"Times,serif\" font-size=\"14.00\" fill=\"#000000\">value = [88, 8]</text>\n</g>\n<!-- 25&#45;&gt;29 -->\n<g id=\"edge29\" class=\"edge\">\n<title>25&#45;&gt;29</title>\n<path fill=\"none\" stroke=\"#000000\" d=\"M1818.6424,-192.9465C1843.027,-180.3921 1870.5013,-166.2469 1894.3298,-153.9787\"/>\n<polygon fill=\"#000000\" stroke=\"#000000\" points=\"1895.9811,-157.0652 1903.2698,-149.3759 1892.7769,-150.8417 1895.9811,-157.0652\"/>\n</g>\n<!-- 27 -->\n<g id=\"node28\" class=\"node\">\n<title>27</title>\n<polygon fill=\"none\" stroke=\"#000000\" points=\"1750,-53 1619,-53 1619,0 1750,0 1750,-53\"/>\n<text text-anchor=\"middle\" x=\"1684.5\" y=\"-37.8\" font-family=\"Times,serif\" font-size=\"14.00\" fill=\"#000000\">gini = 0.48</text>\n<text text-anchor=\"middle\" x=\"1684.5\" y=\"-22.8\" font-family=\"Times,serif\" font-size=\"14.00\" fill=\"#000000\">samples = 1870</text>\n<text text-anchor=\"middle\" x=\"1684.5\" y=\"-7.8\" font-family=\"Times,serif\" font-size=\"14.00\" fill=\"#000000\">value = [1122, 748]</text>\n</g>\n<!-- 26&#45;&gt;27 -->\n<g id=\"edge27\" class=\"edge\">\n<title>26&#45;&gt;27</title>\n<path fill=\"none\" stroke=\"#000000\" d=\"M1728.5257,-88.9777C1722.2667,-80.0954 1715.5099,-70.5067 1709.2133,-61.5711\"/>\n<polygon fill=\"#000000\" stroke=\"#000000\" points=\"1711.9699,-59.4068 1703.3487,-53.2485 1706.2479,-63.4389 1711.9699,-59.4068\"/>\n</g>\n<!-- 28 -->\n<g id=\"node29\" class=\"node\">\n<title>28</title>\n<polygon fill=\"none\" stroke=\"#000000\" points=\"1885,-53 1768,-53 1768,0 1885,0 1885,-53\"/>\n<text text-anchor=\"middle\" x=\"1826.5\" y=\"-37.8\" font-family=\"Times,serif\" font-size=\"14.00\" fill=\"#000000\">gini = 0.375</text>\n<text text-anchor=\"middle\" x=\"1826.5\" y=\"-22.8\" font-family=\"Times,serif\" font-size=\"14.00\" fill=\"#000000\">samples = 256</text>\n<text text-anchor=\"middle\" x=\"1826.5\" y=\"-7.8\" font-family=\"Times,serif\" font-size=\"14.00\" fill=\"#000000\">value = [192, 64]</text>\n</g>\n<!-- 26&#45;&gt;28 -->\n<g id=\"edge28\" class=\"edge\">\n<title>26&#45;&gt;28</title>\n<path fill=\"none\" stroke=\"#000000\" d=\"M1778.5896,-88.9777C1785.4711,-80.0039 1792.9056,-70.3089 1799.8178,-61.295\"/>\n<polygon fill=\"#000000\" stroke=\"#000000\" points=\"1802.6804,-63.3137 1805.9882,-53.2485 1797.1256,-59.0541 1802.6804,-63.3137\"/>\n</g>\n<!-- 30 -->\n<g id=\"node31\" class=\"node\">\n<title>30</title>\n<polygon fill=\"none\" stroke=\"#000000\" points=\"2005.5,-53 1903.5,-53 1903.5,0 2005.5,0 2005.5,-53\"/>\n<text text-anchor=\"middle\" x=\"1954.5\" y=\"-37.8\" font-family=\"Times,serif\" font-size=\"14.00\" fill=\"#000000\">gini = 0.102</text>\n<text text-anchor=\"middle\" x=\"1954.5\" y=\"-22.8\" font-family=\"Times,serif\" font-size=\"14.00\" fill=\"#000000\">samples = 93</text>\n<text text-anchor=\"middle\" x=\"1954.5\" y=\"-7.8\" font-family=\"Times,serif\" font-size=\"14.00\" fill=\"#000000\">value = [88, 5]</text>\n</g>\n<!-- 29&#45;&gt;30 -->\n<g id=\"edge30\" class=\"edge\">\n<title>29&#45;&gt;30</title>\n<path fill=\"none\" stroke=\"#000000\" d=\"M1954.5,-88.9777C1954.5,-80.7364 1954.5,-71.887 1954.5,-63.5153\"/>\n<polygon fill=\"#000000\" stroke=\"#000000\" points=\"1958.0001,-63.2484 1954.5,-53.2485 1951.0001,-63.2485 1958.0001,-63.2484\"/>\n</g>\n<!-- 31 -->\n<g id=\"node32\" class=\"node\">\n<title>31</title>\n<polygon fill=\"none\" stroke=\"#000000\" points=\"2119,-53 2024,-53 2024,0 2119,0 2119,-53\"/>\n<text text-anchor=\"middle\" x=\"2071.5\" y=\"-37.8\" font-family=\"Times,serif\" font-size=\"14.00\" fill=\"#000000\">gini = 0.0</text>\n<text text-anchor=\"middle\" x=\"2071.5\" y=\"-22.8\" font-family=\"Times,serif\" font-size=\"14.00\" fill=\"#000000\">samples = 3</text>\n<text text-anchor=\"middle\" x=\"2071.5\" y=\"-7.8\" font-family=\"Times,serif\" font-size=\"14.00\" fill=\"#000000\">value = [0, 3]</text>\n</g>\n<!-- 29&#45;&gt;31 -->\n<g id=\"edge31\" class=\"edge\">\n<title>29&#45;&gt;31</title>\n<path fill=\"none\" stroke=\"#000000\" d=\"M1995.7498,-88.9777C2007.2961,-79.4545 2019.8271,-69.1191 2031.311,-59.6473\"/>\n<polygon fill=\"#000000\" stroke=\"#000000\" points=\"2033.5816,-62.3115 2039.0692,-53.2485 2029.1276,-56.9113 2033.5816,-62.3115\"/>\n</g>\n<!-- 33 -->\n<g id=\"node34\" class=\"node\">\n<title>33</title>\n<polygon fill=\"none\" stroke=\"#000000\" points=\"2624,-365 2507,-365 2507,-297 2624,-297 2624,-365\"/>\n<text text-anchor=\"middle\" x=\"2565.5\" y=\"-349.8\" font-family=\"Times,serif\" font-size=\"14.00\" fill=\"#000000\">X[5] &lt;= &#45;0.894</text>\n<text text-anchor=\"middle\" x=\"2565.5\" y=\"-334.8\" font-family=\"Times,serif\" font-size=\"14.00\" fill=\"#000000\">gini = 0.203</text>\n<text text-anchor=\"middle\" x=\"2565.5\" y=\"-319.8\" font-family=\"Times,serif\" font-size=\"14.00\" fill=\"#000000\">samples = 244</text>\n<text text-anchor=\"middle\" x=\"2565.5\" y=\"-304.8\" font-family=\"Times,serif\" font-size=\"14.00\" fill=\"#000000\">value = [28, 216]</text>\n</g>\n<!-- 32&#45;&gt;33 -->\n<g id=\"edge33\" class=\"edge\">\n<title>32&#45;&gt;33</title>\n<path fill=\"none\" stroke=\"#000000\" d=\"M2565.5,-400.9465C2565.5,-392.776 2565.5,-383.9318 2565.5,-375.3697\"/>\n<polygon fill=\"#000000\" stroke=\"#000000\" points=\"2569.0001,-375.13 2565.5,-365.13 2562.0001,-375.13 2569.0001,-375.13\"/>\n</g>\n<!-- 46 -->\n<g id=\"node47\" class=\"node\">\n<title>46</title>\n<polygon fill=\"none\" stroke=\"#000000\" points=\"3010.5,-365 2900.5,-365 2900.5,-297 3010.5,-297 3010.5,-365\"/>\n<text text-anchor=\"middle\" x=\"2955.5\" y=\"-349.8\" font-family=\"Times,serif\" font-size=\"14.00\" fill=\"#000000\">X[5] &lt;= 1.721</text>\n<text text-anchor=\"middle\" x=\"2955.5\" y=\"-334.8\" font-family=\"Times,serif\" font-size=\"14.00\" fill=\"#000000\">gini = 0.026</text>\n<text text-anchor=\"middle\" x=\"2955.5\" y=\"-319.8\" font-family=\"Times,serif\" font-size=\"14.00\" fill=\"#000000\">samples = 695</text>\n<text text-anchor=\"middle\" x=\"2955.5\" y=\"-304.8\" font-family=\"Times,serif\" font-size=\"14.00\" fill=\"#000000\">value = [9, 686]</text>\n</g>\n<!-- 32&#45;&gt;46 -->\n<g id=\"edge46\" class=\"edge\">\n<title>32&#45;&gt;46</title>\n<path fill=\"none\" stroke=\"#000000\" d=\"M2624.3092,-419.3175C2695.892,-400.2288 2816.3803,-368.0986 2890.609,-348.3043\"/>\n<polygon fill=\"#000000\" stroke=\"#000000\" points=\"2891.5582,-351.6735 2900.3187,-345.715 2889.7545,-344.9099 2891.5582,-351.6735\"/>\n</g>\n<!-- 34 -->\n<g id=\"node35\" class=\"node\">\n<title>34</title>\n<polygon fill=\"none\" stroke=\"#000000\" points=\"2526.5,-261 2424.5,-261 2424.5,-193 2526.5,-193 2526.5,-261\"/>\n<text text-anchor=\"middle\" x=\"2475.5\" y=\"-245.8\" font-family=\"Times,serif\" font-size=\"14.00\" fill=\"#000000\">X[1] &lt;= 0.341</text>\n<text text-anchor=\"middle\" x=\"2475.5\" y=\"-230.8\" font-family=\"Times,serif\" font-size=\"14.00\" fill=\"#000000\">gini = 0.413</text>\n<text text-anchor=\"middle\" x=\"2475.5\" y=\"-215.8\" font-family=\"Times,serif\" font-size=\"14.00\" fill=\"#000000\">samples = 24</text>\n<text text-anchor=\"middle\" x=\"2475.5\" y=\"-200.8\" font-family=\"Times,serif\" font-size=\"14.00\" fill=\"#000000\">value = [7, 17]</text>\n</g>\n<!-- 33&#45;&gt;34 -->\n<g id=\"edge34\" class=\"edge\">\n<title>33&#45;&gt;34</title>\n<path fill=\"none\" stroke=\"#000000\" d=\"M2536.0306,-296.9465C2528.2607,-287.968 2519.7868,-278.1758 2511.7064,-268.8385\"/>\n<polygon fill=\"#000000\" stroke=\"#000000\" points=\"2514.226,-266.4014 2505.0356,-261.13 2508.9328,-270.982 2514.226,-266.4014\"/>\n</g>\n<!-- 41 -->\n<g id=\"node42\" class=\"node\">\n<title>41</title>\n<polygon fill=\"none\" stroke=\"#000000\" points=\"2714,-261 2597,-261 2597,-193 2714,-193 2714,-261\"/>\n<text text-anchor=\"middle\" x=\"2655.5\" y=\"-245.8\" font-family=\"Times,serif\" font-size=\"14.00\" fill=\"#000000\">X[5] &lt;= 1.161</text>\n<text text-anchor=\"middle\" x=\"2655.5\" y=\"-230.8\" font-family=\"Times,serif\" font-size=\"14.00\" fill=\"#000000\">gini = 0.173</text>\n<text text-anchor=\"middle\" x=\"2655.5\" y=\"-215.8\" font-family=\"Times,serif\" font-size=\"14.00\" fill=\"#000000\">samples = 220</text>\n<text text-anchor=\"middle\" x=\"2655.5\" y=\"-200.8\" font-family=\"Times,serif\" font-size=\"14.00\" fill=\"#000000\">value = [21, 199]</text>\n</g>\n<!-- 33&#45;&gt;41 -->\n<g id=\"edge41\" class=\"edge\">\n<title>33&#45;&gt;41</title>\n<path fill=\"none\" stroke=\"#000000\" d=\"M2594.9694,-296.9465C2602.7393,-287.968 2611.2132,-278.1758 2619.2936,-268.8385\"/>\n<polygon fill=\"#000000\" stroke=\"#000000\" points=\"2622.0672,-270.982 2625.9644,-261.13 2616.774,-266.4014 2622.0672,-270.982\"/>\n</g>\n<!-- 35 -->\n<g id=\"node36\" class=\"node\">\n<title>35</title>\n<polygon fill=\"none\" stroke=\"#000000\" points=\"2354.5,-157 2248.5,-157 2248.5,-89 2354.5,-89 2354.5,-157\"/>\n<text text-anchor=\"middle\" x=\"2301.5\" y=\"-141.8\" font-family=\"Times,serif\" font-size=\"14.00\" fill=\"#000000\">X[1] &lt;= &#45;0.922</text>\n<text text-anchor=\"middle\" x=\"2301.5\" y=\"-126.8\" font-family=\"Times,serif\" font-size=\"14.00\" fill=\"#000000\">gini = 0.278</text>\n<text text-anchor=\"middle\" x=\"2301.5\" y=\"-111.8\" font-family=\"Times,serif\" font-size=\"14.00\" fill=\"#000000\">samples = 18</text>\n<text text-anchor=\"middle\" x=\"2301.5\" y=\"-96.8\" font-family=\"Times,serif\" font-size=\"14.00\" fill=\"#000000\">value = [3, 15]</text>\n</g>\n<!-- 34&#45;&gt;35 -->\n<g id=\"edge35\" class=\"edge\">\n<title>34&#45;&gt;35</title>\n<path fill=\"none\" stroke=\"#000000\" d=\"M2424.2354,-196.3591C2405.1116,-184.9288 2383.1996,-171.8319 2363.232,-159.8973\"/>\n<polygon fill=\"#000000\" stroke=\"#000000\" points=\"2364.8899,-156.8107 2354.5106,-154.6845 2361.2986,-162.8192 2364.8899,-156.8107\"/>\n</g>\n<!-- 38 -->\n<g id=\"node39\" class=\"node\">\n<title>38</title>\n<polygon fill=\"none\" stroke=\"#000000\" points=\"2528.5,-157 2422.5,-157 2422.5,-89 2528.5,-89 2528.5,-157\"/>\n<text text-anchor=\"middle\" x=\"2475.5\" y=\"-141.8\" font-family=\"Times,serif\" font-size=\"14.00\" fill=\"#000000\">X[5] &lt;= &#45;1.529</text>\n<text text-anchor=\"middle\" x=\"2475.5\" y=\"-126.8\" font-family=\"Times,serif\" font-size=\"14.00\" fill=\"#000000\">gini = 0.444</text>\n<text text-anchor=\"middle\" x=\"2475.5\" y=\"-111.8\" font-family=\"Times,serif\" font-size=\"14.00\" fill=\"#000000\">samples = 6</text>\n<text text-anchor=\"middle\" x=\"2475.5\" y=\"-96.8\" font-family=\"Times,serif\" font-size=\"14.00\" fill=\"#000000\">value = [4, 2]</text>\n</g>\n<!-- 34&#45;&gt;38 -->\n<g id=\"edge38\" class=\"edge\">\n<title>34&#45;&gt;38</title>\n<path fill=\"none\" stroke=\"#000000\" d=\"M2475.5,-192.9465C2475.5,-184.776 2475.5,-175.9318 2475.5,-167.3697\"/>\n<polygon fill=\"#000000\" stroke=\"#000000\" points=\"2479.0001,-167.13 2475.5,-157.13 2472.0001,-167.13 2479.0001,-167.13\"/>\n</g>\n<!-- 36 -->\n<g id=\"node37\" class=\"node\">\n<title>36</title>\n<polygon fill=\"none\" stroke=\"#000000\" points=\"2232,-53 2137,-53 2137,0 2232,0 2232,-53\"/>\n<text text-anchor=\"middle\" x=\"2184.5\" y=\"-37.8\" font-family=\"Times,serif\" font-size=\"14.00\" fill=\"#000000\">gini = 0.0</text>\n<text text-anchor=\"middle\" x=\"2184.5\" y=\"-22.8\" font-family=\"Times,serif\" font-size=\"14.00\" fill=\"#000000\">samples = 2</text>\n<text text-anchor=\"middle\" x=\"2184.5\" y=\"-7.8\" font-family=\"Times,serif\" font-size=\"14.00\" fill=\"#000000\">value = [2, 0]</text>\n</g>\n<!-- 35&#45;&gt;36 -->\n<g id=\"edge36\" class=\"edge\">\n<title>35&#45;&gt;36</title>\n<path fill=\"none\" stroke=\"#000000\" d=\"M2260.2502,-88.9777C2248.7039,-79.4545 2236.1729,-69.1191 2224.689,-59.6473\"/>\n<polygon fill=\"#000000\" stroke=\"#000000\" points=\"2226.8724,-56.9113 2216.9308,-53.2485 2222.4184,-62.3115 2226.8724,-56.9113\"/>\n</g>\n<!-- 37 -->\n<g id=\"node38\" class=\"node\">\n<title>37</title>\n<polygon fill=\"none\" stroke=\"#000000\" points=\"2352.5,-53 2250.5,-53 2250.5,0 2352.5,0 2352.5,-53\"/>\n<text text-anchor=\"middle\" x=\"2301.5\" y=\"-37.8\" font-family=\"Times,serif\" font-size=\"14.00\" fill=\"#000000\">gini = 0.117</text>\n<text text-anchor=\"middle\" x=\"2301.5\" y=\"-22.8\" font-family=\"Times,serif\" font-size=\"14.00\" fill=\"#000000\">samples = 16</text>\n<text text-anchor=\"middle\" x=\"2301.5\" y=\"-7.8\" font-family=\"Times,serif\" font-size=\"14.00\" fill=\"#000000\">value = [1, 15]</text>\n</g>\n<!-- 35&#45;&gt;37 -->\n<g id=\"edge37\" class=\"edge\">\n<title>35&#45;&gt;37</title>\n<path fill=\"none\" stroke=\"#000000\" d=\"M2301.5,-88.9777C2301.5,-80.7364 2301.5,-71.887 2301.5,-63.5153\"/>\n<polygon fill=\"#000000\" stroke=\"#000000\" points=\"2305.0001,-63.2484 2301.5,-53.2485 2298.0001,-63.2485 2305.0001,-63.2484\"/>\n</g>\n<!-- 39 -->\n<g id=\"node40\" class=\"node\">\n<title>39</title>\n<polygon fill=\"none\" stroke=\"#000000\" points=\"2466,-53 2371,-53 2371,0 2466,0 2466,-53\"/>\n<text text-anchor=\"middle\" x=\"2418.5\" y=\"-37.8\" font-family=\"Times,serif\" font-size=\"14.00\" fill=\"#000000\">gini = 0.0</text>\n<text text-anchor=\"middle\" x=\"2418.5\" y=\"-22.8\" font-family=\"Times,serif\" font-size=\"14.00\" fill=\"#000000\">samples = 3</text>\n<text text-anchor=\"middle\" x=\"2418.5\" y=\"-7.8\" font-family=\"Times,serif\" font-size=\"14.00\" fill=\"#000000\">value = [3, 0]</text>\n</g>\n<!-- 38&#45;&gt;39 -->\n<g id=\"edge39\" class=\"edge\">\n<title>38&#45;&gt;39</title>\n<path fill=\"none\" stroke=\"#000000\" d=\"M2455.4039,-88.9777C2450.2656,-80.2786 2444.727,-70.9018 2439.5425,-62.1247\"/>\n<polygon fill=\"#000000\" stroke=\"#000000\" points=\"2442.399,-60.0786 2434.2996,-53.2485 2436.3719,-63.6387 2442.399,-60.0786\"/>\n</g>\n<!-- 40 -->\n<g id=\"node41\" class=\"node\">\n<title>40</title>\n<polygon fill=\"none\" stroke=\"#000000\" points=\"2579,-53 2484,-53 2484,0 2579,0 2579,-53\"/>\n<text text-anchor=\"middle\" x=\"2531.5\" y=\"-37.8\" font-family=\"Times,serif\" font-size=\"14.00\" fill=\"#000000\">gini = 0.444</text>\n<text text-anchor=\"middle\" x=\"2531.5\" y=\"-22.8\" font-family=\"Times,serif\" font-size=\"14.00\" fill=\"#000000\">samples = 3</text>\n<text text-anchor=\"middle\" x=\"2531.5\" y=\"-7.8\" font-family=\"Times,serif\" font-size=\"14.00\" fill=\"#000000\">value = [1, 2]</text>\n</g>\n<!-- 38&#45;&gt;40 -->\n<g id=\"edge40\" class=\"edge\">\n<title>38&#45;&gt;40</title>\n<path fill=\"none\" stroke=\"#000000\" d=\"M2495.2435,-88.9777C2500.2917,-80.2786 2505.7331,-70.9018 2510.8266,-62.1247\"/>\n<polygon fill=\"#000000\" stroke=\"#000000\" points=\"2513.9855,-63.6544 2515.9776,-53.2485 2507.9311,-60.1409 2513.9855,-63.6544\"/>\n</g>\n<!-- 42 -->\n<g id=\"node43\" class=\"node\">\n<title>42</title>\n<polygon fill=\"none\" stroke=\"#000000\" points=\"2714,-157 2597,-157 2597,-89 2714,-89 2714,-157\"/>\n<text text-anchor=\"middle\" x=\"2655.5\" y=\"-141.8\" font-family=\"Times,serif\" font-size=\"14.00\" fill=\"#000000\">X[5] &lt;= 1.158</text>\n<text text-anchor=\"middle\" x=\"2655.5\" y=\"-126.8\" font-family=\"Times,serif\" font-size=\"14.00\" fill=\"#000000\">gini = 0.21</text>\n<text text-anchor=\"middle\" x=\"2655.5\" y=\"-111.8\" font-family=\"Times,serif\" font-size=\"14.00\" fill=\"#000000\">samples = 176</text>\n<text text-anchor=\"middle\" x=\"2655.5\" y=\"-96.8\" font-family=\"Times,serif\" font-size=\"14.00\" fill=\"#000000\">value = [21, 155]</text>\n</g>\n<!-- 41&#45;&gt;42 -->\n<g id=\"edge42\" class=\"edge\">\n<title>41&#45;&gt;42</title>\n<path fill=\"none\" stroke=\"#000000\" d=\"M2655.5,-192.9465C2655.5,-184.776 2655.5,-175.9318 2655.5,-167.3697\"/>\n<polygon fill=\"#000000\" stroke=\"#000000\" points=\"2659.0001,-167.13 2655.5,-157.13 2652.0001,-167.13 2659.0001,-167.13\"/>\n</g>\n<!-- 45 -->\n<g id=\"node46\" class=\"node\">\n<title>45</title>\n<polygon fill=\"none\" stroke=\"#000000\" points=\"2834.5,-149.5 2732.5,-149.5 2732.5,-96.5 2834.5,-96.5 2834.5,-149.5\"/>\n<text text-anchor=\"middle\" x=\"2783.5\" y=\"-134.3\" font-family=\"Times,serif\" font-size=\"14.00\" fill=\"#000000\">gini = 0.0</text>\n<text text-anchor=\"middle\" x=\"2783.5\" y=\"-119.3\" font-family=\"Times,serif\" font-size=\"14.00\" fill=\"#000000\">samples = 44</text>\n<text text-anchor=\"middle\" x=\"2783.5\" y=\"-104.3\" font-family=\"Times,serif\" font-size=\"14.00\" fill=\"#000000\">value = [0, 44]</text>\n</g>\n<!-- 41&#45;&gt;45 -->\n<g id=\"edge45\" class=\"edge\">\n<title>41&#45;&gt;45</title>\n<path fill=\"none\" stroke=\"#000000\" d=\"M2697.412,-192.9465C2712.0533,-181.0504 2728.4526,-167.726 2742.9785,-155.9237\"/>\n<polygon fill=\"#000000\" stroke=\"#000000\" points=\"2745.2786,-158.5645 2750.8327,-149.5422 2740.8645,-153.1317 2745.2786,-158.5645\"/>\n</g>\n<!-- 43 -->\n<g id=\"node44\" class=\"node\">\n<title>43</title>\n<polygon fill=\"none\" stroke=\"#000000\" points=\"2714,-53 2597,-53 2597,0 2714,0 2714,-53\"/>\n<text text-anchor=\"middle\" x=\"2655.5\" y=\"-37.8\" font-family=\"Times,serif\" font-size=\"14.00\" fill=\"#000000\">gini = 0.202</text>\n<text text-anchor=\"middle\" x=\"2655.5\" y=\"-22.8\" font-family=\"Times,serif\" font-size=\"14.00\" fill=\"#000000\">samples = 175</text>\n<text text-anchor=\"middle\" x=\"2655.5\" y=\"-7.8\" font-family=\"Times,serif\" font-size=\"14.00\" fill=\"#000000\">value = [20, 155]</text>\n</g>\n<!-- 42&#45;&gt;43 -->\n<g id=\"edge43\" class=\"edge\">\n<title>42&#45;&gt;43</title>\n<path fill=\"none\" stroke=\"#000000\" d=\"M2655.5,-88.9777C2655.5,-80.7364 2655.5,-71.887 2655.5,-63.5153\"/>\n<polygon fill=\"#000000\" stroke=\"#000000\" points=\"2659.0001,-63.2484 2655.5,-53.2485 2652.0001,-63.2485 2659.0001,-63.2484\"/>\n</g>\n<!-- 44 -->\n<g id=\"node45\" class=\"node\">\n<title>44</title>\n<polygon fill=\"none\" stroke=\"#000000\" points=\"2827,-53 2732,-53 2732,0 2827,0 2827,-53\"/>\n<text text-anchor=\"middle\" x=\"2779.5\" y=\"-37.8\" font-family=\"Times,serif\" font-size=\"14.00\" fill=\"#000000\">gini = 0.0</text>\n<text text-anchor=\"middle\" x=\"2779.5\" y=\"-22.8\" font-family=\"Times,serif\" font-size=\"14.00\" fill=\"#000000\">samples = 1</text>\n<text text-anchor=\"middle\" x=\"2779.5\" y=\"-7.8\" font-family=\"Times,serif\" font-size=\"14.00\" fill=\"#000000\">value = [1, 0]</text>\n</g>\n<!-- 42&#45;&gt;44 -->\n<g id=\"edge44\" class=\"edge\">\n<title>42&#45;&gt;44</title>\n<path fill=\"none\" stroke=\"#000000\" d=\"M2699.2178,-88.9777C2711.4549,-79.4545 2724.7355,-69.1191 2736.9066,-59.6473\"/>\n<polygon fill=\"#000000\" stroke=\"#000000\" points=\"2739.3866,-62.1523 2745.1289,-53.2485 2735.0875,-56.628 2739.3866,-62.1523\"/>\n</g>\n<!-- 47 -->\n<g id=\"node48\" class=\"node\">\n<title>47</title>\n<polygon fill=\"none\" stroke=\"#000000\" points=\"3010.5,-261 2900.5,-261 2900.5,-193 3010.5,-193 3010.5,-261\"/>\n<text text-anchor=\"middle\" x=\"2955.5\" y=\"-245.8\" font-family=\"Times,serif\" font-size=\"14.00\" fill=\"#000000\">X[1] &lt;= &#45;1.387</text>\n<text text-anchor=\"middle\" x=\"2955.5\" y=\"-230.8\" font-family=\"Times,serif\" font-size=\"14.00\" fill=\"#000000\">gini = 0.023</text>\n<text text-anchor=\"middle\" x=\"2955.5\" y=\"-215.8\" font-family=\"Times,serif\" font-size=\"14.00\" fill=\"#000000\">samples = 694</text>\n<text text-anchor=\"middle\" x=\"2955.5\" y=\"-200.8\" font-family=\"Times,serif\" font-size=\"14.00\" fill=\"#000000\">value = [8, 686]</text>\n</g>\n<!-- 46&#45;&gt;47 -->\n<g id=\"edge47\" class=\"edge\">\n<title>46&#45;&gt;47</title>\n<path fill=\"none\" stroke=\"#000000\" d=\"M2955.5,-296.9465C2955.5,-288.776 2955.5,-279.9318 2955.5,-271.3697\"/>\n<polygon fill=\"#000000\" stroke=\"#000000\" points=\"2959.0001,-271.13 2955.5,-261.13 2952.0001,-271.13 2959.0001,-271.13\"/>\n</g>\n<!-- 54 -->\n<g id=\"node55\" class=\"node\">\n<title>54</title>\n<polygon fill=\"none\" stroke=\"#000000\" points=\"3124,-253.5 3029,-253.5 3029,-200.5 3124,-200.5 3124,-253.5\"/>\n<text text-anchor=\"middle\" x=\"3076.5\" y=\"-238.3\" font-family=\"Times,serif\" font-size=\"14.00\" fill=\"#000000\">gini = 0.0</text>\n<text text-anchor=\"middle\" x=\"3076.5\" y=\"-223.3\" font-family=\"Times,serif\" font-size=\"14.00\" fill=\"#000000\">samples = 1</text>\n<text text-anchor=\"middle\" x=\"3076.5\" y=\"-208.3\" font-family=\"Times,serif\" font-size=\"14.00\" fill=\"#000000\">value = [1, 0]</text>\n</g>\n<!-- 46&#45;&gt;54 -->\n<g id=\"edge54\" class=\"edge\">\n<title>46&#45;&gt;54</title>\n<path fill=\"none\" stroke=\"#000000\" d=\"M2995.1199,-296.9465C3008.8324,-285.1606 3024.1761,-271.9726 3037.8127,-260.2519\"/>\n<polygon fill=\"#000000\" stroke=\"#000000\" points=\"3040.3169,-262.7147 3045.6192,-253.5422 3035.7541,-257.4061 3040.3169,-262.7147\"/>\n</g>\n<!-- 48 -->\n<g id=\"node49\" class=\"node\">\n<title>48</title>\n<polygon fill=\"none\" stroke=\"#000000\" points=\"3006.5,-157 2904.5,-157 2904.5,-89 3006.5,-89 3006.5,-157\"/>\n<text text-anchor=\"middle\" x=\"2955.5\" y=\"-141.8\" font-family=\"Times,serif\" font-size=\"14.00\" fill=\"#000000\">X[5] &lt;= 1.537</text>\n<text text-anchor=\"middle\" x=\"2955.5\" y=\"-126.8\" font-family=\"Times,serif\" font-size=\"14.00\" fill=\"#000000\">gini = 0.198</text>\n<text text-anchor=\"middle\" x=\"2955.5\" y=\"-111.8\" font-family=\"Times,serif\" font-size=\"14.00\" fill=\"#000000\">samples = 36</text>\n<text text-anchor=\"middle\" x=\"2955.5\" y=\"-96.8\" font-family=\"Times,serif\" font-size=\"14.00\" fill=\"#000000\">value = [4, 32]</text>\n</g>\n<!-- 47&#45;&gt;48 -->\n<g id=\"edge48\" class=\"edge\">\n<title>47&#45;&gt;48</title>\n<path fill=\"none\" stroke=\"#000000\" d=\"M2955.5,-192.9465C2955.5,-184.776 2955.5,-175.9318 2955.5,-167.3697\"/>\n<polygon fill=\"#000000\" stroke=\"#000000\" points=\"2959.0001,-167.13 2955.5,-157.13 2952.0001,-167.13 2959.0001,-167.13\"/>\n</g>\n<!-- 51 -->\n<g id=\"node52\" class=\"node\">\n<title>51</title>\n<polygon fill=\"none\" stroke=\"#000000\" points=\"3185.5,-157 3075.5,-157 3075.5,-89 3185.5,-89 3185.5,-157\"/>\n<text text-anchor=\"middle\" x=\"3130.5\" y=\"-141.8\" font-family=\"Times,serif\" font-size=\"14.00\" fill=\"#000000\">X[2] &lt;= &#45;0.419</text>\n<text text-anchor=\"middle\" x=\"3130.5\" y=\"-126.8\" font-family=\"Times,serif\" font-size=\"14.00\" fill=\"#000000\">gini = 0.012</text>\n<text text-anchor=\"middle\" x=\"3130.5\" y=\"-111.8\" font-family=\"Times,serif\" font-size=\"14.00\" fill=\"#000000\">samples = 658</text>\n<text text-anchor=\"middle\" x=\"3130.5\" y=\"-96.8\" font-family=\"Times,serif\" font-size=\"14.00\" fill=\"#000000\">value = [4, 654]</text>\n</g>\n<!-- 47&#45;&gt;51 -->\n<g id=\"edge51\" class=\"edge\">\n<title>47&#45;&gt;51</title>\n<path fill=\"none\" stroke=\"#000000\" d=\"M3010.8711,-194.0938C3028.5983,-183.5587 3048.3686,-171.8095 3066.6498,-160.9453\"/>\n<polygon fill=\"#000000\" stroke=\"#000000\" points=\"3068.6807,-163.8098 3075.4891,-155.6922 3065.1045,-157.7922 3068.6807,-163.8098\"/>\n</g>\n<!-- 49 -->\n<g id=\"node50\" class=\"node\">\n<title>49</title>\n<polygon fill=\"none\" stroke=\"#000000\" points=\"2947.5,-53 2845.5,-53 2845.5,0 2947.5,0 2947.5,-53\"/>\n<text text-anchor=\"middle\" x=\"2896.5\" y=\"-37.8\" font-family=\"Times,serif\" font-size=\"14.00\" fill=\"#000000\">gini = 0.114</text>\n<text text-anchor=\"middle\" x=\"2896.5\" y=\"-22.8\" font-family=\"Times,serif\" font-size=\"14.00\" fill=\"#000000\">samples = 33</text>\n<text text-anchor=\"middle\" x=\"2896.5\" y=\"-7.8\" font-family=\"Times,serif\" font-size=\"14.00\" fill=\"#000000\">value = [2, 31]</text>\n</g>\n<!-- 48&#45;&gt;49 -->\n<g id=\"edge49\" class=\"edge\">\n<title>48&#45;&gt;49</title>\n<path fill=\"none\" stroke=\"#000000\" d=\"M2934.6988,-88.9777C2929.3242,-80.187 2923.5265,-70.7044 2918.1115,-61.8477\"/>\n<polygon fill=\"#000000\" stroke=\"#000000\" points=\"2921.0564,-59.9545 2912.854,-53.2485 2915.0842,-63.6059 2921.0564,-59.9545\"/>\n</g>\n<!-- 50 -->\n<g id=\"node51\" class=\"node\">\n<title>50</title>\n<polygon fill=\"none\" stroke=\"#000000\" points=\"3061,-53 2966,-53 2966,0 3061,0 3061,-53\"/>\n<text text-anchor=\"middle\" x=\"3013.5\" y=\"-37.8\" font-family=\"Times,serif\" font-size=\"14.00\" fill=\"#000000\">gini = 0.444</text>\n<text text-anchor=\"middle\" x=\"3013.5\" y=\"-22.8\" font-family=\"Times,serif\" font-size=\"14.00\" fill=\"#000000\">samples = 3</text>\n<text text-anchor=\"middle\" x=\"3013.5\" y=\"-7.8\" font-family=\"Times,serif\" font-size=\"14.00\" fill=\"#000000\">value = [2, 1]</text>\n</g>\n<!-- 48&#45;&gt;50 -->\n<g id=\"edge50\" class=\"edge\">\n<title>48&#45;&gt;50</title>\n<path fill=\"none\" stroke=\"#000000\" d=\"M2975.9486,-88.9777C2981.2322,-80.187 2986.9316,-70.7044 2992.2548,-61.8477\"/>\n<polygon fill=\"#000000\" stroke=\"#000000\" points=\"2995.2715,-63.6225 2997.4232,-53.2485 2989.2718,-60.0165 2995.2715,-63.6225\"/>\n</g>\n<!-- 52 -->\n<g id=\"node53\" class=\"node\">\n<title>52</title>\n<polygon fill=\"none\" stroke=\"#000000\" points=\"3181.5,-53 3079.5,-53 3079.5,0 3181.5,0 3181.5,-53\"/>\n<text text-anchor=\"middle\" x=\"3130.5\" y=\"-37.8\" font-family=\"Times,serif\" font-size=\"14.00\" fill=\"#000000\">gini = 0.069</text>\n<text text-anchor=\"middle\" x=\"3130.5\" y=\"-22.8\" font-family=\"Times,serif\" font-size=\"14.00\" fill=\"#000000\">samples = 28</text>\n<text text-anchor=\"middle\" x=\"3130.5\" y=\"-7.8\" font-family=\"Times,serif\" font-size=\"14.00\" fill=\"#000000\">value = [1, 27]</text>\n</g>\n<!-- 51&#45;&gt;52 -->\n<g id=\"edge52\" class=\"edge\">\n<title>51&#45;&gt;52</title>\n<path fill=\"none\" stroke=\"#000000\" d=\"M3130.5,-88.9777C3130.5,-80.7364 3130.5,-71.887 3130.5,-63.5153\"/>\n<polygon fill=\"#000000\" stroke=\"#000000\" points=\"3134.0001,-63.2484 3130.5,-53.2485 3127.0001,-63.2485 3134.0001,-63.2484\"/>\n</g>\n<!-- 53 -->\n<g id=\"node54\" class=\"node\">\n<title>53</title>\n<polygon fill=\"none\" stroke=\"#000000\" points=\"3309.5,-53 3199.5,-53 3199.5,0 3309.5,0 3309.5,-53\"/>\n<text text-anchor=\"middle\" x=\"3254.5\" y=\"-37.8\" font-family=\"Times,serif\" font-size=\"14.00\" fill=\"#000000\">gini = 0.009</text>\n<text text-anchor=\"middle\" x=\"3254.5\" y=\"-22.8\" font-family=\"Times,serif\" font-size=\"14.00\" fill=\"#000000\">samples = 630</text>\n<text text-anchor=\"middle\" x=\"3254.5\" y=\"-7.8\" font-family=\"Times,serif\" font-size=\"14.00\" fill=\"#000000\">value = [3, 627]</text>\n</g>\n<!-- 51&#45;&gt;53 -->\n<g id=\"edge53\" class=\"edge\">\n<title>51&#45;&gt;53</title>\n<path fill=\"none\" stroke=\"#000000\" d=\"M3174.2178,-88.9777C3186.4549,-79.4545 3199.7355,-69.1191 3211.9066,-59.6473\"/>\n<polygon fill=\"#000000\" stroke=\"#000000\" points=\"3214.3866,-62.1523 3220.1289,-53.2485 3210.0875,-56.628 3214.3866,-62.1523\"/>\n</g>\n</g>\n</svg>\n"
          },
          "metadata": {},
          "execution_count": 127
        }
      ]
    },
    {
      "cell_type": "markdown",
      "metadata": {
        "id": "9EzsclhrNqGY"
      },
      "source": [
        "## Otimização dos hiperparametros"
      ]
    },
    {
      "cell_type": "code",
      "metadata": {
        "id": "G1DXhMtfOguo"
      },
      "source": [
        "SEED = 123456"
      ],
      "execution_count": 128,
      "outputs": []
    },
    {
      "cell_type": "code",
      "metadata": {
        "id": "1ae-vxxpHmj7"
      },
      "source": [
        "espaco_de_parametros = {\n",
        "    \"max_depth\" : randint(1, 10),\n",
        "    \"min_samples_split\" : randint(32, 129),\n",
        "    \"min_samples_leaf\" : randint(32, 129),\n",
        "    \"criterion\" : [\"gini\", \"entropy\"]\n",
        "}"
      ],
      "execution_count": 129,
      "outputs": []
    },
    {
      "cell_type": "code",
      "metadata": {
        "id": "P7zU0yOxOKk4"
      },
      "source": [
        "modelo_arvore = DecisionTreeClassifier()\n",
        "\n",
        "clf = RandomizedSearchCV(modelo_arvore, espaco_de_parametros, random_state=SEED, cv=5, return_train_score=True, n_iter=10, scoring='accuracy')\n",
        "search = clf.fit(X, y)\n",
        "results_RandomizedSearchCV = search.cv_results_\n",
        "indice_melhores_parametros = search.best_index_"
      ],
      "execution_count": 130,
      "outputs": []
    },
    {
      "cell_type": "code",
      "metadata": {
        "id": "hXnm-r7dOXfQ",
        "colab": {
          "base_uri": "https://localhost:8080/"
        },
        "outputId": "f7d11ebe-131e-4d54-dd5a-388b0173ae18"
      },
      "source": [
        "print(f\"mean_train_score {results_RandomizedSearchCV['mean_train_score'][indice_melhores_parametros]:.2f}\")\n",
        "print(f\"mean_test_score {results_RandomizedSearchCV['mean_test_score'][indice_melhores_parametros]:.2f}\")"
      ],
      "execution_count": 131,
      "outputs": [
        {
          "output_type": "stream",
          "name": "stdout",
          "text": [
            "mean_train_score 0.70\n",
            "mean_test_score 0.69\n"
          ]
        }
      ]
    },
    {
      "cell_type": "code",
      "metadata": {
        "id": "TQKjI3wZOlsS",
        "colab": {
          "base_uri": "https://localhost:8080/"
        },
        "outputId": "e7667b2b-ac31-4781-dd32-52ae48b83240"
      },
      "source": [
        "results_RandomizedSearchCV['params'][indice_melhores_parametros]"
      ],
      "execution_count": 132,
      "outputs": [
        {
          "output_type": "execute_result",
          "data": {
            "text/plain": [
              "{'criterion': 'gini',\n",
              " 'max_depth': 7,\n",
              " 'min_samples_leaf': 66,\n",
              " 'min_samples_split': 46}"
            ]
          },
          "metadata": {},
          "execution_count": 132
        }
      ]
    },
    {
      "cell_type": "code",
      "metadata": {
        "id": "BoAdOHe7QcgN",
        "colab": {
          "base_uri": "https://localhost:8080/"
        },
        "outputId": "4c503cd6-559e-4c34-9b9a-dc86e1f41635"
      },
      "source": [
        "clf = DecisionTreeClassifier(criterion='gini', max_depth=5, min_samples_leaf=79, min_samples_split=82)\n",
        "clf.fit(X_train, y_train)"
      ],
      "execution_count": 133,
      "outputs": [
        {
          "output_type": "execute_result",
          "data": {
            "text/plain": [
              "DecisionTreeClassifier(ccp_alpha=0.0, class_weight=None, criterion='gini',\n",
              "                       max_depth=5, max_features=None, max_leaf_nodes=None,\n",
              "                       min_impurity_decrease=0.0, min_impurity_split=None,\n",
              "                       min_samples_leaf=79, min_samples_split=82,\n",
              "                       min_weight_fraction_leaf=0.0, presort='deprecated',\n",
              "                       random_state=None, splitter='best')"
            ]
          },
          "metadata": {},
          "execution_count": 133
        }
      ]
    },
    {
      "cell_type": "code",
      "metadata": {
        "id": "AXGjj3xMQxif",
        "colab": {
          "base_uri": "https://localhost:8080/"
        },
        "outputId": "641df20a-bd0e-468c-82f8-cd69827c4fc3"
      },
      "source": [
        "print_score(clf, X_train, y_train, X_test, y_test, train=True)\n",
        "print_score(clf, X_train, y_train, X_test, y_test, train=False)"
      ],
      "execution_count": 134,
      "outputs": [
        {
          "output_type": "stream",
          "name": "stdout",
          "text": [
            "Train Result:\n",
            "================================================\n",
            "Accuracy Score: 69.64%\n",
            "_______________________________________________\n",
            "CLASSIFICATION REPORT:\n",
            "                     0            1  accuracy     macro avg  weighted avg\n",
            "precision     0.734621     0.668871  0.696389      0.701746      0.701746\n",
            "recall        0.614914     0.777865  0.696389      0.696389      0.696389\n",
            "f1-score      0.669458     0.719263  0.696389      0.694360      0.694360\n",
            "support    6370.000000  6370.000000  0.696389  12740.000000  12740.000000\n",
            "_______________________________________________\n",
            "Confusion Matrix: \n",
            " [[3917 2453]\n",
            " [1415 4955]]\n",
            "\n",
            "Test Result:\n",
            "================================================\n",
            "Accuracy Score: 67.77%\n",
            "_______________________________________________\n",
            "CLASSIFICATION REPORT:\n",
            "                     0            1  accuracy    macro avg  weighted avg\n",
            "precision     0.719380     0.649262  0.677652     0.684321      0.684321\n",
            "recall        0.582549     0.772756  0.677652     0.677652      0.677652\n",
            "f1-score      0.643774     0.705646  0.677652     0.674710      0.674710\n",
            "support    1593.000000  1593.000000  0.677652  3186.000000   3186.000000\n",
            "_______________________________________________\n",
            "Confusion Matrix: \n",
            " [[ 928  665]\n",
            " [ 362 1231]]\n",
            "\n"
          ]
        }
      ]
    },
    {
      "cell_type": "code",
      "metadata": {
        "id": "otRHrihRROdE",
        "colab": {
          "base_uri": "https://localhost:8080/",
          "height": 816
        },
        "outputId": "d7caba4a-ca51-46d9-8dbd-83538219f99c"
      },
      "source": [
        "tree_graph_clf = tree.export_graphviz(clf, out_file=None)\n",
        "graphviz.Source(tree_graph_clf)"
      ],
      "execution_count": 135,
      "outputs": [
        {
          "output_type": "execute_result",
          "data": {
            "text/plain": [
              "<graphviz.files.Source at 0x7fb12f0c85d0>"
            ],
            "image/svg+xml": "<?xml version=\"1.0\" encoding=\"UTF-8\" standalone=\"no\"?>\n<!DOCTYPE svg PUBLIC \"-//W3C//DTD SVG 1.1//EN\"\n \"http://www.w3.org/Graphics/SVG/1.1/DTD/svg11.dtd\">\n<!-- Generated by graphviz version 2.40.1 (20161225.0304)\n -->\n<!-- Title: Tree Pages: 1 -->\n<svg width=\"2179pt\" height=\"581pt\"\n viewBox=\"0.00 0.00 2178.50 581.00\" xmlns=\"http://www.w3.org/2000/svg\" xmlns:xlink=\"http://www.w3.org/1999/xlink\">\n<g id=\"graph0\" class=\"graph\" transform=\"scale(1 1) rotate(0) translate(4 577)\">\n<title>Tree</title>\n<polygon fill=\"#ffffff\" stroke=\"transparent\" points=\"-4,4 -4,-577 2174.5,-577 2174.5,4 -4,4\"/>\n<!-- 0 -->\n<g id=\"node1\" class=\"node\">\n<title>0</title>\n<polygon fill=\"none\" stroke=\"#000000\" points=\"1605.5,-573 1465.5,-573 1465.5,-505 1605.5,-505 1605.5,-573\"/>\n<text text-anchor=\"middle\" x=\"1535.5\" y=\"-557.8\" font-family=\"Times,serif\" font-size=\"14.00\" fill=\"#000000\">X[3] &lt;= 1.667</text>\n<text text-anchor=\"middle\" x=\"1535.5\" y=\"-542.8\" font-family=\"Times,serif\" font-size=\"14.00\" fill=\"#000000\">gini = 0.5</text>\n<text text-anchor=\"middle\" x=\"1535.5\" y=\"-527.8\" font-family=\"Times,serif\" font-size=\"14.00\" fill=\"#000000\">samples = 12740</text>\n<text text-anchor=\"middle\" x=\"1535.5\" y=\"-512.8\" font-family=\"Times,serif\" font-size=\"14.00\" fill=\"#000000\">value = [6370, 6370]</text>\n</g>\n<!-- 1 -->\n<g id=\"node2\" class=\"node\">\n<title>1</title>\n<polygon fill=\"none\" stroke=\"#000000\" points=\"1459.5,-469 1319.5,-469 1319.5,-401 1459.5,-401 1459.5,-469\"/>\n<text text-anchor=\"middle\" x=\"1389.5\" y=\"-453.8\" font-family=\"Times,serif\" font-size=\"14.00\" fill=\"#000000\">X[3] &lt;= &#45;0.052</text>\n<text text-anchor=\"middle\" x=\"1389.5\" y=\"-438.8\" font-family=\"Times,serif\" font-size=\"14.00\" fill=\"#000000\">gini = 0.497</text>\n<text text-anchor=\"middle\" x=\"1389.5\" y=\"-423.8\" font-family=\"Times,serif\" font-size=\"14.00\" fill=\"#000000\">samples = 11801</text>\n<text text-anchor=\"middle\" x=\"1389.5\" y=\"-408.8\" font-family=\"Times,serif\" font-size=\"14.00\" fill=\"#000000\">value = [6333, 5468]</text>\n</g>\n<!-- 0&#45;&gt;1 -->\n<g id=\"edge1\" class=\"edge\">\n<title>0&#45;&gt;1</title>\n<path fill=\"none\" stroke=\"#000000\" d=\"M1487.6941,-504.9465C1474.3334,-495.4293 1459.6893,-484.9978 1445.8826,-475.163\"/>\n<polygon fill=\"#000000\" stroke=\"#000000\" points=\"1447.5888,-472.0811 1437.4133,-469.13 1443.5275,-477.7826 1447.5888,-472.0811\"/>\n<text text-anchor=\"middle\" x=\"1441.5552\" y=\"-490.0845\" font-family=\"Times,serif\" font-size=\"14.00\" fill=\"#000000\">True</text>\n</g>\n<!-- 28 -->\n<g id=\"node29\" class=\"node\">\n<title>28</title>\n<polygon fill=\"none\" stroke=\"#000000\" points=\"1730,-469 1613,-469 1613,-401 1730,-401 1730,-469\"/>\n<text text-anchor=\"middle\" x=\"1671.5\" y=\"-453.8\" font-family=\"Times,serif\" font-size=\"14.00\" fill=\"#000000\">X[2] &lt;= &#45;1.22</text>\n<text text-anchor=\"middle\" x=\"1671.5\" y=\"-438.8\" font-family=\"Times,serif\" font-size=\"14.00\" fill=\"#000000\">gini = 0.076</text>\n<text text-anchor=\"middle\" x=\"1671.5\" y=\"-423.8\" font-family=\"Times,serif\" font-size=\"14.00\" fill=\"#000000\">samples = 939</text>\n<text text-anchor=\"middle\" x=\"1671.5\" y=\"-408.8\" font-family=\"Times,serif\" font-size=\"14.00\" fill=\"#000000\">value = [37, 902]</text>\n</g>\n<!-- 0&#45;&gt;28 -->\n<g id=\"edge28\" class=\"edge\">\n<title>0&#45;&gt;28</title>\n<path fill=\"none\" stroke=\"#000000\" d=\"M1580.0315,-504.9465C1592.3597,-495.519 1605.8609,-485.1946 1618.615,-475.4415\"/>\n<polygon fill=\"#000000\" stroke=\"#000000\" points=\"1621.051,-477.9848 1626.8685,-469.13 1616.7988,-472.4243 1621.051,-477.9848\"/>\n<text text-anchor=\"middle\" x=\"1623.5644\" y=\"-490.2107\" font-family=\"Times,serif\" font-size=\"14.00\" fill=\"#000000\">False</text>\n</g>\n<!-- 2 -->\n<g id=\"node3\" class=\"node\">\n<title>2</title>\n<polygon fill=\"none\" stroke=\"#000000\" points=\"892.5,-365 752.5,-365 752.5,-297 892.5,-297 892.5,-365\"/>\n<text text-anchor=\"middle\" x=\"822.5\" y=\"-349.8\" font-family=\"Times,serif\" font-size=\"14.00\" fill=\"#000000\">X[2] &lt;= &#45;0.731</text>\n<text text-anchor=\"middle\" x=\"822.5\" y=\"-334.8\" font-family=\"Times,serif\" font-size=\"14.00\" fill=\"#000000\">gini = 0.479</text>\n<text text-anchor=\"middle\" x=\"822.5\" y=\"-319.8\" font-family=\"Times,serif\" font-size=\"14.00\" fill=\"#000000\">samples = 7322</text>\n<text text-anchor=\"middle\" x=\"822.5\" y=\"-304.8\" font-family=\"Times,serif\" font-size=\"14.00\" fill=\"#000000\">value = [2917, 4405]</text>\n</g>\n<!-- 1&#45;&gt;2 -->\n<g id=\"edge2\" class=\"edge\">\n<title>1&#45;&gt;2</title>\n<path fill=\"none\" stroke=\"#000000\" d=\"M1319.406,-422.1433C1213.7089,-402.7561 1014.0749,-366.139 902.7151,-345.7132\"/>\n<polygon fill=\"#000000\" stroke=\"#000000\" points=\"903.3459,-342.2706 892.8785,-343.9089 902.0829,-349.1557 903.3459,-342.2706\"/>\n</g>\n<!-- 17 -->\n<g id=\"node18\" class=\"node\">\n<title>17</title>\n<polygon fill=\"none\" stroke=\"#000000\" points=\"1459.5,-365 1319.5,-365 1319.5,-297 1459.5,-297 1459.5,-365\"/>\n<text text-anchor=\"middle\" x=\"1389.5\" y=\"-349.8\" font-family=\"Times,serif\" font-size=\"14.00\" fill=\"#000000\">X[2] &lt;= &#45;1.209</text>\n<text text-anchor=\"middle\" x=\"1389.5\" y=\"-334.8\" font-family=\"Times,serif\" font-size=\"14.00\" fill=\"#000000\">gini = 0.362</text>\n<text text-anchor=\"middle\" x=\"1389.5\" y=\"-319.8\" font-family=\"Times,serif\" font-size=\"14.00\" fill=\"#000000\">samples = 4479</text>\n<text text-anchor=\"middle\" x=\"1389.5\" y=\"-304.8\" font-family=\"Times,serif\" font-size=\"14.00\" fill=\"#000000\">value = [3416, 1063]</text>\n</g>\n<!-- 1&#45;&gt;17 -->\n<g id=\"edge17\" class=\"edge\">\n<title>1&#45;&gt;17</title>\n<path fill=\"none\" stroke=\"#000000\" d=\"M1389.5,-400.9465C1389.5,-392.776 1389.5,-383.9318 1389.5,-375.3697\"/>\n<polygon fill=\"#000000\" stroke=\"#000000\" points=\"1393.0001,-375.13 1389.5,-365.13 1386.0001,-375.13 1393.0001,-375.13\"/>\n</g>\n<!-- 3 -->\n<g id=\"node4\" class=\"node\">\n<title>3</title>\n<polygon fill=\"none\" stroke=\"#000000\" points=\"476,-261 345,-261 345,-193 476,-193 476,-261\"/>\n<text text-anchor=\"middle\" x=\"410.5\" y=\"-245.8\" font-family=\"Times,serif\" font-size=\"14.00\" fill=\"#000000\">X[5] &lt;= 1.211</text>\n<text text-anchor=\"middle\" x=\"410.5\" y=\"-230.8\" font-family=\"Times,serif\" font-size=\"14.00\" fill=\"#000000\">gini = 0.411</text>\n<text text-anchor=\"middle\" x=\"410.5\" y=\"-215.8\" font-family=\"Times,serif\" font-size=\"14.00\" fill=\"#000000\">samples = 1570</text>\n<text text-anchor=\"middle\" x=\"410.5\" y=\"-200.8\" font-family=\"Times,serif\" font-size=\"14.00\" fill=\"#000000\">value = [454, 1116]</text>\n</g>\n<!-- 2&#45;&gt;3 -->\n<g id=\"edge3\" class=\"edge\">\n<title>2&#45;&gt;3</title>\n<path fill=\"none\" stroke=\"#000000\" d=\"M752.1428,-313.2399C678.1287,-294.5567 562.0602,-265.2579 486.1225,-246.0892\"/>\n<polygon fill=\"#000000\" stroke=\"#000000\" points=\"486.6967,-242.6244 476.1442,-243.5704 484.9834,-249.4115 486.6967,-242.6244\"/>\n</g>\n<!-- 10 -->\n<g id=\"node11\" class=\"node\">\n<title>10</title>\n<polygon fill=\"none\" stroke=\"#000000\" points=\"892.5,-261 752.5,-261 752.5,-193 892.5,-193 892.5,-261\"/>\n<text text-anchor=\"middle\" x=\"822.5\" y=\"-245.8\" font-family=\"Times,serif\" font-size=\"14.00\" fill=\"#000000\">X[2] &lt;= 0.21</text>\n<text text-anchor=\"middle\" x=\"822.5\" y=\"-230.8\" font-family=\"Times,serif\" font-size=\"14.00\" fill=\"#000000\">gini = 0.49</text>\n<text text-anchor=\"middle\" x=\"822.5\" y=\"-215.8\" font-family=\"Times,serif\" font-size=\"14.00\" fill=\"#000000\">samples = 5752</text>\n<text text-anchor=\"middle\" x=\"822.5\" y=\"-200.8\" font-family=\"Times,serif\" font-size=\"14.00\" fill=\"#000000\">value = [2463, 3289]</text>\n</g>\n<!-- 2&#45;&gt;10 -->\n<g id=\"edge10\" class=\"edge\">\n<title>2&#45;&gt;10</title>\n<path fill=\"none\" stroke=\"#000000\" d=\"M822.5,-296.9465C822.5,-288.776 822.5,-279.9318 822.5,-271.3697\"/>\n<polygon fill=\"#000000\" stroke=\"#000000\" points=\"826.0001,-271.13 822.5,-261.13 819.0001,-271.13 826.0001,-271.13\"/>\n</g>\n<!-- 4 -->\n<g id=\"node5\" class=\"node\">\n<title>4</title>\n<polygon fill=\"none\" stroke=\"#000000\" points=\"268,-157 143,-157 143,-89 268,-89 268,-157\"/>\n<text text-anchor=\"middle\" x=\"205.5\" y=\"-141.8\" font-family=\"Times,serif\" font-size=\"14.00\" fill=\"#000000\">X[1] &lt;= 1.032</text>\n<text text-anchor=\"middle\" x=\"205.5\" y=\"-126.8\" font-family=\"Times,serif\" font-size=\"14.00\" fill=\"#000000\">gini = 0.422</text>\n<text text-anchor=\"middle\" x=\"205.5\" y=\"-111.8\" font-family=\"Times,serif\" font-size=\"14.00\" fill=\"#000000\">samples = 1341</text>\n<text text-anchor=\"middle\" x=\"205.5\" y=\"-96.8\" font-family=\"Times,serif\" font-size=\"14.00\" fill=\"#000000\">value = [406, 935]</text>\n</g>\n<!-- 3&#45;&gt;4 -->\n<g id=\"edge4\" class=\"edge\">\n<title>3&#45;&gt;4</title>\n<path fill=\"none\" stroke=\"#000000\" d=\"M344.7908,-193.6646C323.1753,-182.6987 299.0429,-170.4559 277.0173,-159.282\"/>\n<polygon fill=\"#000000\" stroke=\"#000000\" points=\"278.547,-156.1334 268.0454,-154.7304 275.38,-162.376 278.547,-156.1334\"/>\n</g>\n<!-- 7 -->\n<g id=\"node8\" class=\"node\">\n<title>7</title>\n<polygon fill=\"none\" stroke=\"#000000\" points=\"469,-157 352,-157 352,-89 469,-89 469,-157\"/>\n<text text-anchor=\"middle\" x=\"410.5\" y=\"-141.8\" font-family=\"Times,serif\" font-size=\"14.00\" fill=\"#000000\">X[5] &lt;= 1.434</text>\n<text text-anchor=\"middle\" x=\"410.5\" y=\"-126.8\" font-family=\"Times,serif\" font-size=\"14.00\" fill=\"#000000\">gini = 0.331</text>\n<text text-anchor=\"middle\" x=\"410.5\" y=\"-111.8\" font-family=\"Times,serif\" font-size=\"14.00\" fill=\"#000000\">samples = 229</text>\n<text text-anchor=\"middle\" x=\"410.5\" y=\"-96.8\" font-family=\"Times,serif\" font-size=\"14.00\" fill=\"#000000\">value = [48, 181]</text>\n</g>\n<!-- 3&#45;&gt;7 -->\n<g id=\"edge7\" class=\"edge\">\n<title>3&#45;&gt;7</title>\n<path fill=\"none\" stroke=\"#000000\" d=\"M410.5,-192.9465C410.5,-184.776 410.5,-175.9318 410.5,-167.3697\"/>\n<polygon fill=\"#000000\" stroke=\"#000000\" points=\"414.0001,-167.13 410.5,-157.13 407.0001,-167.13 414.0001,-167.13\"/>\n</g>\n<!-- 5 -->\n<g id=\"node6\" class=\"node\">\n<title>5</title>\n<polygon fill=\"none\" stroke=\"#000000\" points=\"125,-53 0,-53 0,0 125,0 125,-53\"/>\n<text text-anchor=\"middle\" x=\"62.5\" y=\"-37.8\" font-family=\"Times,serif\" font-size=\"14.00\" fill=\"#000000\">gini = 0.407</text>\n<text text-anchor=\"middle\" x=\"62.5\" y=\"-22.8\" font-family=\"Times,serif\" font-size=\"14.00\" fill=\"#000000\">samples = 1046</text>\n<text text-anchor=\"middle\" x=\"62.5\" y=\"-7.8\" font-family=\"Times,serif\" font-size=\"14.00\" fill=\"#000000\">value = [298, 748]</text>\n</g>\n<!-- 4&#45;&gt;5 -->\n<g id=\"edge5\" class=\"edge\">\n<title>4&#45;&gt;5</title>\n<path fill=\"none\" stroke=\"#000000\" d=\"M155.0835,-88.9777C140.7,-79.2713 125.0663,-68.7213 110.8115,-59.1018\"/>\n<polygon fill=\"#000000\" stroke=\"#000000\" points=\"112.3846,-55.941 102.1376,-53.2485 108.469,-61.7435 112.3846,-55.941\"/>\n</g>\n<!-- 6 -->\n<g id=\"node7\" class=\"node\">\n<title>6</title>\n<polygon fill=\"none\" stroke=\"#000000\" points=\"268,-53 143,-53 143,0 268,0 268,-53\"/>\n<text text-anchor=\"middle\" x=\"205.5\" y=\"-37.8\" font-family=\"Times,serif\" font-size=\"14.00\" fill=\"#000000\">gini = 0.464</text>\n<text text-anchor=\"middle\" x=\"205.5\" y=\"-22.8\" font-family=\"Times,serif\" font-size=\"14.00\" fill=\"#000000\">samples = 295</text>\n<text text-anchor=\"middle\" x=\"205.5\" y=\"-7.8\" font-family=\"Times,serif\" font-size=\"14.00\" fill=\"#000000\">value = [108, 187]</text>\n</g>\n<!-- 4&#45;&gt;6 -->\n<g id=\"edge6\" class=\"edge\">\n<title>4&#45;&gt;6</title>\n<path fill=\"none\" stroke=\"#000000\" d=\"M205.5,-88.9777C205.5,-80.7364 205.5,-71.887 205.5,-63.5153\"/>\n<polygon fill=\"#000000\" stroke=\"#000000\" points=\"209.0001,-63.2484 205.5,-53.2485 202.0001,-63.2485 209.0001,-63.2484\"/>\n</g>\n<!-- 8 -->\n<g id=\"node9\" class=\"node\">\n<title>8</title>\n<polygon fill=\"none\" stroke=\"#000000\" points=\"403,-53 286,-53 286,0 403,0 403,-53\"/>\n<text text-anchor=\"middle\" x=\"344.5\" y=\"-37.8\" font-family=\"Times,serif\" font-size=\"14.00\" fill=\"#000000\">gini = 0.255</text>\n<text text-anchor=\"middle\" x=\"344.5\" y=\"-22.8\" font-family=\"Times,serif\" font-size=\"14.00\" fill=\"#000000\">samples = 120</text>\n<text text-anchor=\"middle\" x=\"344.5\" y=\"-7.8\" font-family=\"Times,serif\" font-size=\"14.00\" fill=\"#000000\">value = [18, 102]</text>\n</g>\n<!-- 7&#45;&gt;8 -->\n<g id=\"edge8\" class=\"edge\">\n<title>7&#45;&gt;8</title>\n<path fill=\"none\" stroke=\"#000000\" d=\"M387.2309,-88.9777C381.156,-80.0954 374.5979,-70.5067 368.4865,-61.5711\"/>\n<polygon fill=\"#000000\" stroke=\"#000000\" points=\"371.3286,-59.5267 362.7943,-53.2485 365.5507,-63.4785 371.3286,-59.5267\"/>\n</g>\n<!-- 9 -->\n<g id=\"node10\" class=\"node\">\n<title>9</title>\n<polygon fill=\"none\" stroke=\"#000000\" points=\"531.5,-53 421.5,-53 421.5,0 531.5,0 531.5,-53\"/>\n<text text-anchor=\"middle\" x=\"476.5\" y=\"-37.8\" font-family=\"Times,serif\" font-size=\"14.00\" fill=\"#000000\">gini = 0.399</text>\n<text text-anchor=\"middle\" x=\"476.5\" y=\"-22.8\" font-family=\"Times,serif\" font-size=\"14.00\" fill=\"#000000\">samples = 109</text>\n<text text-anchor=\"middle\" x=\"476.5\" y=\"-7.8\" font-family=\"Times,serif\" font-size=\"14.00\" fill=\"#000000\">value = [30, 79]</text>\n</g>\n<!-- 7&#45;&gt;9 -->\n<g id=\"edge9\" class=\"edge\">\n<title>7&#45;&gt;9</title>\n<path fill=\"none\" stroke=\"#000000\" d=\"M433.7691,-88.9777C439.844,-80.0954 446.4021,-70.5067 452.5135,-61.5711\"/>\n<polygon fill=\"#000000\" stroke=\"#000000\" points=\"455.4493,-63.4785 458.2057,-53.2485 449.6714,-59.5267 455.4493,-63.4785\"/>\n</g>\n<!-- 11 -->\n<g id=\"node12\" class=\"node\">\n<title>11</title>\n<polygon fill=\"none\" stroke=\"#000000\" points=\"810,-157 685,-157 685,-89 810,-89 810,-157\"/>\n<text text-anchor=\"middle\" x=\"747.5\" y=\"-141.8\" font-family=\"Times,serif\" font-size=\"14.00\" fill=\"#000000\">X[5] &lt;= &#45;0.647</text>\n<text text-anchor=\"middle\" x=\"747.5\" y=\"-126.8\" font-family=\"Times,serif\" font-size=\"14.00\" fill=\"#000000\">gini = 0.488</text>\n<text text-anchor=\"middle\" x=\"747.5\" y=\"-111.8\" font-family=\"Times,serif\" font-size=\"14.00\" fill=\"#000000\">samples = 701</text>\n<text text-anchor=\"middle\" x=\"747.5\" y=\"-96.8\" font-family=\"Times,serif\" font-size=\"14.00\" fill=\"#000000\">value = [404, 297]</text>\n</g>\n<!-- 10&#45;&gt;11 -->\n<g id=\"edge11\" class=\"edge\">\n<title>10&#45;&gt;11</title>\n<path fill=\"none\" stroke=\"#000000\" d=\"M797.9422,-192.9465C791.5968,-184.1475 784.6879,-174.5672 778.0764,-165.3993\"/>\n<polygon fill=\"#000000\" stroke=\"#000000\" points=\"780.8011,-163.1937 772.113,-157.13 775.1234,-167.2882 780.8011,-163.1937\"/>\n</g>\n<!-- 14 -->\n<g id=\"node15\" class=\"node\">\n<title>14</title>\n<polygon fill=\"none\" stroke=\"#000000\" points=\"968.5,-157 828.5,-157 828.5,-89 968.5,-89 968.5,-157\"/>\n<text text-anchor=\"middle\" x=\"898.5\" y=\"-141.8\" font-family=\"Times,serif\" font-size=\"14.00\" fill=\"#000000\">X[1] &lt;= 1.724</text>\n<text text-anchor=\"middle\" x=\"898.5\" y=\"-126.8\" font-family=\"Times,serif\" font-size=\"14.00\" fill=\"#000000\">gini = 0.483</text>\n<text text-anchor=\"middle\" x=\"898.5\" y=\"-111.8\" font-family=\"Times,serif\" font-size=\"14.00\" fill=\"#000000\">samples = 5051</text>\n<text text-anchor=\"middle\" x=\"898.5\" y=\"-96.8\" font-family=\"Times,serif\" font-size=\"14.00\" fill=\"#000000\">value = [2059, 2992]</text>\n</g>\n<!-- 10&#45;&gt;14 -->\n<g id=\"edge14\" class=\"edge\">\n<title>10&#45;&gt;14</title>\n<path fill=\"none\" stroke=\"#000000\" d=\"M847.3852,-192.9465C853.8153,-184.1475 860.8163,-174.5672 867.5159,-165.3993\"/>\n<polygon fill=\"#000000\" stroke=\"#000000\" points=\"870.4845,-167.269 873.5588,-157.13 864.8328,-163.1389 870.4845,-167.269\"/>\n</g>\n<!-- 12 -->\n<g id=\"node13\" class=\"node\">\n<title>12</title>\n<polygon fill=\"none\" stroke=\"#000000\" points=\"667,-53 550,-53 550,0 667,0 667,-53\"/>\n<text text-anchor=\"middle\" x=\"608.5\" y=\"-37.8\" font-family=\"Times,serif\" font-size=\"14.00\" fill=\"#000000\">gini = 0.438</text>\n<text text-anchor=\"middle\" x=\"608.5\" y=\"-22.8\" font-family=\"Times,serif\" font-size=\"14.00\" fill=\"#000000\">samples = 201</text>\n<text text-anchor=\"middle\" x=\"608.5\" y=\"-7.8\" font-family=\"Times,serif\" font-size=\"14.00\" fill=\"#000000\">value = [136, 65]</text>\n</g>\n<!-- 11&#45;&gt;12 -->\n<g id=\"edge12\" class=\"edge\">\n<title>11&#45;&gt;12</title>\n<path fill=\"none\" stroke=\"#000000\" d=\"M698.4938,-88.9777C684.5126,-79.2713 669.3162,-68.7213 655.4602,-59.1018\"/>\n<polygon fill=\"#000000\" stroke=\"#000000\" points=\"657.2394,-56.0763 647.0289,-53.2485 653.2474,-61.8264 657.2394,-56.0763\"/>\n</g>\n<!-- 13 -->\n<g id=\"node14\" class=\"node\">\n<title>13</title>\n<polygon fill=\"none\" stroke=\"#000000\" points=\"810,-53 685,-53 685,0 810,0 810,-53\"/>\n<text text-anchor=\"middle\" x=\"747.5\" y=\"-37.8\" font-family=\"Times,serif\" font-size=\"14.00\" fill=\"#000000\">gini = 0.497</text>\n<text text-anchor=\"middle\" x=\"747.5\" y=\"-22.8\" font-family=\"Times,serif\" font-size=\"14.00\" fill=\"#000000\">samples = 500</text>\n<text text-anchor=\"middle\" x=\"747.5\" y=\"-7.8\" font-family=\"Times,serif\" font-size=\"14.00\" fill=\"#000000\">value = [268, 232]</text>\n</g>\n<!-- 11&#45;&gt;13 -->\n<g id=\"edge13\" class=\"edge\">\n<title>11&#45;&gt;13</title>\n<path fill=\"none\" stroke=\"#000000\" d=\"M747.5,-88.9777C747.5,-80.7364 747.5,-71.887 747.5,-63.5153\"/>\n<polygon fill=\"#000000\" stroke=\"#000000\" points=\"751.0001,-63.2484 747.5,-53.2485 744.0001,-63.2485 751.0001,-63.2484\"/>\n</g>\n<!-- 15 -->\n<g id=\"node16\" class=\"node\">\n<title>15</title>\n<polygon fill=\"none\" stroke=\"#000000\" points=\"968.5,-53 828.5,-53 828.5,0 968.5,0 968.5,-53\"/>\n<text text-anchor=\"middle\" x=\"898.5\" y=\"-37.8\" font-family=\"Times,serif\" font-size=\"14.00\" fill=\"#000000\">gini = 0.48</text>\n<text text-anchor=\"middle\" x=\"898.5\" y=\"-22.8\" font-family=\"Times,serif\" font-size=\"14.00\" fill=\"#000000\">samples = 4899</text>\n<text text-anchor=\"middle\" x=\"898.5\" y=\"-7.8\" font-family=\"Times,serif\" font-size=\"14.00\" fill=\"#000000\">value = [1962, 2937]</text>\n</g>\n<!-- 14&#45;&gt;15 -->\n<g id=\"edge15\" class=\"edge\">\n<title>14&#45;&gt;15</title>\n<path fill=\"none\" stroke=\"#000000\" d=\"M898.5,-88.9777C898.5,-80.7364 898.5,-71.887 898.5,-63.5153\"/>\n<polygon fill=\"#000000\" stroke=\"#000000\" points=\"902.0001,-63.2484 898.5,-53.2485 895.0001,-63.2485 902.0001,-63.2484\"/>\n</g>\n<!-- 16 -->\n<g id=\"node17\" class=\"node\">\n<title>16</title>\n<polygon fill=\"none\" stroke=\"#000000\" points=\"1096.5,-53 986.5,-53 986.5,0 1096.5,0 1096.5,-53\"/>\n<text text-anchor=\"middle\" x=\"1041.5\" y=\"-37.8\" font-family=\"Times,serif\" font-size=\"14.00\" fill=\"#000000\">gini = 0.462</text>\n<text text-anchor=\"middle\" x=\"1041.5\" y=\"-22.8\" font-family=\"Times,serif\" font-size=\"14.00\" fill=\"#000000\">samples = 152</text>\n<text text-anchor=\"middle\" x=\"1041.5\" y=\"-7.8\" font-family=\"Times,serif\" font-size=\"14.00\" fill=\"#000000\">value = [97, 55]</text>\n</g>\n<!-- 14&#45;&gt;16 -->\n<g id=\"edge16\" class=\"edge\">\n<title>14&#45;&gt;16</title>\n<path fill=\"none\" stroke=\"#000000\" d=\"M948.9165,-88.9777C963.3,-79.2713 978.9337,-68.7213 993.1885,-59.1018\"/>\n<polygon fill=\"#000000\" stroke=\"#000000\" points=\"995.531,-61.7435 1001.8624,-53.2485 991.6154,-55.941 995.531,-61.7435\"/>\n</g>\n<!-- 18 -->\n<g id=\"node19\" class=\"node\">\n<title>18</title>\n<polygon fill=\"none\" stroke=\"#000000\" points=\"1382.5,-261 1250.5,-261 1250.5,-193 1382.5,-193 1382.5,-261\"/>\n<text text-anchor=\"middle\" x=\"1316.5\" y=\"-245.8\" font-family=\"Times,serif\" font-size=\"14.00\" fill=\"#000000\">X[1] &lt;= 1.401</text>\n<text text-anchor=\"middle\" x=\"1316.5\" y=\"-230.8\" font-family=\"Times,serif\" font-size=\"14.00\" fill=\"#000000\">gini = 0.192</text>\n<text text-anchor=\"middle\" x=\"1316.5\" y=\"-215.8\" font-family=\"Times,serif\" font-size=\"14.00\" fill=\"#000000\">samples = 2257</text>\n<text text-anchor=\"middle\" x=\"1316.5\" y=\"-200.8\" font-family=\"Times,serif\" font-size=\"14.00\" fill=\"#000000\">value = [2014, 243]</text>\n</g>\n<!-- 17&#45;&gt;18 -->\n<g id=\"edge18\" class=\"edge\">\n<title>17&#45;&gt;18</title>\n<path fill=\"none\" stroke=\"#000000\" d=\"M1365.5971,-296.9465C1359.4209,-288.1475 1352.6962,-278.5672 1346.261,-269.3993\"/>\n<polygon fill=\"#000000\" stroke=\"#000000\" points=\"1349.0666,-267.3041 1340.4566,-261.13 1343.3371,-271.3258 1349.0666,-267.3041\"/>\n</g>\n<!-- 23 -->\n<g id=\"node24\" class=\"node\">\n<title>23</title>\n<polygon fill=\"none\" stroke=\"#000000\" points=\"1532.5,-261 1400.5,-261 1400.5,-193 1532.5,-193 1532.5,-261\"/>\n<text text-anchor=\"middle\" x=\"1466.5\" y=\"-245.8\" font-family=\"Times,serif\" font-size=\"14.00\" fill=\"#000000\">X[5] &lt;= 1.544</text>\n<text text-anchor=\"middle\" x=\"1466.5\" y=\"-230.8\" font-family=\"Times,serif\" font-size=\"14.00\" fill=\"#000000\">gini = 0.466</text>\n<text text-anchor=\"middle\" x=\"1466.5\" y=\"-215.8\" font-family=\"Times,serif\" font-size=\"14.00\" fill=\"#000000\">samples = 2222</text>\n<text text-anchor=\"middle\" x=\"1466.5\" y=\"-200.8\" font-family=\"Times,serif\" font-size=\"14.00\" fill=\"#000000\">value = [1402, 820]</text>\n</g>\n<!-- 17&#45;&gt;23 -->\n<g id=\"edge23\" class=\"edge\">\n<title>17&#45;&gt;23</title>\n<path fill=\"none\" stroke=\"#000000\" d=\"M1414.7127,-296.9465C1421.2273,-288.1475 1428.3205,-278.5672 1435.1082,-269.3993\"/>\n<polygon fill=\"#000000\" stroke=\"#000000\" points=\"1438.0931,-271.2496 1441.2307,-261.13 1432.4673,-267.0843 1438.0931,-271.2496\"/>\n</g>\n<!-- 19 -->\n<g id=\"node20\" class=\"node\">\n<title>19</title>\n<polygon fill=\"none\" stroke=\"#000000\" points=\"1243,-157 1112,-157 1112,-89 1243,-89 1243,-157\"/>\n<text text-anchor=\"middle\" x=\"1177.5\" y=\"-141.8\" font-family=\"Times,serif\" font-size=\"14.00\" fill=\"#000000\">X[5] &lt;= &#45;0.727</text>\n<text text-anchor=\"middle\" x=\"1177.5\" y=\"-126.8\" font-family=\"Times,serif\" font-size=\"14.00\" fill=\"#000000\">gini = 0.184</text>\n<text text-anchor=\"middle\" x=\"1177.5\" y=\"-111.8\" font-family=\"Times,serif\" font-size=\"14.00\" fill=\"#000000\">samples = 2129</text>\n<text text-anchor=\"middle\" x=\"1177.5\" y=\"-96.8\" font-family=\"Times,serif\" font-size=\"14.00\" fill=\"#000000\">value = [1911, 218]</text>\n</g>\n<!-- 18&#45;&gt;19 -->\n<g id=\"edge19\" class=\"edge\">\n<title>18&#45;&gt;19</title>\n<path fill=\"none\" stroke=\"#000000\" d=\"M1270.9862,-192.9465C1258.266,-183.4293 1244.324,-172.9978 1231.1794,-163.163\"/>\n<polygon fill=\"#000000\" stroke=\"#000000\" points=\"1233.2198,-160.3184 1223.1161,-157.13 1229.0262,-165.9232 1233.2198,-160.3184\"/>\n</g>\n<!-- 22 -->\n<g id=\"node23\" class=\"node\">\n<title>22</title>\n<polygon fill=\"none\" stroke=\"#000000\" points=\"1378,-149.5 1261,-149.5 1261,-96.5 1378,-96.5 1378,-149.5\"/>\n<text text-anchor=\"middle\" x=\"1319.5\" y=\"-134.3\" font-family=\"Times,serif\" font-size=\"14.00\" fill=\"#000000\">gini = 0.314</text>\n<text text-anchor=\"middle\" x=\"1319.5\" y=\"-119.3\" font-family=\"Times,serif\" font-size=\"14.00\" fill=\"#000000\">samples = 128</text>\n<text text-anchor=\"middle\" x=\"1319.5\" y=\"-104.3\" font-family=\"Times,serif\" font-size=\"14.00\" fill=\"#000000\">value = [103, 25]</text>\n</g>\n<!-- 18&#45;&gt;22 -->\n<g id=\"edge22\" class=\"edge\">\n<title>18&#45;&gt;22</title>\n<path fill=\"none\" stroke=\"#000000\" d=\"M1317.4823,-192.9465C1317.7905,-182.2621 1318.132,-170.4254 1318.445,-159.5742\"/>\n<polygon fill=\"#000000\" stroke=\"#000000\" points=\"1321.9445,-159.639 1318.7344,-149.5422 1314.9474,-159.4371 1321.9445,-159.639\"/>\n</g>\n<!-- 20 -->\n<g id=\"node21\" class=\"node\">\n<title>20</title>\n<polygon fill=\"none\" stroke=\"#000000\" points=\"1232,-53 1115,-53 1115,0 1232,0 1232,-53\"/>\n<text text-anchor=\"middle\" x=\"1173.5\" y=\"-37.8\" font-family=\"Times,serif\" font-size=\"14.00\" fill=\"#000000\">gini = 0.226</text>\n<text text-anchor=\"middle\" x=\"1173.5\" y=\"-22.8\" font-family=\"Times,serif\" font-size=\"14.00\" fill=\"#000000\">samples = 655</text>\n<text text-anchor=\"middle\" x=\"1173.5\" y=\"-7.8\" font-family=\"Times,serif\" font-size=\"14.00\" fill=\"#000000\">value = [570, 85]</text>\n</g>\n<!-- 19&#45;&gt;20 -->\n<g id=\"edge20\" class=\"edge\">\n<title>19&#45;&gt;20</title>\n<path fill=\"none\" stroke=\"#000000\" d=\"M1176.0897,-88.9777C1175.7481,-80.7364 1175.3813,-71.887 1175.0343,-63.5153\"/>\n<polygon fill=\"#000000\" stroke=\"#000000\" points=\"1178.52,-63.0949 1174.6087,-53.2485 1171.526,-63.3849 1178.52,-63.0949\"/>\n</g>\n<!-- 21 -->\n<g id=\"node22\" class=\"node\">\n<title>21</title>\n<polygon fill=\"none\" stroke=\"#000000\" points=\"1382.5,-53 1250.5,-53 1250.5,0 1382.5,0 1382.5,-53\"/>\n<text text-anchor=\"middle\" x=\"1316.5\" y=\"-37.8\" font-family=\"Times,serif\" font-size=\"14.00\" fill=\"#000000\">gini = 0.164</text>\n<text text-anchor=\"middle\" x=\"1316.5\" y=\"-22.8\" font-family=\"Times,serif\" font-size=\"14.00\" fill=\"#000000\">samples = 1474</text>\n<text text-anchor=\"middle\" x=\"1316.5\" y=\"-7.8\" font-family=\"Times,serif\" font-size=\"14.00\" fill=\"#000000\">value = [1341, 133]</text>\n</g>\n<!-- 19&#45;&gt;21 -->\n<g id=\"edge21\" class=\"edge\">\n<title>19&#45;&gt;21</title>\n<path fill=\"none\" stroke=\"#000000\" d=\"M1226.5062,-88.9777C1240.4874,-79.2713 1255.6838,-68.7213 1269.5398,-59.1018\"/>\n<polygon fill=\"#000000\" stroke=\"#000000\" points=\"1271.7526,-61.8264 1277.9711,-53.2485 1267.7606,-56.0763 1271.7526,-61.8264\"/>\n</g>\n<!-- 24 -->\n<g id=\"node25\" class=\"node\">\n<title>24</title>\n<polygon fill=\"none\" stroke=\"#000000\" points=\"1532.5,-157 1400.5,-157 1400.5,-89 1532.5,-89 1532.5,-157\"/>\n<text text-anchor=\"middle\" x=\"1466.5\" y=\"-141.8\" font-family=\"Times,serif\" font-size=\"14.00\" fill=\"#000000\">X[1] &lt;= 1.375</text>\n<text text-anchor=\"middle\" x=\"1466.5\" y=\"-126.8\" font-family=\"Times,serif\" font-size=\"14.00\" fill=\"#000000\">gini = 0.472</text>\n<text text-anchor=\"middle\" x=\"1466.5\" y=\"-111.8\" font-family=\"Times,serif\" font-size=\"14.00\" fill=\"#000000\">samples = 2126</text>\n<text text-anchor=\"middle\" x=\"1466.5\" y=\"-96.8\" font-family=\"Times,serif\" font-size=\"14.00\" fill=\"#000000\">value = [1314, 812]</text>\n</g>\n<!-- 23&#45;&gt;24 -->\n<g id=\"edge24\" class=\"edge\">\n<title>23&#45;&gt;24</title>\n<path fill=\"none\" stroke=\"#000000\" d=\"M1466.5,-192.9465C1466.5,-184.776 1466.5,-175.9318 1466.5,-167.3697\"/>\n<polygon fill=\"#000000\" stroke=\"#000000\" points=\"1470.0001,-167.13 1466.5,-157.13 1463.0001,-167.13 1470.0001,-167.13\"/>\n</g>\n<!-- 27 -->\n<g id=\"node28\" class=\"node\">\n<title>27</title>\n<polygon fill=\"none\" stroke=\"#000000\" points=\"1652.5,-149.5 1550.5,-149.5 1550.5,-96.5 1652.5,-96.5 1652.5,-149.5\"/>\n<text text-anchor=\"middle\" x=\"1601.5\" y=\"-134.3\" font-family=\"Times,serif\" font-size=\"14.00\" fill=\"#000000\">gini = 0.153</text>\n<text text-anchor=\"middle\" x=\"1601.5\" y=\"-119.3\" font-family=\"Times,serif\" font-size=\"14.00\" fill=\"#000000\">samples = 96</text>\n<text text-anchor=\"middle\" x=\"1601.5\" y=\"-104.3\" font-family=\"Times,serif\" font-size=\"14.00\" fill=\"#000000\">value = [88, 8]</text>\n</g>\n<!-- 23&#45;&gt;27 -->\n<g id=\"edge27\" class=\"edge\">\n<title>23&#45;&gt;27</title>\n<path fill=\"none\" stroke=\"#000000\" d=\"M1510.704,-192.9465C1526.1461,-181.0504 1543.4422,-167.726 1558.7625,-155.9237\"/>\n<polygon fill=\"#000000\" stroke=\"#000000\" points=\"1561.2603,-158.4176 1567.0462,-149.5422 1556.9883,-152.8723 1561.2603,-158.4176\"/>\n</g>\n<!-- 25 -->\n<g id=\"node26\" class=\"node\">\n<title>25</title>\n<polygon fill=\"none\" stroke=\"#000000\" points=\"1532,-53 1401,-53 1401,0 1532,0 1532,-53\"/>\n<text text-anchor=\"middle\" x=\"1466.5\" y=\"-37.8\" font-family=\"Times,serif\" font-size=\"14.00\" fill=\"#000000\">gini = 0.48</text>\n<text text-anchor=\"middle\" x=\"1466.5\" y=\"-22.8\" font-family=\"Times,serif\" font-size=\"14.00\" fill=\"#000000\">samples = 1870</text>\n<text text-anchor=\"middle\" x=\"1466.5\" y=\"-7.8\" font-family=\"Times,serif\" font-size=\"14.00\" fill=\"#000000\">value = [1122, 748]</text>\n</g>\n<!-- 24&#45;&gt;25 -->\n<g id=\"edge25\" class=\"edge\">\n<title>24&#45;&gt;25</title>\n<path fill=\"none\" stroke=\"#000000\" d=\"M1466.5,-88.9777C1466.5,-80.7364 1466.5,-71.887 1466.5,-63.5153\"/>\n<polygon fill=\"#000000\" stroke=\"#000000\" points=\"1470.0001,-63.2484 1466.5,-53.2485 1463.0001,-63.2485 1470.0001,-63.2484\"/>\n</g>\n<!-- 26 -->\n<g id=\"node27\" class=\"node\">\n<title>26</title>\n<polygon fill=\"none\" stroke=\"#000000\" points=\"1667,-53 1550,-53 1550,0 1667,0 1667,-53\"/>\n<text text-anchor=\"middle\" x=\"1608.5\" y=\"-37.8\" font-family=\"Times,serif\" font-size=\"14.00\" fill=\"#000000\">gini = 0.375</text>\n<text text-anchor=\"middle\" x=\"1608.5\" y=\"-22.8\" font-family=\"Times,serif\" font-size=\"14.00\" fill=\"#000000\">samples = 256</text>\n<text text-anchor=\"middle\" x=\"1608.5\" y=\"-7.8\" font-family=\"Times,serif\" font-size=\"14.00\" fill=\"#000000\">value = [192, 64]</text>\n</g>\n<!-- 24&#45;&gt;26 -->\n<g id=\"edge26\" class=\"edge\">\n<title>24&#45;&gt;26</title>\n<path fill=\"none\" stroke=\"#000000\" d=\"M1516.5639,-88.9777C1530.8469,-79.2713 1546.3713,-68.7213 1560.5263,-59.1018\"/>\n<polygon fill=\"#000000\" stroke=\"#000000\" points=\"1562.8359,-61.764 1569.1395,-53.2485 1558.9014,-55.9744 1562.8359,-61.764\"/>\n</g>\n<!-- 29 -->\n<g id=\"node30\" class=\"node\">\n<title>29</title>\n<polygon fill=\"none\" stroke=\"#000000\" points=\"1730,-365 1613,-365 1613,-297 1730,-297 1730,-365\"/>\n<text text-anchor=\"middle\" x=\"1671.5\" y=\"-349.8\" font-family=\"Times,serif\" font-size=\"14.00\" fill=\"#000000\">X[0] &lt;= 0.118</text>\n<text text-anchor=\"middle\" x=\"1671.5\" y=\"-334.8\" font-family=\"Times,serif\" font-size=\"14.00\" fill=\"#000000\">gini = 0.203</text>\n<text text-anchor=\"middle\" x=\"1671.5\" y=\"-319.8\" font-family=\"Times,serif\" font-size=\"14.00\" fill=\"#000000\">samples = 244</text>\n<text text-anchor=\"middle\" x=\"1671.5\" y=\"-304.8\" font-family=\"Times,serif\" font-size=\"14.00\" fill=\"#000000\">value = [28, 216]</text>\n</g>\n<!-- 28&#45;&gt;29 -->\n<g id=\"edge29\" class=\"edge\">\n<title>28&#45;&gt;29</title>\n<path fill=\"none\" stroke=\"#000000\" d=\"M1671.5,-400.9465C1671.5,-392.776 1671.5,-383.9318 1671.5,-375.3697\"/>\n<polygon fill=\"#000000\" stroke=\"#000000\" points=\"1675.0001,-375.13 1671.5,-365.13 1668.0001,-375.13 1675.0001,-375.13\"/>\n</g>\n<!-- 32 -->\n<g id=\"node33\" class=\"node\">\n<title>32</title>\n<polygon fill=\"none\" stroke=\"#000000\" points=\"1920.5,-365 1810.5,-365 1810.5,-297 1920.5,-297 1920.5,-365\"/>\n<text text-anchor=\"middle\" x=\"1865.5\" y=\"-349.8\" font-family=\"Times,serif\" font-size=\"14.00\" fill=\"#000000\">X[1] &lt;= &#45;1.04</text>\n<text text-anchor=\"middle\" x=\"1865.5\" y=\"-334.8\" font-family=\"Times,serif\" font-size=\"14.00\" fill=\"#000000\">gini = 0.026</text>\n<text text-anchor=\"middle\" x=\"1865.5\" y=\"-319.8\" font-family=\"Times,serif\" font-size=\"14.00\" fill=\"#000000\">samples = 695</text>\n<text text-anchor=\"middle\" x=\"1865.5\" y=\"-304.8\" font-family=\"Times,serif\" font-size=\"14.00\" fill=\"#000000\">value = [9, 686]</text>\n</g>\n<!-- 28&#45;&gt;32 -->\n<g id=\"edge32\" class=\"edge\">\n<title>28&#45;&gt;32</title>\n<path fill=\"none\" stroke=\"#000000\" d=\"M1730.2329,-403.5143C1752.6801,-391.4808 1778.3836,-377.7016 1801.3138,-365.4091\"/>\n<polygon fill=\"#000000\" stroke=\"#000000\" points=\"1803.1248,-368.4095 1810.2845,-360.6 1799.8174,-362.2401 1803.1248,-368.4095\"/>\n</g>\n<!-- 30 -->\n<g id=\"node31\" class=\"node\">\n<title>30</title>\n<polygon fill=\"none\" stroke=\"#000000\" points=\"1668,-253.5 1551,-253.5 1551,-200.5 1668,-200.5 1668,-253.5\"/>\n<text text-anchor=\"middle\" x=\"1609.5\" y=\"-238.3\" font-family=\"Times,serif\" font-size=\"14.00\" fill=\"#000000\">gini = 0.134</text>\n<text text-anchor=\"middle\" x=\"1609.5\" y=\"-223.3\" font-family=\"Times,serif\" font-size=\"14.00\" fill=\"#000000\">samples = 139</text>\n<text text-anchor=\"middle\" x=\"1609.5\" y=\"-208.3\" font-family=\"Times,serif\" font-size=\"14.00\" fill=\"#000000\">value = [10, 129]</text>\n</g>\n<!-- 29&#45;&gt;30 -->\n<g id=\"edge30\" class=\"edge\">\n<title>29&#45;&gt;30</title>\n<path fill=\"none\" stroke=\"#000000\" d=\"M1651.1989,-296.9465C1644.5666,-285.8215 1637.1897,-273.4473 1630.5067,-262.237\"/>\n<polygon fill=\"#000000\" stroke=\"#000000\" points=\"1633.4502,-260.3394 1625.3232,-253.5422 1627.4376,-263.9239 1633.4502,-260.3394\"/>\n</g>\n<!-- 31 -->\n<g id=\"node32\" class=\"node\">\n<title>31</title>\n<polygon fill=\"none\" stroke=\"#000000\" points=\"1796.5,-253.5 1686.5,-253.5 1686.5,-200.5 1796.5,-200.5 1796.5,-253.5\"/>\n<text text-anchor=\"middle\" x=\"1741.5\" y=\"-238.3\" font-family=\"Times,serif\" font-size=\"14.00\" fill=\"#000000\">gini = 0.284</text>\n<text text-anchor=\"middle\" x=\"1741.5\" y=\"-223.3\" font-family=\"Times,serif\" font-size=\"14.00\" fill=\"#000000\">samples = 105</text>\n<text text-anchor=\"middle\" x=\"1741.5\" y=\"-208.3\" font-family=\"Times,serif\" font-size=\"14.00\" fill=\"#000000\">value = [18, 87]</text>\n</g>\n<!-- 29&#45;&gt;31 -->\n<g id=\"edge31\" class=\"edge\">\n<title>29&#45;&gt;31</title>\n<path fill=\"none\" stroke=\"#000000\" d=\"M1694.4206,-296.9465C1701.9828,-285.7113 1710.4024,-273.2021 1718.0067,-261.9043\"/>\n<polygon fill=\"#000000\" stroke=\"#000000\" points=\"1720.9548,-263.7924 1723.6351,-253.5422 1715.1477,-259.8837 1720.9548,-263.7924\"/>\n</g>\n<!-- 33 -->\n<g id=\"node34\" class=\"node\">\n<title>33</title>\n<polygon fill=\"none\" stroke=\"#000000\" points=\"1916.5,-253.5 1814.5,-253.5 1814.5,-200.5 1916.5,-200.5 1916.5,-253.5\"/>\n<text text-anchor=\"middle\" x=\"1865.5\" y=\"-238.3\" font-family=\"Times,serif\" font-size=\"14.00\" fill=\"#000000\">gini = 0.103</text>\n<text text-anchor=\"middle\" x=\"1865.5\" y=\"-223.3\" font-family=\"Times,serif\" font-size=\"14.00\" fill=\"#000000\">samples = 92</text>\n<text text-anchor=\"middle\" x=\"1865.5\" y=\"-208.3\" font-family=\"Times,serif\" font-size=\"14.00\" fill=\"#000000\">value = [5, 87]</text>\n</g>\n<!-- 32&#45;&gt;33 -->\n<g id=\"edge33\" class=\"edge\">\n<title>32&#45;&gt;33</title>\n<path fill=\"none\" stroke=\"#000000\" d=\"M1865.5,-296.9465C1865.5,-286.2621 1865.5,-274.4254 1865.5,-263.5742\"/>\n<polygon fill=\"#000000\" stroke=\"#000000\" points=\"1869.0001,-263.5421 1865.5,-253.5422 1862.0001,-263.5422 1869.0001,-263.5421\"/>\n</g>\n<!-- 34 -->\n<g id=\"node35\" class=\"node\">\n<title>34</title>\n<polygon fill=\"none\" stroke=\"#000000\" points=\"2044.5,-261 1934.5,-261 1934.5,-193 2044.5,-193 2044.5,-261\"/>\n<text text-anchor=\"middle\" x=\"1989.5\" y=\"-245.8\" font-family=\"Times,serif\" font-size=\"14.00\" fill=\"#000000\">X[0] &lt;= &#45;0.102</text>\n<text text-anchor=\"middle\" x=\"1989.5\" y=\"-230.8\" font-family=\"Times,serif\" font-size=\"14.00\" fill=\"#000000\">gini = 0.013</text>\n<text text-anchor=\"middle\" x=\"1989.5\" y=\"-215.8\" font-family=\"Times,serif\" font-size=\"14.00\" fill=\"#000000\">samples = 603</text>\n<text text-anchor=\"middle\" x=\"1989.5\" y=\"-200.8\" font-family=\"Times,serif\" font-size=\"14.00\" fill=\"#000000\">value = [4, 599]</text>\n</g>\n<!-- 32&#45;&gt;34 -->\n<g id=\"edge34\" class=\"edge\">\n<title>32&#45;&gt;34</title>\n<path fill=\"none\" stroke=\"#000000\" d=\"M1906.1022,-296.9465C1917.2356,-287.6088 1929.4183,-277.3911 1940.9489,-267.7203\"/>\n<polygon fill=\"#000000\" stroke=\"#000000\" points=\"1943.3938,-270.2378 1948.8065,-261.13 1938.8954,-264.8745 1943.3938,-270.2378\"/>\n</g>\n<!-- 35 -->\n<g id=\"node36\" class=\"node\">\n<title>35</title>\n<polygon fill=\"none\" stroke=\"#000000\" points=\"1980.5,-149.5 1870.5,-149.5 1870.5,-96.5 1980.5,-96.5 1980.5,-149.5\"/>\n<text text-anchor=\"middle\" x=\"1925.5\" y=\"-134.3\" font-family=\"Times,serif\" font-size=\"14.00\" fill=\"#000000\">gini = 0.0</text>\n<text text-anchor=\"middle\" x=\"1925.5\" y=\"-119.3\" font-family=\"Times,serif\" font-size=\"14.00\" fill=\"#000000\">samples = 305</text>\n<text text-anchor=\"middle\" x=\"1925.5\" y=\"-104.3\" font-family=\"Times,serif\" font-size=\"14.00\" fill=\"#000000\">value = [0, 305]</text>\n</g>\n<!-- 34&#45;&gt;35 -->\n<g id=\"edge35\" class=\"edge\">\n<title>34&#45;&gt;35</title>\n<path fill=\"none\" stroke=\"#000000\" d=\"M1968.544,-192.9465C1961.6978,-181.8215 1954.0829,-169.4473 1947.1843,-158.237\"/>\n<polygon fill=\"#000000\" stroke=\"#000000\" points=\"1950.0555,-156.2244 1941.8336,-149.5422 1944.0939,-159.8931 1950.0555,-156.2244\"/>\n</g>\n<!-- 36 -->\n<g id=\"node37\" class=\"node\">\n<title>36</title>\n<polygon fill=\"none\" stroke=\"#000000\" points=\"2108.5,-157 1998.5,-157 1998.5,-89 2108.5,-89 2108.5,-157\"/>\n<text text-anchor=\"middle\" x=\"2053.5\" y=\"-141.8\" font-family=\"Times,serif\" font-size=\"14.00\" fill=\"#000000\">X[0] &lt;= 0.309</text>\n<text text-anchor=\"middle\" x=\"2053.5\" y=\"-126.8\" font-family=\"Times,serif\" font-size=\"14.00\" fill=\"#000000\">gini = 0.026</text>\n<text text-anchor=\"middle\" x=\"2053.5\" y=\"-111.8\" font-family=\"Times,serif\" font-size=\"14.00\" fill=\"#000000\">samples = 298</text>\n<text text-anchor=\"middle\" x=\"2053.5\" y=\"-96.8\" font-family=\"Times,serif\" font-size=\"14.00\" fill=\"#000000\">value = [4, 294]</text>\n</g>\n<!-- 34&#45;&gt;36 -->\n<g id=\"edge36\" class=\"edge\">\n<title>34&#45;&gt;36</title>\n<path fill=\"none\" stroke=\"#000000\" d=\"M2010.456,-192.9465C2015.8155,-184.2373 2021.6461,-174.7626 2027.2353,-165.6801\"/>\n<polygon fill=\"#000000\" stroke=\"#000000\" points=\"2030.2367,-167.481 2032.4969,-157.13 2024.2751,-163.8122 2030.2367,-167.481\"/>\n</g>\n<!-- 37 -->\n<g id=\"node38\" class=\"node\">\n<title>37</title>\n<polygon fill=\"none\" stroke=\"#000000\" points=\"2042.5,-53 1940.5,-53 1940.5,0 2042.5,0 2042.5,-53\"/>\n<text text-anchor=\"middle\" x=\"1991.5\" y=\"-37.8\" font-family=\"Times,serif\" font-size=\"14.00\" fill=\"#000000\">gini = 0.096</text>\n<text text-anchor=\"middle\" x=\"1991.5\" y=\"-22.8\" font-family=\"Times,serif\" font-size=\"14.00\" fill=\"#000000\">samples = 79</text>\n<text text-anchor=\"middle\" x=\"1991.5\" y=\"-7.8\" font-family=\"Times,serif\" font-size=\"14.00\" fill=\"#000000\">value = [4, 75]</text>\n</g>\n<!-- 36&#45;&gt;37 -->\n<g id=\"edge37\" class=\"edge\">\n<title>36&#45;&gt;37</title>\n<path fill=\"none\" stroke=\"#000000\" d=\"M2031.6411,-88.9777C2025.9932,-80.187 2019.9007,-70.7044 2014.2104,-61.8477\"/>\n<polygon fill=\"#000000\" stroke=\"#000000\" points=\"2017.0356,-59.7698 2008.6856,-53.2485 2011.1463,-63.5536 2017.0356,-59.7698\"/>\n</g>\n<!-- 38 -->\n<g id=\"node39\" class=\"node\">\n<title>38</title>\n<polygon fill=\"none\" stroke=\"#000000\" points=\"2170.5,-53 2060.5,-53 2060.5,0 2170.5,0 2170.5,-53\"/>\n<text text-anchor=\"middle\" x=\"2115.5\" y=\"-37.8\" font-family=\"Times,serif\" font-size=\"14.00\" fill=\"#000000\">gini = 0.0</text>\n<text text-anchor=\"middle\" x=\"2115.5\" y=\"-22.8\" font-family=\"Times,serif\" font-size=\"14.00\" fill=\"#000000\">samples = 219</text>\n<text text-anchor=\"middle\" x=\"2115.5\" y=\"-7.8\" font-family=\"Times,serif\" font-size=\"14.00\" fill=\"#000000\">value = [0, 219]</text>\n</g>\n<!-- 36&#45;&gt;38 -->\n<g id=\"edge38\" class=\"edge\">\n<title>36&#45;&gt;38</title>\n<path fill=\"none\" stroke=\"#000000\" d=\"M2075.3589,-88.9777C2081.0068,-80.187 2087.0993,-70.7044 2092.7896,-61.8477\"/>\n<polygon fill=\"#000000\" stroke=\"#000000\" points=\"2095.8537,-63.5536 2098.3144,-53.2485 2089.9644,-59.7698 2095.8537,-63.5536\"/>\n</g>\n</g>\n</svg>\n"
          },
          "metadata": {},
          "execution_count": 135
        }
      ]
    },
    {
      "cell_type": "markdown",
      "metadata": {
        "id": "wqAMZHvL1uHa"
      },
      "source": [
        "### **Feature Importance**"
      ]
    },
    {
      "cell_type": "code",
      "metadata": {
        "id": "mv6lFGFA2eQM"
      },
      "source": [
        "importance = clf.feature_importances_"
      ],
      "execution_count": 136,
      "outputs": []
    },
    {
      "cell_type": "markdown",
      "metadata": {
        "id": "Z3Q5qWCZ3g78"
      },
      "source": [
        "Feature 0: CreditScore\n",
        "\n",
        "Feature 1: Tenure\n",
        "\n",
        "Feature 2: Balance\n",
        "\n",
        "Feature 3: NumOfProducts\n",
        "\n",
        "Feature 4: HasCrCard\n",
        "\n",
        "Feature 5: EstimatedSalary"
      ]
    },
    {
      "cell_type": "code",
      "metadata": {
        "colab": {
          "base_uri": "https://localhost:8080/"
        },
        "id": "8BonoMHB2oO3",
        "outputId": "af1c3198-cc0b-4452-a4a9-14e251f4fe5c"
      },
      "source": [
        "for i,v in enumerate(importance):\n",
        "\tprint('Feature: %0d, Score: %.5f' % (i,v))"
      ],
      "execution_count": 137,
      "outputs": [
        {
          "output_type": "stream",
          "name": "stdout",
          "text": [
            "Feature: 0, Score: 0.00105\n",
            "Feature: 1, Score: 0.02196\n",
            "Feature: 2, Score: 0.16293\n",
            "Feature: 3, Score: 0.79457\n",
            "Feature: 4, Score: 0.00000\n",
            "Feature: 5, Score: 0.01950\n"
          ]
        }
      ]
    },
    {
      "cell_type": "code",
      "metadata": {
        "colab": {
          "base_uri": "https://localhost:8080/",
          "height": 265
        },
        "id": "t1QixaJ624YF",
        "outputId": "edcb517f-fead-494f-d0b1-aef7cb94b2a5"
      },
      "source": [
        "plt.bar([x for x in range(len(importance))], importance)\n",
        "plt.show()"
      ],
      "execution_count": 138,
      "outputs": [
        {
          "output_type": "display_data",
          "data": {
            "image/png": "[encoded data removed]",
            "text/plain": [
              "<Figure size 432x288 with 1 Axes>"
            ]
          },
          "metadata": {
            "needs_background": "light"
          }
        }
      ]
    },
    {
      "cell_type": "markdown",
      "metadata": {
        "id": "a-CxVec3RxAx"
      },
      "source": [
        "### **Infos deploy:**\n",
        "**MODELO:** \n",
        "\n",
        "clf\n",
        "\n",
        "**Variáveis:**\n",
        "\n",
        "'CreditScore' = Score de Crédito\n",
        "\n",
        "'Tenure' = Tempo de Relacionamento com o banco\n",
        "\n",
        "'Balance' = Balanço da conta\n",
        "\n",
        "'NumOfProducts' = Número de Produtos\n",
        "\n",
        "'HasCrCard' = Tem cartão de crédito (checkbox)\n",
        "\n",
        "'EstimatedSalary'= Salário"
      ]
    },
    {
      "cell_type": "code",
      "metadata": {
        "id": "Y6L_DQ2a3RiZ"
      },
      "source": [
        "from sklearn.externals import joblib"
      ],
      "execution_count": 139,
      "outputs": []
    },
    {
      "cell_type": "code",
      "metadata": {
        "id": "ub6cJkVr3Ut8",
        "colab": {
          "base_uri": "https://localhost:8080/"
        },
        "outputId": "4791d53f-1955-4e1b-97d1-c7028bd2b1d0"
      },
      "source": [
        "joblib.dump(clf, 'model_portabilidade_v3.pkl')"
      ],
      "execution_count": 149,
      "outputs": [
        {
          "output_type": "execute_result",
          "data": {
            "text/plain": [
              "['model_portabilidade_v3.pkl']"
            ]
          },
          "metadata": {},
          "execution_count": 149
        }
      ]
    },
    {
      "cell_type": "code",
      "metadata": {
        "id": "iQuR3XH13fbd",
        "colab": {
          "base_uri": "https://localhost:8080/"
        },
        "outputId": "7a0bf736-417e-47e2-b266-3b818bfa7a5e"
      },
      "source": [
        "!ls"
      ],
      "execution_count": 150,
      "outputs": [
        {
          "output_type": "stream",
          "name": "stdout",
          "text": [
            "drive  model_portabilidade.pkl\tmodel_portabilidade_v3.pkl  sample_data\n"
          ]
        }
      ]
    },
    {
      "cell_type": "code",
      "metadata": {
        "id": "7LzaeQCZ4WLj"
      },
      "source": [
        "model = joblib.load('model_portabilidade_v3.pkl')"
      ],
      "execution_count": 151,
      "outputs": []
    },
    {
      "cell_type": "markdown",
      "metadata": {
        "id": "Es9NaI6w7lGC"
      },
      "source": [
        "### Testes"
      ]
    },
    {
      "cell_type": "code",
      "metadata": {
        "id": "YdAfboPc5Dq_",
        "colab": {
          "base_uri": "https://localhost:8080/"
        },
        "outputId": "bed302e4-e03e-45fe-f982-ff8217678a88"
      },
      "source": [
        "#'CreditScore', 'Tenure', 'Balance', 'NumOfProducts', 'HasCrCard', 'EstimatedSalary'\n",
        "teste1 = np.array([[750, 4, 155000, 3, 1, 149388]])\n",
        "print('É provável que saia do banco: ', model.predict(teste1))\n",
        "print('Probabilidade de 0 e 1: ', model.predict_proba(teste1))"
      ],
      "execution_count": 145,
      "outputs": [
        {
          "output_type": "stream",
          "name": "stdout",
          "text": [
            "É provável que saia do banco:  [1]\n",
            "Probabilidade de 0 e 1:  [[0. 1.]]\n"
          ]
        }
      ]
    },
    {
      "cell_type": "code",
      "metadata": {
        "id": "HBtLtNTp5gaT",
        "colab": {
          "base_uri": "https://localhost:8080/"
        },
        "outputId": "585ad10e-c668-4e02-ceea-6462e9cc1be3"
      },
      "source": [
        "#'CreditScore', 'Tenure', 'Balance', 'NumOfProducts', 'HasCrCard', 'EstimatedSalary'\n",
        "teste2 = np.array([[430, 1, 96000, 1, 1, 76000]])\n",
        "print('É provável que saia do banco: ', model.predict(teste2))\n",
        "print('Probabilidade de 0 e 1: ', model.predict_proba(teste2))"
      ],
      "execution_count": 146,
      "outputs": [
        {
          "output_type": "stream",
          "name": "stdout",
          "text": [
            "É provável que saia do banco:  [0]\n",
            "Probabilidade de 0 e 1:  [[0.91666667 0.08333333]]\n"
          ]
        }
      ]
    },
    {
      "cell_type": "code",
      "metadata": {
        "id": "tn9L9XHy6eJp",
        "colab": {
          "base_uri": "https://localhost:8080/"
        },
        "outputId": "14bf9981-f241-498e-a351-e77028b63053"
      },
      "source": [
        "#'CreditScore', 'Tenure', 'Balance', 'NumOfProducts', 'HasCrCard', 'EstimatedSalary'\n",
        "teste3 = np.array([[140, 2, 34000, 1, 0, 43000]])\n",
        "print('É provável que saia do banco: ', model.predict(teste3))\n",
        "print('Probabilidade de 0 e 1: ', model.predict_proba(teste3))"
      ],
      "execution_count": 147,
      "outputs": [
        {
          "output_type": "stream",
          "name": "stdout",
          "text": [
            "É provável que saia do banco:  [0]\n",
            "Probabilidade de 0 e 1:  [[0.91666667 0.08333333]]\n"
          ]
        }
      ]
    },
    {
      "cell_type": "code",
      "metadata": {
        "id": "4s_PK6Bo7JXw",
        "colab": {
          "base_uri": "https://localhost:8080/"
        },
        "outputId": "501a928e-c048-4d6e-8434-519923e074d1"
      },
      "source": [
        "#'CreditScore', 'Tenure', 'Balance', 'NumOfProducts', 'HasCrCard', 'EstimatedSalary'\n",
        "teste4 = np.array([[960, 5, 567000, 3, 1, 230000]])\n",
        "print('É provável que saia do banco: ', model.predict(teste4))\n",
        "print('Probabilidade de 0 e 1: ', model.predict_proba(teste4))"
      ],
      "execution_count": 148,
      "outputs": [
        {
          "output_type": "stream",
          "name": "stdout",
          "text": [
            "É provável que saia do banco:  [1]\n",
            "Probabilidade de 0 e 1:  [[0. 1.]]\n"
          ]
        }
      ]
    }
  ]
}